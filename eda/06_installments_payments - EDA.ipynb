{
  "cells": [
    {
      "cell_type": "markdown",
      "metadata": {},
      "source": [
        "#### This table lists out the repayment history of each of the loans that the applicant had with Home Credit Group. The table contains features like the amount of installment, how much did the client pay for each installments, etc."
      ]
    },
    {
      "cell_type": "code",
      "execution_count": 1,
      "metadata": {},
      "outputs": [],
      "source": [
        "import pandas as pd\n",
        "\n",
        "import numpy as np\n",
        "import matplotlib.pyplot as plt\n",
        "import seaborn as sns"
      ]
    },
    {
      "cell_type": "markdown",
      "metadata": {},
      "source": [
        "#### Load data installments payments"
      ]
    },
    {
      "cell_type": "code",
      "execution_count": 2,
      "metadata": {
        "id": "3Y8YGJuNCRhY"
      },
      "outputs": [
        {
          "data": {
            "text/html": [
              "<div>\n",
              "<style scoped>\n",
              "    .dataframe tbody tr th:only-of-type {\n",
              "        vertical-align: middle;\n",
              "    }\n",
              "\n",
              "    .dataframe tbody tr th {\n",
              "        vertical-align: top;\n",
              "    }\n",
              "\n",
              "    .dataframe thead th {\n",
              "        text-align: right;\n",
              "    }\n",
              "</style>\n",
              "<table border=\"1\" class=\"dataframe\">\n",
              "  <thead>\n",
              "    <tr style=\"text-align: right;\">\n",
              "      <th></th>\n",
              "      <th>SK_ID_PREV</th>\n",
              "      <th>NUM_INSTALMENT_VERSION</th>\n",
              "      <th>NUM_INSTALMENT_NUMBER</th>\n",
              "      <th>DAYS_INSTALMENT</th>\n",
              "      <th>DAYS_ENTRY_PAYMENT</th>\n",
              "      <th>AMT_INSTALMENT</th>\n",
              "      <th>AMT_PAYMENT</th>\n",
              "      <th>SK_ID_CURR</th>\n",
              "    </tr>\n",
              "  </thead>\n",
              "  <tbody>\n",
              "    <tr>\n",
              "      <th>0</th>\n",
              "      <td>1054186</td>\n",
              "      <td>1.0</td>\n",
              "      <td>6</td>\n",
              "      <td>-1180.0</td>\n",
              "      <td>-1187.0</td>\n",
              "      <td>6948.360</td>\n",
              "      <td>6948.360</td>\n",
              "      <td>147397.0</td>\n",
              "    </tr>\n",
              "    <tr>\n",
              "      <th>1</th>\n",
              "      <td>2452854</td>\n",
              "      <td>1.0</td>\n",
              "      <td>21</td>\n",
              "      <td>-546.0</td>\n",
              "      <td>-552.0</td>\n",
              "      <td>11302.605</td>\n",
              "      <td>11302.605</td>\n",
              "      <td>147397.0</td>\n",
              "    </tr>\n",
              "    <tr>\n",
              "      <th>2</th>\n",
              "      <td>1054186</td>\n",
              "      <td>1.0</td>\n",
              "      <td>2</td>\n",
              "      <td>-1300.0</td>\n",
              "      <td>-1307.0</td>\n",
              "      <td>6948.360</td>\n",
              "      <td>6948.360</td>\n",
              "      <td>147397.0</td>\n",
              "    </tr>\n",
              "    <tr>\n",
              "      <th>3</th>\n",
              "      <td>1682318</td>\n",
              "      <td>1.0</td>\n",
              "      <td>2</td>\n",
              "      <td>-240.0</td>\n",
              "      <td>-243.0</td>\n",
              "      <td>7374.510</td>\n",
              "      <td>7374.510</td>\n",
              "      <td>147397.0</td>\n",
              "    </tr>\n",
              "    <tr>\n",
              "      <th>4</th>\n",
              "      <td>2452854</td>\n",
              "      <td>1.0</td>\n",
              "      <td>10</td>\n",
              "      <td>-876.0</td>\n",
              "      <td>-882.0</td>\n",
              "      <td>11302.605</td>\n",
              "      <td>11302.605</td>\n",
              "      <td>147397.0</td>\n",
              "    </tr>\n",
              "    <tr>\n",
              "      <th>...</th>\n",
              "      <td>...</td>\n",
              "      <td>...</td>\n",
              "      <td>...</td>\n",
              "      <td>...</td>\n",
              "      <td>...</td>\n",
              "      <td>...</td>\n",
              "      <td>...</td>\n",
              "      <td>...</td>\n",
              "    </tr>\n",
              "    <tr>\n",
              "      <th>7744753</th>\n",
              "      <td>2192667</td>\n",
              "      <td>1.0</td>\n",
              "      <td>6</td>\n",
              "      <td>-2352.0</td>\n",
              "      <td>-2352.0</td>\n",
              "      <td>5322.240</td>\n",
              "      <td>5322.240</td>\n",
              "      <td>21216.0</td>\n",
              "    </tr>\n",
              "    <tr>\n",
              "      <th>7744754</th>\n",
              "      <td>2208281</td>\n",
              "      <td>1.0</td>\n",
              "      <td>4</td>\n",
              "      <td>-452.0</td>\n",
              "      <td>-466.0</td>\n",
              "      <td>63195.435</td>\n",
              "      <td>63195.435</td>\n",
              "      <td>21216.0</td>\n",
              "    </tr>\n",
              "    <tr>\n",
              "      <th>7744755</th>\n",
              "      <td>2657771</td>\n",
              "      <td>0.0</td>\n",
              "      <td>3</td>\n",
              "      <td>-2907.0</td>\n",
              "      <td>-2932.0</td>\n",
              "      <td>3375.000</td>\n",
              "      <td>3375.000</td>\n",
              "      <td>21216.0</td>\n",
              "    </tr>\n",
              "    <tr>\n",
              "      <th>7744756</th>\n",
              "      <td>2657771</td>\n",
              "      <td>0.0</td>\n",
              "      <td>47</td>\n",
              "      <td>-1871.0</td>\n",
              "      <td>-1871.0</td>\n",
              "      <td>4915.890</td>\n",
              "      <td>4915.890</td>\n",
              "      <td>21216.0</td>\n",
              "    </tr>\n",
              "    <tr>\n",
              "      <th>7744757</th>\n",
              "      <td>2657771</td>\n",
              "      <td>0.0</td>\n",
              "      <td>94</td>\n",
              "      <td>-4.0</td>\n",
              "      <td>NaN</td>\n",
              "      <td>NaN</td>\n",
              "      <td>NaN</td>\n",
              "      <td>NaN</td>\n",
              "    </tr>\n",
              "  </tbody>\n",
              "</table>\n",
              "<p>7744758 rows × 8 columns</p>\n",
              "</div>"
            ],
            "text/plain": [
              "         SK_ID_PREV  NUM_INSTALMENT_VERSION  NUM_INSTALMENT_NUMBER  \\\n",
              "0           1054186                     1.0                      6   \n",
              "1           2452854                     1.0                     21   \n",
              "2           1054186                     1.0                      2   \n",
              "3           1682318                     1.0                      2   \n",
              "4           2452854                     1.0                     10   \n",
              "...             ...                     ...                    ...   \n",
              "7744753     2192667                     1.0                      6   \n",
              "7744754     2208281                     1.0                      4   \n",
              "7744755     2657771                     0.0                      3   \n",
              "7744756     2657771                     0.0                     47   \n",
              "7744757     2657771                     0.0                     94   \n",
              "\n",
              "         DAYS_INSTALMENT  DAYS_ENTRY_PAYMENT  AMT_INSTALMENT  AMT_PAYMENT  \\\n",
              "0                -1180.0             -1187.0        6948.360     6948.360   \n",
              "1                 -546.0              -552.0       11302.605    11302.605   \n",
              "2                -1300.0             -1307.0        6948.360     6948.360   \n",
              "3                 -240.0              -243.0        7374.510     7374.510   \n",
              "4                 -876.0              -882.0       11302.605    11302.605   \n",
              "...                  ...                 ...             ...          ...   \n",
              "7744753          -2352.0             -2352.0        5322.240     5322.240   \n",
              "7744754           -452.0              -466.0       63195.435    63195.435   \n",
              "7744755          -2907.0             -2932.0        3375.000     3375.000   \n",
              "7744756          -1871.0             -1871.0        4915.890     4915.890   \n",
              "7744757             -4.0                 NaN             NaN          NaN   \n",
              "\n",
              "         SK_ID_CURR  \n",
              "0          147397.0  \n",
              "1          147397.0  \n",
              "2          147397.0  \n",
              "3          147397.0  \n",
              "4          147397.0  \n",
              "...             ...  \n",
              "7744753     21216.0  \n",
              "7744754     21216.0  \n",
              "7744755     21216.0  \n",
              "7744756     21216.0  \n",
              "7744757         NaN  \n",
              "\n",
              "[7744758 rows x 8 columns]"
            ]
          },
          "execution_count": 2,
          "metadata": {},
          "output_type": "execute_result"
        }
      ],
      "source": [
        "installments_payments = pd.read_csv('../DATA RAW/dseb63_installments_payments.csv')\n",
        "installments_payments"
      ]
    },
    {
      "cell_type": "code",
      "execution_count": 3,
      "metadata": {},
      "outputs": [
        {
          "name": "stdout",
          "output_type": "stream",
          "text": [
            "<class 'pandas.core.frame.DataFrame'>\n",
            "RangeIndex: 7744758 entries, 0 to 7744757\n",
            "Data columns (total 8 columns):\n",
            " #   Column                  Dtype  \n",
            "---  ------                  -----  \n",
            " 0   SK_ID_PREV              int64  \n",
            " 1   NUM_INSTALMENT_VERSION  float64\n",
            " 2   NUM_INSTALMENT_NUMBER   int64  \n",
            " 3   DAYS_INSTALMENT         float64\n",
            " 4   DAYS_ENTRY_PAYMENT      float64\n",
            " 5   AMT_INSTALMENT          float64\n",
            " 6   AMT_PAYMENT             float64\n",
            " 7   SK_ID_CURR              float64\n",
            "dtypes: float64(6), int64(2)\n",
            "memory usage: 472.7 MB\n"
          ]
        }
      ],
      "source": [
        "installments_payments.info()"
      ]
    },
    {
      "cell_type": "markdown",
      "metadata": {},
      "source": [
        "- SK_ID_PREV: ID of previous credit in Home Credit related to loan in our sample\n",
        "- SK_ID_CURR: ID of loan in our sample\n",
        "- NUM_INSTALMENT_VERSION: Version of installment calendar (0 is for credit card) of previous credit. Change of installment version from month to month signifies that some parameter of payment calendar has changed\n",
        "- NUM_INSTALMENT_NUMBER : On which installment we observe payment (how much installment amount)\n",
        "- DAYS_INSTALMENT: When the installment of previous credit was supposed to be paid (relative to application date of current loan),time only relative to the application (installment date)\n",
        "- DAYS_ENTRY_PAYMENT: When was the installments of previous credit paid actually\n",
        "- AMT_INSTALMENT: What was the prescribed installment amount of previous credit on this installment\n",
        "- AMT_PAYMENT: What the client actually paid on previous credit on this installment"
      ]
    },
    {
      "cell_type": "markdown",
      "metadata": {},
      "source": [
        "#### Check duplicated, unique and null "
      ]
    },
    {
      "cell_type": "code",
      "execution_count": 4,
      "metadata": {},
      "outputs": [
        {
          "data": {
            "text/plain": [
              "0"
            ]
          },
          "execution_count": 4,
          "metadata": {},
          "output_type": "execute_result"
        }
      ],
      "source": [
        "installments_payments.duplicated().sum()"
      ]
    },
    {
      "cell_type": "code",
      "execution_count": 5,
      "metadata": {},
      "outputs": [
        {
          "data": {
            "text/plain": [
              "2123825"
            ]
          },
          "execution_count": 5,
          "metadata": {},
          "output_type": "execute_result"
        }
      ],
      "source": [
        "installments_payments.nunique().sum()"
      ]
    },
    {
      "cell_type": "code",
      "execution_count": 6,
      "metadata": {},
      "outputs": [
        {
          "data": {
            "text/plain": [
              "SK_ID_PREV                   0\n",
              "NUM_INSTALMENT_VERSION       0\n",
              "NUM_INSTALMENT_NUMBER        0\n",
              "DAYS_INSTALMENT              0\n",
              "DAYS_ENTRY_PAYMENT        1639\n",
              "AMT_INSTALMENT               1\n",
              "AMT_PAYMENT               1639\n",
              "SK_ID_CURR                   1\n",
              "dtype: int64"
            ]
          },
          "execution_count": 6,
          "metadata": {},
          "output_type": "execute_result"
        }
      ],
      "source": [
        "installments_payments.isnull().sum()"
      ]
    },
    {
      "cell_type": "code",
      "execution_count": 7,
      "metadata": {},
      "outputs": [],
      "source": [
        "def check_missed_values(df):\n",
        "    df_null_percentage = df.isnull().sum() / df.shape[0] * 100\n",
        "    df_null_percentage = df_null_percentage.drop(df_null_percentage[df_null_percentage == 0].index).sort_values(ascending= False).reset_index()\n",
        "    df_null_percentage.columns = [\"Feature\", \"Percentage\"]\n",
        "    return df_null_percentage\n",
        "\n",
        "null_df = check_missed_values(installments_payments)"
      ]
    },
    {
      "cell_type": "code",
      "execution_count": 8,
      "metadata": {},
      "outputs": [
        {
          "data": {
            "text/plain": [
              "<AxesSubplot:xlabel='Percentage', ylabel='Feature'>"
            ]
          },
          "execution_count": 8,
          "metadata": {},
          "output_type": "execute_result"
        },
        {
          "data": {
            "image/png": "[encoded data removed]",
            "text/plain": [
              "<Figure size 1152x360 with 1 Axes>"
            ]
          },
          "metadata": {
            "needs_background": "light"
          },
          "output_type": "display_data"
        }
      ],
      "source": [
        "plt.figure(figsize=(16,5))\n",
        "sns.barplot(x=  null_df[\"Percentage\"] , y= null_df[\"Feature\"] )"
      ]
    },
    {
      "cell_type": "markdown",
      "metadata": {},
      "source": [
        "- There are only 2 columns which contain NaN values of the 8 columns from installments_payments.\n",
        "- These columns also contain very minimal proportion of NaN values, i.e only 0.02%, so it is not of much concern."
      ]
    },
    {
      "cell_type": "markdown",
      "metadata": {},
      "source": [
        "#### Load data applicatiation train"
      ]
    },
    {
      "cell_type": "code",
      "execution_count": 9,
      "metadata": {
        "id": "wPLWaiMGmzke"
      },
      "outputs": [
        {
          "data": {
            "text/html": [
              "<div>\n",
              "<style scoped>\n",
              "    .dataframe tbody tr th:only-of-type {\n",
              "        vertical-align: middle;\n",
              "    }\n",
              "\n",
              "    .dataframe tbody tr th {\n",
              "        vertical-align: top;\n",
              "    }\n",
              "\n",
              "    .dataframe thead th {\n",
              "        text-align: right;\n",
              "    }\n",
              "</style>\n",
              "<table border=\"1\" class=\"dataframe\">\n",
              "  <thead>\n",
              "    <tr style=\"text-align: right;\">\n",
              "      <th></th>\n",
              "      <th>SK_ID_CURR</th>\n",
              "      <th>TARGET</th>\n",
              "    </tr>\n",
              "  </thead>\n",
              "  <tbody>\n",
              "    <tr>\n",
              "      <th>0</th>\n",
              "      <td>278621</td>\n",
              "      <td>0</td>\n",
              "    </tr>\n",
              "    <tr>\n",
              "      <th>1</th>\n",
              "      <td>139008</td>\n",
              "      <td>0</td>\n",
              "    </tr>\n",
              "    <tr>\n",
              "      <th>2</th>\n",
              "      <td>138348</td>\n",
              "      <td>0</td>\n",
              "    </tr>\n",
              "    <tr>\n",
              "      <th>3</th>\n",
              "      <td>64140</td>\n",
              "      <td>0</td>\n",
              "    </tr>\n",
              "    <tr>\n",
              "      <th>4</th>\n",
              "      <td>219374</td>\n",
              "      <td>0</td>\n",
              "    </tr>\n",
              "    <tr>\n",
              "      <th>5</th>\n",
              "      <td>53466</td>\n",
              "      <td>0</td>\n",
              "    </tr>\n",
              "    <tr>\n",
              "      <th>6</th>\n",
              "      <td>27272</td>\n",
              "      <td>0</td>\n",
              "    </tr>\n",
              "    <tr>\n",
              "      <th>7</th>\n",
              "      <td>218056</td>\n",
              "      <td>0</td>\n",
              "    </tr>\n",
              "    <tr>\n",
              "      <th>8</th>\n",
              "      <td>52390</td>\n",
              "      <td>0</td>\n",
              "    </tr>\n",
              "    <tr>\n",
              "      <th>9</th>\n",
              "      <td>268198</td>\n",
              "      <td>0</td>\n",
              "    </tr>\n",
              "  </tbody>\n",
              "</table>\n",
              "</div>"
            ],
            "text/plain": [
              "   SK_ID_CURR  TARGET\n",
              "0      278621       0\n",
              "1      139008       0\n",
              "2      138348       0\n",
              "3       64140       0\n",
              "4      219374       0\n",
              "5       53466       0\n",
              "6       27272       0\n",
              "7      218056       0\n",
              "8       52390       0\n",
              "9      268198       0"
            ]
          },
          "execution_count": 9,
          "metadata": {},
          "output_type": "execute_result"
        }
      ],
      "source": [
        "application_train = pd.read_csv('../DATA RAW/dseb63_application_train.csv')\n",
        "# Only keep the SK_ID_CURR column and target variable\n",
        "application_train = application_train[['SK_ID_CURR', 'TARGET']]\n",
        "application_train.head(10)"
      ]
    },
    {
      "cell_type": "markdown",
      "metadata": {},
      "source": [
        "#### Drop duplicated"
      ]
    },
    {
      "cell_type": "code",
      "execution_count": 10,
      "metadata": {
        "id": "skcS3DOJxSfi"
      },
      "outputs": [],
      "source": [
        "installments_payments = installments_payments[~installments_payments['SK_ID_CURR'].duplicated(keep='first')]\n",
        "application_train = application_train[~application_train['SK_ID_CURR'].duplicated(keep='first')]"
      ]
    },
    {
      "cell_type": "markdown",
      "metadata": {},
      "source": [
        "#### Merge application_train to installments_payments table"
      ]
    },
    {
      "cell_type": "code",
      "execution_count": 11,
      "metadata": {
        "id": "3n4_RBTnnXRs"
      },
      "outputs": [],
      "source": [
        "# Create a new DataFrame from combining by column SK_ID_CURR\n",
        "result_df = pd.merge(installments_payments, application_train, on='SK_ID_CURR', how='inner')\n",
        "# result_df = pd.merge(application_train, installments_payments, how='inner', left_on='SK_ID_CURR', right_on='SK_ID_CURR')\n",
        "# result_df = pd.merge(application_train, installments_payments, how='left', left_on='SK_ID_CURR', right_on='SK_ID_CURR')\n",
        "\n",
        "# Reset the index to have a new DataFrame with the SK_ID_CURR column as the index column\n",
        "result_df.reset_index(inplace=True)"
      ]
    },
    {
      "cell_type": "code",
      "execution_count": 12,
      "metadata": {
        "colab": {
          "base_uri": "https://localhost:8080/",
          "height": 1000
        },
        "id": "6Iy1WOHcxU4H",
        "outputId": "66712d2e-f2e6-4bb0-f71e-09da3a6fd919"
      },
      "outputs": [
        {
          "data": {
            "text/html": [
              "<div>\n",
              "<style scoped>\n",
              "    .dataframe tbody tr th:only-of-type {\n",
              "        vertical-align: middle;\n",
              "    }\n",
              "\n",
              "    .dataframe tbody tr th {\n",
              "        vertical-align: top;\n",
              "    }\n",
              "\n",
              "    .dataframe thead th {\n",
              "        text-align: right;\n",
              "    }\n",
              "</style>\n",
              "<table border=\"1\" class=\"dataframe\">\n",
              "  <thead>\n",
              "    <tr style=\"text-align: right;\">\n",
              "      <th></th>\n",
              "      <th>index</th>\n",
              "      <th>SK_ID_PREV</th>\n",
              "      <th>NUM_INSTALMENT_VERSION</th>\n",
              "      <th>NUM_INSTALMENT_NUMBER</th>\n",
              "      <th>DAYS_INSTALMENT</th>\n",
              "      <th>DAYS_ENTRY_PAYMENT</th>\n",
              "      <th>AMT_INSTALMENT</th>\n",
              "      <th>AMT_PAYMENT</th>\n",
              "      <th>SK_ID_CURR</th>\n",
              "      <th>TARGET</th>\n",
              "    </tr>\n",
              "  </thead>\n",
              "  <tbody>\n",
              "    <tr>\n",
              "      <th>0</th>\n",
              "      <td>0</td>\n",
              "      <td>1054186</td>\n",
              "      <td>1.0</td>\n",
              "      <td>6</td>\n",
              "      <td>-1180.0</td>\n",
              "      <td>-1187.0</td>\n",
              "      <td>6948.360</td>\n",
              "      <td>6948.360</td>\n",
              "      <td>147397.0</td>\n",
              "      <td>0</td>\n",
              "    </tr>\n",
              "    <tr>\n",
              "      <th>1</th>\n",
              "      <td>1</td>\n",
              "      <td>1330831</td>\n",
              "      <td>0.0</td>\n",
              "      <td>34</td>\n",
              "      <td>-2156.0</td>\n",
              "      <td>-2156.0</td>\n",
              "      <td>1716.525</td>\n",
              "      <td>1716.525</td>\n",
              "      <td>70226.0</td>\n",
              "      <td>0</td>\n",
              "    </tr>\n",
              "    <tr>\n",
              "      <th>2</th>\n",
              "      <td>2</td>\n",
              "      <td>2085231</td>\n",
              "      <td>2.0</td>\n",
              "      <td>1</td>\n",
              "      <td>-63.0</td>\n",
              "      <td>-63.0</td>\n",
              "      <td>25425.000</td>\n",
              "      <td>25425.000</td>\n",
              "      <td>56266.0</td>\n",
              "      <td>0</td>\n",
              "    </tr>\n",
              "    <tr>\n",
              "      <th>3</th>\n",
              "      <td>3</td>\n",
              "      <td>2452527</td>\n",
              "      <td>1.0</td>\n",
              "      <td>3</td>\n",
              "      <td>-2418.0</td>\n",
              "      <td>-2426.0</td>\n",
              "      <td>24350.130</td>\n",
              "      <td>24350.130</td>\n",
              "      <td>273159.0</td>\n",
              "      <td>0</td>\n",
              "    </tr>\n",
              "    <tr>\n",
              "      <th>4</th>\n",
              "      <td>4</td>\n",
              "      <td>2714724</td>\n",
              "      <td>1.0</td>\n",
              "      <td>2</td>\n",
              "      <td>-1383.0</td>\n",
              "      <td>-1366.0</td>\n",
              "      <td>2165.040</td>\n",
              "      <td>2160.585</td>\n",
              "      <td>235198.0</td>\n",
              "      <td>0</td>\n",
              "    </tr>\n",
              "    <tr>\n",
              "      <th>5</th>\n",
              "      <td>5</td>\n",
              "      <td>1137312</td>\n",
              "      <td>1.0</td>\n",
              "      <td>12</td>\n",
              "      <td>-1384.0</td>\n",
              "      <td>-1417.0</td>\n",
              "      <td>5970.375</td>\n",
              "      <td>5970.375</td>\n",
              "      <td>285719.0</td>\n",
              "      <td>0</td>\n",
              "    </tr>\n",
              "    <tr>\n",
              "      <th>6</th>\n",
              "      <td>6</td>\n",
              "      <td>2234264</td>\n",
              "      <td>4.0</td>\n",
              "      <td>11</td>\n",
              "      <td>-349.0</td>\n",
              "      <td>-352.0</td>\n",
              "      <td>29432.295</td>\n",
              "      <td>29432.295</td>\n",
              "      <td>65411.0</td>\n",
              "      <td>0</td>\n",
              "    </tr>\n",
              "    <tr>\n",
              "      <th>7</th>\n",
              "      <td>7</td>\n",
              "      <td>1818599</td>\n",
              "      <td>2.0</td>\n",
              "      <td>4</td>\n",
              "      <td>-968.0</td>\n",
              "      <td>-994.0</td>\n",
              "      <td>17862.165</td>\n",
              "      <td>17862.165</td>\n",
              "      <td>43612.0</td>\n",
              "      <td>0</td>\n",
              "    </tr>\n",
              "    <tr>\n",
              "      <th>8</th>\n",
              "      <td>8</td>\n",
              "      <td>1782554</td>\n",
              "      <td>1.0</td>\n",
              "      <td>3</td>\n",
              "      <td>-933.0</td>\n",
              "      <td>-937.0</td>\n",
              "      <td>34620.525</td>\n",
              "      <td>34620.525</td>\n",
              "      <td>85360.0</td>\n",
              "      <td>0</td>\n",
              "    </tr>\n",
              "    <tr>\n",
              "      <th>9</th>\n",
              "      <td>9</td>\n",
              "      <td>2558880</td>\n",
              "      <td>1.0</td>\n",
              "      <td>8</td>\n",
              "      <td>-1262.0</td>\n",
              "      <td>-1269.0</td>\n",
              "      <td>15031.080</td>\n",
              "      <td>15031.080</td>\n",
              "      <td>104947.0</td>\n",
              "      <td>0</td>\n",
              "    </tr>\n",
              "    <tr>\n",
              "      <th>10</th>\n",
              "      <td>10</td>\n",
              "      <td>1594684</td>\n",
              "      <td>0.0</td>\n",
              "      <td>56</td>\n",
              "      <td>-1153.0</td>\n",
              "      <td>-1153.0</td>\n",
              "      <td>301.860</td>\n",
              "      <td>301.860</td>\n",
              "      <td>155071.0</td>\n",
              "      <td>0</td>\n",
              "    </tr>\n",
              "    <tr>\n",
              "      <th>11</th>\n",
              "      <td>11</td>\n",
              "      <td>1456258</td>\n",
              "      <td>1.0</td>\n",
              "      <td>6</td>\n",
              "      <td>-2619.0</td>\n",
              "      <td>-2619.0</td>\n",
              "      <td>4844.925</td>\n",
              "      <td>4844.925</td>\n",
              "      <td>133089.0</td>\n",
              "      <td>0</td>\n",
              "    </tr>\n",
              "    <tr>\n",
              "      <th>12</th>\n",
              "      <td>12</td>\n",
              "      <td>1053286</td>\n",
              "      <td>1.0</td>\n",
              "      <td>7</td>\n",
              "      <td>-500.0</td>\n",
              "      <td>-503.0</td>\n",
              "      <td>6882.840</td>\n",
              "      <td>6882.840</td>\n",
              "      <td>175604.0</td>\n",
              "      <td>0</td>\n",
              "    </tr>\n",
              "    <tr>\n",
              "      <th>13</th>\n",
              "      <td>13</td>\n",
              "      <td>1410565</td>\n",
              "      <td>1.0</td>\n",
              "      <td>1</td>\n",
              "      <td>-1037.0</td>\n",
              "      <td>-1048.0</td>\n",
              "      <td>12514.050</td>\n",
              "      <td>12510.450</td>\n",
              "      <td>211211.0</td>\n",
              "      <td>0</td>\n",
              "    </tr>\n",
              "    <tr>\n",
              "      <th>14</th>\n",
              "      <td>14</td>\n",
              "      <td>2260765</td>\n",
              "      <td>3.0</td>\n",
              "      <td>23</td>\n",
              "      <td>-56.0</td>\n",
              "      <td>-59.0</td>\n",
              "      <td>13494.915</td>\n",
              "      <td>13494.915</td>\n",
              "      <td>268480.0</td>\n",
              "      <td>0</td>\n",
              "    </tr>\n",
              "    <tr>\n",
              "      <th>15</th>\n",
              "      <td>15</td>\n",
              "      <td>1995642</td>\n",
              "      <td>1.0</td>\n",
              "      <td>38</td>\n",
              "      <td>-1277.0</td>\n",
              "      <td>-1282.0</td>\n",
              "      <td>12949.200</td>\n",
              "      <td>12949.200</td>\n",
              "      <td>235542.0</td>\n",
              "      <td>1</td>\n",
              "    </tr>\n",
              "    <tr>\n",
              "      <th>16</th>\n",
              "      <td>16</td>\n",
              "      <td>1991673</td>\n",
              "      <td>0.0</td>\n",
              "      <td>46</td>\n",
              "      <td>-2548.0</td>\n",
              "      <td>-2561.0</td>\n",
              "      <td>5400.000</td>\n",
              "      <td>5400.000</td>\n",
              "      <td>183983.0</td>\n",
              "      <td>0</td>\n",
              "    </tr>\n",
              "    <tr>\n",
              "      <th>17</th>\n",
              "      <td>17</td>\n",
              "      <td>1181315</td>\n",
              "      <td>1.0</td>\n",
              "      <td>7</td>\n",
              "      <td>-1894.0</td>\n",
              "      <td>-1895.0</td>\n",
              "      <td>16274.790</td>\n",
              "      <td>16274.790</td>\n",
              "      <td>116066.0</td>\n",
              "      <td>0</td>\n",
              "    </tr>\n",
              "    <tr>\n",
              "      <th>18</th>\n",
              "      <td>18</td>\n",
              "      <td>1840786</td>\n",
              "      <td>1.0</td>\n",
              "      <td>11</td>\n",
              "      <td>-476.0</td>\n",
              "      <td>-474.0</td>\n",
              "      <td>21179.700</td>\n",
              "      <td>21161.700</td>\n",
              "      <td>271449.0</td>\n",
              "      <td>0</td>\n",
              "    </tr>\n",
              "    <tr>\n",
              "      <th>19</th>\n",
              "      <td>19</td>\n",
              "      <td>1618622</td>\n",
              "      <td>1.0</td>\n",
              "      <td>5</td>\n",
              "      <td>-2807.0</td>\n",
              "      <td>-2807.0</td>\n",
              "      <td>6523.425</td>\n",
              "      <td>6523.425</td>\n",
              "      <td>8700.0</td>\n",
              "      <td>1</td>\n",
              "    </tr>\n",
              "  </tbody>\n",
              "</table>\n",
              "</div>"
            ],
            "text/plain": [
              "    index  SK_ID_PREV  NUM_INSTALMENT_VERSION  NUM_INSTALMENT_NUMBER  \\\n",
              "0       0     1054186                     1.0                      6   \n",
              "1       1     1330831                     0.0                     34   \n",
              "2       2     2085231                     2.0                      1   \n",
              "3       3     2452527                     1.0                      3   \n",
              "4       4     2714724                     1.0                      2   \n",
              "5       5     1137312                     1.0                     12   \n",
              "6       6     2234264                     4.0                     11   \n",
              "7       7     1818599                     2.0                      4   \n",
              "8       8     1782554                     1.0                      3   \n",
              "9       9     2558880                     1.0                      8   \n",
              "10     10     1594684                     0.0                     56   \n",
              "11     11     1456258                     1.0                      6   \n",
              "12     12     1053286                     1.0                      7   \n",
              "13     13     1410565                     1.0                      1   \n",
              "14     14     2260765                     3.0                     23   \n",
              "15     15     1995642                     1.0                     38   \n",
              "16     16     1991673                     0.0                     46   \n",
              "17     17     1181315                     1.0                      7   \n",
              "18     18     1840786                     1.0                     11   \n",
              "19     19     1618622                     1.0                      5   \n",
              "\n",
              "    DAYS_INSTALMENT  DAYS_ENTRY_PAYMENT  AMT_INSTALMENT  AMT_PAYMENT  \\\n",
              "0           -1180.0             -1187.0        6948.360     6948.360   \n",
              "1           -2156.0             -2156.0        1716.525     1716.525   \n",
              "2             -63.0               -63.0       25425.000    25425.000   \n",
              "3           -2418.0             -2426.0       24350.130    24350.130   \n",
              "4           -1383.0             -1366.0        2165.040     2160.585   \n",
              "5           -1384.0             -1417.0        5970.375     5970.375   \n",
              "6            -349.0              -352.0       29432.295    29432.295   \n",
              "7            -968.0              -994.0       17862.165    17862.165   \n",
              "8            -933.0              -937.0       34620.525    34620.525   \n",
              "9           -1262.0             -1269.0       15031.080    15031.080   \n",
              "10          -1153.0             -1153.0         301.860      301.860   \n",
              "11          -2619.0             -2619.0        4844.925     4844.925   \n",
              "12           -500.0              -503.0        6882.840     6882.840   \n",
              "13          -1037.0             -1048.0       12514.050    12510.450   \n",
              "14            -56.0               -59.0       13494.915    13494.915   \n",
              "15          -1277.0             -1282.0       12949.200    12949.200   \n",
              "16          -2548.0             -2561.0        5400.000     5400.000   \n",
              "17          -1894.0             -1895.0       16274.790    16274.790   \n",
              "18           -476.0              -474.0       21179.700    21161.700   \n",
              "19          -2807.0             -2807.0        6523.425     6523.425   \n",
              "\n",
              "    SK_ID_CURR  TARGET  \n",
              "0     147397.0       0  \n",
              "1      70226.0       0  \n",
              "2      56266.0       0  \n",
              "3     273159.0       0  \n",
              "4     235198.0       0  \n",
              "5     285719.0       0  \n",
              "6      65411.0       0  \n",
              "7      43612.0       0  \n",
              "8      85360.0       0  \n",
              "9     104947.0       0  \n",
              "10    155071.0       0  \n",
              "11    133089.0       0  \n",
              "12    175604.0       0  \n",
              "13    211211.0       0  \n",
              "14    268480.0       0  \n",
              "15    235542.0       1  \n",
              "16    183983.0       0  \n",
              "17    116066.0       0  \n",
              "18    271449.0       0  \n",
              "19      8700.0       1  "
            ]
          },
          "execution_count": 12,
          "metadata": {},
          "output_type": "execute_result"
        }
      ],
      "source": [
        "result_df.head(20)"
      ]
    },
    {
      "cell_type": "code",
      "execution_count": 13,
      "metadata": {
        "colab": {
          "base_uri": "https://localhost:8080/"
        },
        "id": "nd9GcffqCbzo",
        "outputId": "b91d3819-54df-42c5-a53e-1869616c9fc9"
      },
      "outputs": [
        {
          "name": "stdout",
          "output_type": "stream",
          "text": [
            "(144408, 10)\n"
          ]
        },
        {
          "data": {
            "text/plain": [
              "index                       int64\n",
              "SK_ID_PREV                  int64\n",
              "NUM_INSTALMENT_VERSION    float64\n",
              "NUM_INSTALMENT_NUMBER       int64\n",
              "DAYS_INSTALMENT           float64\n",
              "DAYS_ENTRY_PAYMENT        float64\n",
              "AMT_INSTALMENT            float64\n",
              "AMT_PAYMENT               float64\n",
              "SK_ID_CURR                float64\n",
              "TARGET                      int64\n",
              "dtype: object"
            ]
          },
          "execution_count": 13,
          "metadata": {},
          "output_type": "execute_result"
        }
      ],
      "source": [
        "print(result_df.shape)\n",
        "result_df.dtypes"
      ]
    },
    {
      "cell_type": "code",
      "execution_count": 14,
      "metadata": {
        "id": "CpVNCPcGKslt"
      },
      "outputs": [],
      "source": [
        "result_df_1 = result_df.copy()"
      ]
    },
    {
      "cell_type": "code",
      "execution_count": 15,
      "metadata": {},
      "outputs": [
        {
          "data": {
            "text/plain": [
              "index                     0\n",
              "SK_ID_PREV                0\n",
              "NUM_INSTALMENT_VERSION    0\n",
              "NUM_INSTALMENT_NUMBER     0\n",
              "DAYS_INSTALMENT           0\n",
              "DAYS_ENTRY_PAYMENT        1\n",
              "AMT_INSTALMENT            0\n",
              "AMT_PAYMENT               1\n",
              "SK_ID_CURR                0\n",
              "TARGET                    0\n",
              "dtype: int64"
            ]
          },
          "execution_count": 15,
          "metadata": {},
          "output_type": "execute_result"
        }
      ],
      "source": [
        "# Check for null values\n",
        "result_df_1.isnull().sum()"
      ]
    },
    {
      "cell_type": "markdown",
      "metadata": {
        "id": "660L1imv2M1V"
      },
      "source": [
        "#### Handling Nan value"
      ]
    },
    {
      "cell_type": "code",
      "execution_count": 16,
      "metadata": {
        "id": "1AHyWSDwKcZN"
      },
      "outputs": [
        {
          "data": {
            "text/html": [
              "<div>\n",
              "<style scoped>\n",
              "    .dataframe tbody tr th:only-of-type {\n",
              "        vertical-align: middle;\n",
              "    }\n",
              "\n",
              "    .dataframe tbody tr th {\n",
              "        vertical-align: top;\n",
              "    }\n",
              "\n",
              "    .dataframe thead th {\n",
              "        text-align: right;\n",
              "    }\n",
              "</style>\n",
              "<table border=\"1\" class=\"dataframe\">\n",
              "  <thead>\n",
              "    <tr style=\"text-align: right;\">\n",
              "      <th></th>\n",
              "      <th>index</th>\n",
              "      <th>SK_ID_PREV</th>\n",
              "      <th>NUM_INSTALMENT_VERSION</th>\n",
              "      <th>NUM_INSTALMENT_NUMBER</th>\n",
              "      <th>DAYS_INSTALMENT</th>\n",
              "      <th>DAYS_ENTRY_PAYMENT</th>\n",
              "      <th>AMT_INSTALMENT</th>\n",
              "      <th>AMT_PAYMENT</th>\n",
              "      <th>SK_ID_CURR</th>\n",
              "      <th>TARGET</th>\n",
              "    </tr>\n",
              "  </thead>\n",
              "  <tbody>\n",
              "    <tr>\n",
              "      <th>0</th>\n",
              "      <td>0</td>\n",
              "      <td>1054186</td>\n",
              "      <td>1.0</td>\n",
              "      <td>6</td>\n",
              "      <td>-1180.0</td>\n",
              "      <td>-1187.0</td>\n",
              "      <td>6948.360</td>\n",
              "      <td>6948.360</td>\n",
              "      <td>147397.0</td>\n",
              "      <td>0</td>\n",
              "    </tr>\n",
              "    <tr>\n",
              "      <th>1</th>\n",
              "      <td>1</td>\n",
              "      <td>1330831</td>\n",
              "      <td>0.0</td>\n",
              "      <td>34</td>\n",
              "      <td>-2156.0</td>\n",
              "      <td>-2156.0</td>\n",
              "      <td>1716.525</td>\n",
              "      <td>1716.525</td>\n",
              "      <td>70226.0</td>\n",
              "      <td>0</td>\n",
              "    </tr>\n",
              "    <tr>\n",
              "      <th>2</th>\n",
              "      <td>2</td>\n",
              "      <td>2085231</td>\n",
              "      <td>2.0</td>\n",
              "      <td>1</td>\n",
              "      <td>-63.0</td>\n",
              "      <td>-63.0</td>\n",
              "      <td>25425.000</td>\n",
              "      <td>25425.000</td>\n",
              "      <td>56266.0</td>\n",
              "      <td>0</td>\n",
              "    </tr>\n",
              "    <tr>\n",
              "      <th>3</th>\n",
              "      <td>3</td>\n",
              "      <td>2452527</td>\n",
              "      <td>1.0</td>\n",
              "      <td>3</td>\n",
              "      <td>-2418.0</td>\n",
              "      <td>-2426.0</td>\n",
              "      <td>24350.130</td>\n",
              "      <td>24350.130</td>\n",
              "      <td>273159.0</td>\n",
              "      <td>0</td>\n",
              "    </tr>\n",
              "    <tr>\n",
              "      <th>4</th>\n",
              "      <td>4</td>\n",
              "      <td>2714724</td>\n",
              "      <td>1.0</td>\n",
              "      <td>2</td>\n",
              "      <td>-1383.0</td>\n",
              "      <td>-1366.0</td>\n",
              "      <td>2165.040</td>\n",
              "      <td>2160.585</td>\n",
              "      <td>235198.0</td>\n",
              "      <td>0</td>\n",
              "    </tr>\n",
              "    <tr>\n",
              "      <th>...</th>\n",
              "      <td>...</td>\n",
              "      <td>...</td>\n",
              "      <td>...</td>\n",
              "      <td>...</td>\n",
              "      <td>...</td>\n",
              "      <td>...</td>\n",
              "      <td>...</td>\n",
              "      <td>...</td>\n",
              "      <td>...</td>\n",
              "      <td>...</td>\n",
              "    </tr>\n",
              "    <tr>\n",
              "      <th>144403</th>\n",
              "      <td>144403</td>\n",
              "      <td>1963503</td>\n",
              "      <td>1.0</td>\n",
              "      <td>5</td>\n",
              "      <td>-2497.0</td>\n",
              "      <td>-2555.0</td>\n",
              "      <td>31325.985</td>\n",
              "      <td>31325.985</td>\n",
              "      <td>7593.0</td>\n",
              "      <td>0</td>\n",
              "    </tr>\n",
              "    <tr>\n",
              "      <th>144404</th>\n",
              "      <td>144404</td>\n",
              "      <td>2599856</td>\n",
              "      <td>1.0</td>\n",
              "      <td>9</td>\n",
              "      <td>-870.0</td>\n",
              "      <td>-847.0</td>\n",
              "      <td>16355.880</td>\n",
              "      <td>52.920</td>\n",
              "      <td>72892.0</td>\n",
              "      <td>0</td>\n",
              "    </tr>\n",
              "    <tr>\n",
              "      <th>144405</th>\n",
              "      <td>144405</td>\n",
              "      <td>1437320</td>\n",
              "      <td>1.0</td>\n",
              "      <td>7</td>\n",
              "      <td>-1963.0</td>\n",
              "      <td>-1963.0</td>\n",
              "      <td>4846.140</td>\n",
              "      <td>4846.140</td>\n",
              "      <td>66054.0</td>\n",
              "      <td>0</td>\n",
              "    </tr>\n",
              "    <tr>\n",
              "      <th>144406</th>\n",
              "      <td>144406</td>\n",
              "      <td>1670184</td>\n",
              "      <td>1.0</td>\n",
              "      <td>9</td>\n",
              "      <td>-99.0</td>\n",
              "      <td>-98.0</td>\n",
              "      <td>7186.455</td>\n",
              "      <td>7186.455</td>\n",
              "      <td>143631.0</td>\n",
              "      <td>0</td>\n",
              "    </tr>\n",
              "    <tr>\n",
              "      <th>144407</th>\n",
              "      <td>144407</td>\n",
              "      <td>2657771</td>\n",
              "      <td>0.0</td>\n",
              "      <td>42</td>\n",
              "      <td>-2024.0</td>\n",
              "      <td>-2024.0</td>\n",
              "      <td>4915.890</td>\n",
              "      <td>4915.890</td>\n",
              "      <td>21216.0</td>\n",
              "      <td>0</td>\n",
              "    </tr>\n",
              "  </tbody>\n",
              "</table>\n",
              "<p>144408 rows × 10 columns</p>\n",
              "</div>"
            ],
            "text/plain": [
              "         index  SK_ID_PREV  NUM_INSTALMENT_VERSION  NUM_INSTALMENT_NUMBER  \\\n",
              "0            0     1054186                     1.0                      6   \n",
              "1            1     1330831                     0.0                     34   \n",
              "2            2     2085231                     2.0                      1   \n",
              "3            3     2452527                     1.0                      3   \n",
              "4            4     2714724                     1.0                      2   \n",
              "...        ...         ...                     ...                    ...   \n",
              "144403  144403     1963503                     1.0                      5   \n",
              "144404  144404     2599856                     1.0                      9   \n",
              "144405  144405     1437320                     1.0                      7   \n",
              "144406  144406     1670184                     1.0                      9   \n",
              "144407  144407     2657771                     0.0                     42   \n",
              "\n",
              "        DAYS_INSTALMENT  DAYS_ENTRY_PAYMENT  AMT_INSTALMENT  AMT_PAYMENT  \\\n",
              "0               -1180.0             -1187.0        6948.360     6948.360   \n",
              "1               -2156.0             -2156.0        1716.525     1716.525   \n",
              "2                 -63.0               -63.0       25425.000    25425.000   \n",
              "3               -2418.0             -2426.0       24350.130    24350.130   \n",
              "4               -1383.0             -1366.0        2165.040     2160.585   \n",
              "...                 ...                 ...             ...          ...   \n",
              "144403          -2497.0             -2555.0       31325.985    31325.985   \n",
              "144404           -870.0              -847.0       16355.880       52.920   \n",
              "144405          -1963.0             -1963.0        4846.140     4846.140   \n",
              "144406            -99.0               -98.0        7186.455     7186.455   \n",
              "144407          -2024.0             -2024.0        4915.890     4915.890   \n",
              "\n",
              "        SK_ID_CURR  TARGET  \n",
              "0         147397.0       0  \n",
              "1          70226.0       0  \n",
              "2          56266.0       0  \n",
              "3         273159.0       0  \n",
              "4         235198.0       0  \n",
              "...            ...     ...  \n",
              "144403      7593.0       0  \n",
              "144404     72892.0       0  \n",
              "144405     66054.0       0  \n",
              "144406    143631.0       0  \n",
              "144407     21216.0       0  \n",
              "\n",
              "[144408 rows x 10 columns]"
            ]
          },
          "execution_count": 16,
          "metadata": {},
          "output_type": "execute_result"
        }
      ],
      "source": [
        "result_df_1.fillna(result_df_1.median(), inplace=True)\n",
        "result_df_1"
      ]
    },
    {
      "cell_type": "code",
      "execution_count": 17,
      "metadata": {
        "colab": {
          "base_uri": "https://localhost:8080/"
        },
        "id": "Mf33IGwOKmaL",
        "outputId": "a20c4380-285c-4584-c2f6-0ff28553fd15"
      },
      "outputs": [
        {
          "data": {
            "text/plain": [
              "index                     0\n",
              "SK_ID_PREV                0\n",
              "NUM_INSTALMENT_VERSION    0\n",
              "NUM_INSTALMENT_NUMBER     0\n",
              "DAYS_INSTALMENT           0\n",
              "DAYS_ENTRY_PAYMENT        0\n",
              "AMT_INSTALMENT            0\n",
              "AMT_PAYMENT               0\n",
              "SK_ID_CURR                0\n",
              "TARGET                    0\n",
              "dtype: int64"
            ]
          },
          "execution_count": 17,
          "metadata": {},
          "output_type": "execute_result"
        }
      ],
      "source": [
        "# Check for null values\n",
        "result_df_1.isnull().sum()"
      ]
    },
    {
      "cell_type": "markdown",
      "metadata": {},
      "source": [
        "#### Correlation chart between features with TARGET"
      ]
    },
    {
      "cell_type": "code",
      "execution_count": 18,
      "metadata": {},
      "outputs": [
        {
          "data": {
            "image/png": "[encoded data removed]",
            "text/plain": [
              "<Figure size 432x288 with 2 Axes>"
            ]
          },
          "metadata": {
            "needs_background": "light"
          },
          "output_type": "display_data"
        }
      ],
      "source": [
        "correlation_matrix = result_df_1[['NUM_INSTALMENT_VERSION', 'NUM_INSTALMENT_NUMBER', 'DAYS_INSTALMENT', 'DAYS_ENTRY_PAYMENT', 'AMT_INSTALMENT', 'AMT_PAYMENT','TARGET']].corr()\n",
        "sns.heatmap(correlation_matrix, annot=True, cmap='coolwarm', linewidths=0.5)\n",
        "plt.title('Correlation Matrix')\n",
        "plt.show()"
      ]
    },
    {
      "cell_type": "markdown",
      "metadata": {},
      "source": [
        "#### The heatmap above shows the correlation between each feature in installments_payments table with the rest of the features.\n",
        "- Từ bản đồ nhiệt của ma trận tương quan, chúng ta thấy một vài tính năng tương quan cao. Đó là:\n",
        "- AMT_INSTALMENT và AMT_PAYMENT\n",
        "- DAYS_INSTALMENT và DAYS_ENTRY_PAYMENT\n",
        "- Hai bộ tính năng tương quan này là dễ hiểu, vì chúng thực sự là các tính năng về thời điểm trả góp đến hạn thanh toán so với thời điểm thanh toán và cả số tiền đến hạn so với số tiền đã trả.\n",
        "- Các tính năng này sẽ hữu ích cho việc tạo các bộ tính năng hoàn toàn không tương quan mới.\n",
        "- Mối tương quan của các tính năng với Target không đáng chú ý, điều này cho thấy sự vắng mặt của mối quan hệ tuyến tính giữa tính năng và biến đích."
      ]
    },
    {
      "cell_type": "markdown",
      "metadata": {},
      "source": [
        "#### Draw a box plot for continuous variables "
      ]
    },
    {
      "cell_type": "code",
      "execution_count": 19,
      "metadata": {
        "colab": {
          "base_uri": "https://localhost:8080/",
          "height": 566
        },
        "id": "g8VSXgMAHDVI",
        "outputId": "efe9d51e-0ec5-48ec-a6c2-dcec4f17f5cd"
      },
      "outputs": [
        {
          "data": {
            "image/png": "[encoded data removed]",
            "text/plain": [
              "<Figure size 576x432 with 1 Axes>"
            ]
          },
          "metadata": {
            "needs_background": "light"
          },
          "output_type": "display_data"
        },
        {
          "data": {
            "image/png": "[encoded data removed]",
            "text/plain": [
              "<Figure size 576x432 with 1 Axes>"
            ]
          },
          "metadata": {},
          "output_type": "display_data"
        }
      ],
      "source": [
        "def plot_continuous_variables(data, column_name, plots=['distplot', 'CDF', 'box', 'violin'], scale_limits=None, figsize=(8, 6), histogram=True, log_scale=False):\n",
        "    data_to_plot = data.copy()\n",
        "    \n",
        "    if scale_limits:\n",
        "        # Taking only the data within the specified limits\n",
        "        data_to_plot[column_name] = data[column_name][(data[column_name] > scale_limits[0]) & (data[column_name] < scale_limits[1])]\n",
        "\n",
        "    number_of_subplots = len(plots)\n",
        "    plt.figure(figsize=figsize)\n",
        "    sns.set_style('whitegrid')\n",
        "\n",
        "    for i, ele in enumerate(plots):\n",
        "        plt.subplot(1, number_of_subplots, i + 1)\n",
        "        plt.subplots_adjust(wspace=0.25)\n",
        "\n",
        "        if ele == 'CDF':\n",
        "            # Making the percentile DataFrame for both positive and negative Class Labels\n",
        "            percentile_values_0 = data_to_plot[data_to_plot.TARGET == 0][[column_name]].dropna().sort_values(by=column_name)\n",
        "            percentile_values_0['Percentile'] = [ele / (len(percentile_values_0) - 1) for ele in range(len(percentile_values_0))]\n",
        "\n",
        "            percentile_values_1 = data_to_plot[data_to_plot.TARGET == 1][[column_name]].dropna().sort_values(by=column_name)\n",
        "            percentile_values_1['Percentile'] = [ele / (len(percentile_values_1) - 1) for ele in range(len(percentile_values_1))]\n",
        "\n",
        "            plt.plot(percentile_values_0[column_name], percentile_values_0['Percentile'], color='red', label='Non-Defaulters')\n",
        "            plt.plot(percentile_values_1[column_name], percentile_values_1['Percentile'], color='black', label='Defaulters')\n",
        "            plt.xlabel(column_name)\n",
        "            plt.ylabel('Probability')\n",
        "            plt.title('CDF of {}'.format(column_name))\n",
        "            plt.legend(fontsize='medium')\n",
        "            if log_scale:\n",
        "                plt.xscale('log')\n",
        "                plt.xlabel(column_name + ' - (log-scale)')\n",
        "\n",
        "        if ele == 'distplot':\n",
        "            sns.distplot(data_to_plot[column_name][data['TARGET'] == 0].dropna(),\n",
        "                         label='Non-Defaulters', hist=False, color='red')\n",
        "            sns.distplot(data_to_plot[column_name][data['TARGET'] == 1].dropna(),\n",
        "                         label='Defaulters', hist=False, color='black')\n",
        "            plt.xlabel(column_name)\n",
        "            plt.ylabel('Probability Density')\n",
        "            plt.legend(fontsize='medium')\n",
        "            plt.title(\"Dist-Plot of {}\".format(column_name))\n",
        "            if log_scale:\n",
        "                plt.xscale('log')\n",
        "                plt.xlabel(f'{column_name} (log scale)')\n",
        "\n",
        "        if ele == 'violin':\n",
        "            sns.violinplot(x='TARGET', y=column_name, data=data_to_plot)\n",
        "            plt.title(\"Violin-Plot of {}\".format(column_name))\n",
        "            if log_scale:\n",
        "                plt.yscale('log')\n",
        "                plt.ylabel(f'{column_name} (log Scale)')\n",
        "\n",
        "        if ele == 'box':\n",
        "            sns.boxplot(x='TARGET', y=column_name, data=data_to_plot)\n",
        "            plt.title(\"Box-Plot of {}\".format(column_name))\n",
        "            if log_scale:\n",
        "                plt.yscale('log')\n",
        "                plt.ylabel(f'{column_name} (log Scale)')\n",
        "\n",
        "    plt.show()\n",
        "\n",
        "columns_to_plot = ['DAYS_INSTALMENT', 'DAYS_ENTRY_PAYMENT']\n",
        "\n",
        "for column in columns_to_plot:\n",
        "    plot_continuous_variables(result_df_1, column, plots=['box'], log_scale=False)"
      ]
    },
    {
      "cell_type": "markdown",
      "metadata": {},
      "source": [
        "#### DAYS_INSTALMENT\n",
        "- Cột này liệt kê những ngày mà khoản trả góp của tín dụng trước đó sẽ được thanh toán.\n",
        "#### DAYS_ENTRY_PAYMENT \n",
        "- Cột này liệt kê những ngày mà khoản trả góp của tín dụng trước đó đã thực sự được thanh toán.\n",
        "#### Từ 2 biểu đồ trên, chúng ta có thể thấy một mô hình tương tự, trong đó Người vỡ nợ có xu hướng có số ngày ít hơn kể từ lần thanh toán cuối cùng của họ, trong khi Người không vỡ nợ có nhiều ngày hơn kể từ lần thanh toán cuối cùng của họ. Tất cả các lượng tử của Người vỡ nợ đều có số ngày gần đây hơn so với những người không vỡ nợ. Do đó, Người không vỡ nợ thường có nhiều khoảng cách hơn trong các khoản thanh toán của họ kể từ ngày nộp đơn so với Người vỡ nợ."
      ]
    },
    {
      "cell_type": "markdown",
      "metadata": {
        "id": "IB4pkxjWMHj-"
      },
      "source": [
        "#### Handling outliers"
      ]
    },
    {
      "cell_type": "code",
      "execution_count": 20,
      "metadata": {
        "id": "P9d7lo6IIimV"
      },
      "outputs": [],
      "source": [
        "# Set IQR threshold (if necessary)\n",
        "# If the value is outside the range [Q1 - 1.5 * IQR, Q3 + 1.5 * IQR], it will be considered an outlier\n",
        "def remove_outliers(result_df_1, column):\n",
        "    Q1 = result_df_1[column].quantile(0.25)\n",
        "    Q3 = result_df_1[column].quantile(0.75)\n",
        "    IQR = Q3 - Q1\n",
        "\n",
        "    lower_bound = Q1 - 1.5 * IQR\n",
        "    upper_bound = Q3 + 1.5 * IQR\n",
        "\n",
        "    # Filter lines that do not contain outliers\n",
        "    df_filtered = result_df_1[(result_df_1[column] >= lower_bound) & (result_df_1[column] <= upper_bound)]\n",
        "\n",
        "    return df_filtered\n",
        "\n",
        "# Perform outlier removal\n",
        "\n",
        "result_df_2 = remove_outliers(result_df_1, 'NUM_INSTALMENT_VERSION')\n",
        "result_df_2 = remove_outliers(result_df_1, 'NUM_INSTALMENT_NUMBER')\n",
        "result_df_2 = remove_outliers(result_df_1, 'AMT_INSTALMENT')\n",
        "result_df_2 = remove_outliers(result_df_1, 'AMT_PAYMENT')"
      ]
    },
    {
      "cell_type": "code",
      "execution_count": 21,
      "metadata": {},
      "outputs": [
        {
          "data": {
            "text/html": [
              "<div>\n",
              "<style scoped>\n",
              "    .dataframe tbody tr th:only-of-type {\n",
              "        vertical-align: middle;\n",
              "    }\n",
              "\n",
              "    .dataframe tbody tr th {\n",
              "        vertical-align: top;\n",
              "    }\n",
              "\n",
              "    .dataframe thead th {\n",
              "        text-align: right;\n",
              "    }\n",
              "</style>\n",
              "<table border=\"1\" class=\"dataframe\">\n",
              "  <thead>\n",
              "    <tr style=\"text-align: right;\">\n",
              "      <th></th>\n",
              "      <th>index</th>\n",
              "      <th>SK_ID_PREV</th>\n",
              "      <th>NUM_INSTALMENT_VERSION</th>\n",
              "      <th>NUM_INSTALMENT_NUMBER</th>\n",
              "      <th>DAYS_INSTALMENT</th>\n",
              "      <th>DAYS_ENTRY_PAYMENT</th>\n",
              "      <th>AMT_INSTALMENT</th>\n",
              "      <th>AMT_PAYMENT</th>\n",
              "      <th>SK_ID_CURR</th>\n",
              "      <th>TARGET</th>\n",
              "    </tr>\n",
              "  </thead>\n",
              "  <tbody>\n",
              "    <tr>\n",
              "      <th>0</th>\n",
              "      <td>0</td>\n",
              "      <td>1054186</td>\n",
              "      <td>1.0</td>\n",
              "      <td>6</td>\n",
              "      <td>-1180.0</td>\n",
              "      <td>-1187.0</td>\n",
              "      <td>6948.360</td>\n",
              "      <td>6948.360</td>\n",
              "      <td>147397.0</td>\n",
              "      <td>0</td>\n",
              "    </tr>\n",
              "    <tr>\n",
              "      <th>1</th>\n",
              "      <td>1</td>\n",
              "      <td>1330831</td>\n",
              "      <td>0.0</td>\n",
              "      <td>34</td>\n",
              "      <td>-2156.0</td>\n",
              "      <td>-2156.0</td>\n",
              "      <td>1716.525</td>\n",
              "      <td>1716.525</td>\n",
              "      <td>70226.0</td>\n",
              "      <td>0</td>\n",
              "    </tr>\n",
              "    <tr>\n",
              "      <th>2</th>\n",
              "      <td>2</td>\n",
              "      <td>2085231</td>\n",
              "      <td>2.0</td>\n",
              "      <td>1</td>\n",
              "      <td>-63.0</td>\n",
              "      <td>-63.0</td>\n",
              "      <td>25425.000</td>\n",
              "      <td>25425.000</td>\n",
              "      <td>56266.0</td>\n",
              "      <td>0</td>\n",
              "    </tr>\n",
              "    <tr>\n",
              "      <th>3</th>\n",
              "      <td>3</td>\n",
              "      <td>2452527</td>\n",
              "      <td>1.0</td>\n",
              "      <td>3</td>\n",
              "      <td>-2418.0</td>\n",
              "      <td>-2426.0</td>\n",
              "      <td>24350.130</td>\n",
              "      <td>24350.130</td>\n",
              "      <td>273159.0</td>\n",
              "      <td>0</td>\n",
              "    </tr>\n",
              "    <tr>\n",
              "      <th>4</th>\n",
              "      <td>4</td>\n",
              "      <td>2714724</td>\n",
              "      <td>1.0</td>\n",
              "      <td>2</td>\n",
              "      <td>-1383.0</td>\n",
              "      <td>-1366.0</td>\n",
              "      <td>2165.040</td>\n",
              "      <td>2160.585</td>\n",
              "      <td>235198.0</td>\n",
              "      <td>0</td>\n",
              "    </tr>\n",
              "    <tr>\n",
              "      <th>...</th>\n",
              "      <td>...</td>\n",
              "      <td>...</td>\n",
              "      <td>...</td>\n",
              "      <td>...</td>\n",
              "      <td>...</td>\n",
              "      <td>...</td>\n",
              "      <td>...</td>\n",
              "      <td>...</td>\n",
              "      <td>...</td>\n",
              "      <td>...</td>\n",
              "    </tr>\n",
              "    <tr>\n",
              "      <th>144403</th>\n",
              "      <td>144403</td>\n",
              "      <td>1963503</td>\n",
              "      <td>1.0</td>\n",
              "      <td>5</td>\n",
              "      <td>-2497.0</td>\n",
              "      <td>-2555.0</td>\n",
              "      <td>31325.985</td>\n",
              "      <td>31325.985</td>\n",
              "      <td>7593.0</td>\n",
              "      <td>0</td>\n",
              "    </tr>\n",
              "    <tr>\n",
              "      <th>144404</th>\n",
              "      <td>144404</td>\n",
              "      <td>2599856</td>\n",
              "      <td>1.0</td>\n",
              "      <td>9</td>\n",
              "      <td>-870.0</td>\n",
              "      <td>-847.0</td>\n",
              "      <td>16355.880</td>\n",
              "      <td>52.920</td>\n",
              "      <td>72892.0</td>\n",
              "      <td>0</td>\n",
              "    </tr>\n",
              "    <tr>\n",
              "      <th>144405</th>\n",
              "      <td>144405</td>\n",
              "      <td>1437320</td>\n",
              "      <td>1.0</td>\n",
              "      <td>7</td>\n",
              "      <td>-1963.0</td>\n",
              "      <td>-1963.0</td>\n",
              "      <td>4846.140</td>\n",
              "      <td>4846.140</td>\n",
              "      <td>66054.0</td>\n",
              "      <td>0</td>\n",
              "    </tr>\n",
              "    <tr>\n",
              "      <th>144406</th>\n",
              "      <td>144406</td>\n",
              "      <td>1670184</td>\n",
              "      <td>1.0</td>\n",
              "      <td>9</td>\n",
              "      <td>-99.0</td>\n",
              "      <td>-98.0</td>\n",
              "      <td>7186.455</td>\n",
              "      <td>7186.455</td>\n",
              "      <td>143631.0</td>\n",
              "      <td>0</td>\n",
              "    </tr>\n",
              "    <tr>\n",
              "      <th>144407</th>\n",
              "      <td>144407</td>\n",
              "      <td>2657771</td>\n",
              "      <td>0.0</td>\n",
              "      <td>42</td>\n",
              "      <td>-2024.0</td>\n",
              "      <td>-2024.0</td>\n",
              "      <td>4915.890</td>\n",
              "      <td>4915.890</td>\n",
              "      <td>21216.0</td>\n",
              "      <td>0</td>\n",
              "    </tr>\n",
              "  </tbody>\n",
              "</table>\n",
              "<p>132195 rows × 10 columns</p>\n",
              "</div>"
            ],
            "text/plain": [
              "         index  SK_ID_PREV  NUM_INSTALMENT_VERSION  NUM_INSTALMENT_NUMBER  \\\n",
              "0            0     1054186                     1.0                      6   \n",
              "1            1     1330831                     0.0                     34   \n",
              "2            2     2085231                     2.0                      1   \n",
              "3            3     2452527                     1.0                      3   \n",
              "4            4     2714724                     1.0                      2   \n",
              "...        ...         ...                     ...                    ...   \n",
              "144403  144403     1963503                     1.0                      5   \n",
              "144404  144404     2599856                     1.0                      9   \n",
              "144405  144405     1437320                     1.0                      7   \n",
              "144406  144406     1670184                     1.0                      9   \n",
              "144407  144407     2657771                     0.0                     42   \n",
              "\n",
              "        DAYS_INSTALMENT  DAYS_ENTRY_PAYMENT  AMT_INSTALMENT  AMT_PAYMENT  \\\n",
              "0               -1180.0             -1187.0        6948.360     6948.360   \n",
              "1               -2156.0             -2156.0        1716.525     1716.525   \n",
              "2                 -63.0               -63.0       25425.000    25425.000   \n",
              "3               -2418.0             -2426.0       24350.130    24350.130   \n",
              "4               -1383.0             -1366.0        2165.040     2160.585   \n",
              "...                 ...                 ...             ...          ...   \n",
              "144403          -2497.0             -2555.0       31325.985    31325.985   \n",
              "144404           -870.0              -847.0       16355.880       52.920   \n",
              "144405          -1963.0             -1963.0        4846.140     4846.140   \n",
              "144406            -99.0               -98.0        7186.455     7186.455   \n",
              "144407          -2024.0             -2024.0        4915.890     4915.890   \n",
              "\n",
              "        SK_ID_CURR  TARGET  \n",
              "0         147397.0       0  \n",
              "1          70226.0       0  \n",
              "2          56266.0       0  \n",
              "3         273159.0       0  \n",
              "4         235198.0       0  \n",
              "...            ...     ...  \n",
              "144403      7593.0       0  \n",
              "144404     72892.0       0  \n",
              "144405     66054.0       0  \n",
              "144406    143631.0       0  \n",
              "144407     21216.0       0  \n",
              "\n",
              "[132195 rows x 10 columns]"
            ]
          },
          "execution_count": 21,
          "metadata": {},
          "output_type": "execute_result"
        }
      ],
      "source": [
        "result_df_2"
      ]
    },
    {
      "cell_type": "markdown",
      "metadata": {},
      "source": [
        "#### Distribution chart for features"
      ]
    },
    {
      "cell_type": "code",
      "execution_count": 22,
      "metadata": {
        "colab": {
          "base_uri": "https://localhost:8080/",
          "height": 1000
        },
        "id": "hrkQpYVdK_KS",
        "outputId": "e102a957-cf79-467d-8a2b-80c233f0270d"
      },
      "outputs": [
        {
          "data": {
            "image/png": "[encoded data removed]",
            "text/plain": [
              "<Figure size 576x360 with 1 Axes>"
            ]
          },
          "metadata": {},
          "output_type": "display_data"
        },
        {
          "data": {
            "image/png": "[encoded data removed]",
            "text/plain": [
              "<Figure size 576x360 with 1 Axes>"
            ]
          },
          "metadata": {},
          "output_type": "display_data"
        },
        {
          "data": {
            "image/png": "[encoded data removed]",
            "text/plain": [
              "<Figure size 576x360 with 1 Axes>"
            ]
          },
          "metadata": {},
          "output_type": "display_data"
        },
        {
          "data": {
            "image/png": "[encoded data removed]",
            "text/plain": [
              "<Figure size 576x360 with 1 Axes>"
            ]
          },
          "metadata": {},
          "output_type": "display_data"
        },
        {
          "data": {
            "image/png": "[encoded data removed]",
            "text/plain": [
              "<Figure size 576x360 with 1 Axes>"
            ]
          },
          "metadata": {},
          "output_type": "display_data"
        },
        {
          "data": {
            "image/png": "[encoded data removed]",
            "text/plain": [
              "<Figure size 576x360 with 1 Axes>"
            ]
          },
          "metadata": {},
          "output_type": "display_data"
        }
      ],
      "source": [
        "features = ['NUM_INSTALMENT_VERSION', 'NUM_INSTALMENT_NUMBER', 'DAYS_INSTALMENT', 'DAYS_ENTRY_PAYMENT', 'AMT_INSTALMENT', 'AMT_PAYMENT']\n",
        "\n",
        "for feature in features:\n",
        "    plt.figure(figsize=(8, 5))\n",
        "    sns.histplot(result_df_2[feature].dropna(), kde=True, color='blue')\n",
        "    plt.title(f'Distribution of {feature}')\n",
        "    plt.show()\n"
      ]
    },
    {
      "cell_type": "markdown",
      "metadata": {},
      "source": [
        "#### NUM_INSTALMENT_VERSION:\n",
        "- Biểu đồ cung cấp một số thông tin về số lượng khoản trả góp của các khoản vay. \n",
        "- Sự phân bố của NUM_INSTALMENT_VERSION là khá đồng đều. Có một số đỉnh nhỏ ở khoảng 0, 5, 10, và 15, nhưng nhìn chung, dữ liệu được phân bố đều theo tỷ lệ.\n",
        "#### NUM_INSTALMENT_NUMBER:  \n",
        "- Biểu đồ cung cấp một số thông tin về số lượng khoản trả góp của các khoản vay. \n",
        "- Sự phân bố của NUM_INSTALMENT_NUMBER là không đồng đều. Có một số đỉnh lớn ở khoảng 0, 5, 10, 15, 20, và 25. Điều này cho thấy có một số giá trị xuất hiện thường xuyên hơn những giá trị khác.\n",
        "#### DAYS_INSTALMENT:   \n",
        "- Biểu đồ cung cấp một số thông tin về số ngày trả góp của các khoản vay. \n",
        "- Sự phân bố của DAYS_INSTALMENT là không đồng đều. Có một số đỉnh lớn ở khoảng -3000, -2500, -2000, -1500, -1000, và -500. Điều này cho thấy có một số giá trị xuất hiện thường xuyên hơn những giá trị khác.\n",
        "- Hầu hết các khoản vay có số ngày trả góp là âm. Điều này có nghĩa là các khoản vay thường được thực hiện trước thời hạn.\n",
        "- Có một số khoản vay có số ngày trả góp khác nhau, nhưng những khoản vay này không phổ biến.\n",
        "#### DAYS_ENTRY_PAYMENT: \n",
        "- Biểu đồ cung cấp một số thông tin về số ngày thanh toán của các khoản vay.\n",
        "- Sự phân bố của DAYS_ENTRY_PAYMENT là không đồng đều. Có một số đỉnh lớn ở khoảng 0, -1000, -2000, -3000, -4000, và -5000. Điều này cho thấy có một số giá trị xuất hiện thường xuyên hơn những giá trị khác.\n",
        "- Hầu hết các khoản thanh toán được thực hiện trước thời hạn. Điều này có nghĩa là các khoản thanh toán thường được thực hiện trước ngày đáo hạn.\n",
        "- Có một số khoản thanh toán được thực hiện sau thời hạn, nhưng những khoản thanh toán này không phổ biến.\n",
        "#### AMT_INSTALMENT:\n",
        "- Biểu đồ cung cấp một số thông tin về giá trị của các khoản trả góp.\n",
        "- Sự phân bố của AMT_INSTALMENT là không đồng đều. Có một số đỉnh lớn ở khoảng 10 triệu VND, 20 triệu VND, 30 triệu VND, và 40 triệu VND. Điều này cho thấy có một số giá trị xuất hiện thường xuyên hơn những giá trị khác.\n",
        "- Có một số khoản trả góp có giá trị cao hơn hoặc thấp hơn, nhưng những khoản trả góp này không phổ biến.\n",
        "- Sau khi loại bỏ các giá trị ngoại lệ, chúng ta có thể thấy phần lớn vẫn là 0 và hầu hết đều dưới 30.000.\n",
        "#### AMT_PAYMENT:\n",
        "- Biểu đồ cung cấp một số thông tin  về số tiền thanh toán của các khoản vay.\n",
        "- Sự phân bố của AMT_PAYMENT là dạng hình chuông. Điều này cho thấy dữ liệu tương đối cân đối, với số lượng quan sát tương đương ở cả hai bên của giá trị trung bình.\n",
        "- Có một số khách hàng thanh toán nhiều hơn hoặc ít hơn, nhưng những khách hàng này không phổ biến.\n",
        "- Số tiền mà khách hàng thực sự đã thanh toán bằng khoản tín dụng trước đó trong đợt trả góp này đối với phần lớn là bằng 0 và số tiền mà hầu hết các khoản thanh toán ở trên đều dưới 30.000."
      ]
    }
  ],
  "metadata": {
    "colab": {
      "provenance": []
    },
    "kernelspec": {
      "display_name": "Python 3",
      "name": "python3"
    },
    "language_info": {
      "codemirror_mode": {
        "name": "ipython",
        "version": 3
      },
      "file_extension": ".py",
      "mimetype": "text/x-python",
      "name": "python",
      "nbconvert_exporter": "python",
      "pygments_lexer": "ipython3",
      "version": "3.9.12"
    }
  },
  "nbformat": 4,
  "nbformat_minor": 0
}
