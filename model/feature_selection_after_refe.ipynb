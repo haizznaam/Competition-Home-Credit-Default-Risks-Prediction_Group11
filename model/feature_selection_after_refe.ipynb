{
  "cells": [
    {
      "cell_type": "code",
      "source": [
        "from google.colab import drive\n",
        "drive.mount('/content/drive')"
      ],
      "metadata": {
        "colab": {
          "base_uri": "https://localhost:8080/"
        },
        "id": "zMReca9ueMDI",
        "outputId": "710385fa-b07d-4d60-d788-9193599e14cb"
      },
      "execution_count": 1,
      "outputs": [
        {
          "output_type": "stream",
          "name": "stdout",
          "text": [
            "Drive already mounted at /content/drive; to attempt to forcibly remount, call drive.mount(\"/content/drive\", force_remount=True).\n"
          ]
        }
      ]
    },
    {
      "cell_type": "code",
      "source": [
        "%cd /content/drive/MyDrive/Project_Home-Credit-Default-Risks_Group11"
      ],
      "metadata": {
        "colab": {
          "base_uri": "https://localhost:8080/"
        },
        "id": "OBpke4lRgaQr",
        "outputId": "ac49d6f4-61f7-4996-fa27-5b59b480182f"
      },
      "execution_count": 2,
      "outputs": [
        {
          "output_type": "stream",
          "name": "stdout",
          "text": [
            "/content/drive/MyDrive/Project_Home-Credit-Default-Risks_Group11\n"
          ]
        }
      ]
    },
    {
      "cell_type": "code",
      "execution_count": 3,
      "metadata": {
        "colab": {
          "base_uri": "https://localhost:8080/"
        },
        "id": "vsg9fLSMeIV2",
        "outputId": "cd4147da-2002-4300-dc42-82360d0387f4"
      },
      "outputs": [
        {
          "output_type": "stream",
          "name": "stderr",
          "text": [
            "<ipython-input-3-6d44cc815075>:17: FutureWarning: Passing a negative integer is deprecated in version 1.0 and will not be supported in future version. Instead, use None to not limit the column width.\n",
            "  pd.set_option('display.max_colwidth', -1)\n"
          ]
        }
      ],
      "source": [
        "import os\n",
        "import pickle\n",
        "import pandas as pd\n",
        "import numpy as np\n",
        "#\n",
        "import matplotlib.pyplot as plt\n",
        "from IPython.display import display\n",
        "#\n",
        "from sklearn import metrics\n",
        "from sklearn.model_selection import train_test_split\n",
        "\n",
        "# some settings for displaying Pandas results\n",
        "pd.set_option('display.width', 2000)\n",
        "pd.set_option('display.max_rows', 500)\n",
        "pd.set_option('display.max_columns', 500)\n",
        "pd.set_option('display.precision', 4)\n",
        "pd.set_option('display.max_colwidth', -1)"
      ]
    },
    {
      "cell_type": "markdown",
      "metadata": {
        "id": "4xUVqjTleIWI"
      },
      "source": [
        "# 1. Load df_feat_labels"
      ]
    },
    {
      "cell_type": "code",
      "execution_count": 4,
      "metadata": {
        "colab": {
          "base_uri": "https://localhost:8080/"
        },
        "id": "G88dkeoEeIWK",
        "outputId": "632b9578-2826-44ef-dc1a-c54724c21ed7"
      },
      "outputs": [
        {
          "output_type": "stream",
          "name": "stdout",
          "text": [
            "(307511, 682)\n"
          ]
        }
      ],
      "source": [
        "# D:\\NEU\\Năm 3\\DATA PREP\\PROJECT_DATAPREP\\GITHUB REPO\\KAGGLE_25_SPACE\\model\\df_features_label_fullfill_ext_lr_verion2_test.pkl.bz2\n",
        "df_features_label = pd.read_pickle(\n",
        "    '/content/drive/MyDrive/df_features_label_fullfill_ext_imputer_0.pkl.bz2', compression='bz2')\n",
        "\n",
        "print(df_features_label.shape)"
      ]
    },
    {
      "cell_type": "markdown",
      "metadata": {
        "id": "bSk9XkaUeIWL"
      },
      "source": [
        "# 2. Feature Selection"
      ]
    },
    {
      "cell_type": "code",
      "execution_count": 5,
      "metadata": {
        "id": "ehI4po5MeIWM"
      },
      "outputs": [],
      "source": [
        "df_features_label = df_features_label.replace(np.inf,np.nan)\n",
        "df_features_label = df_features_label.replace(-np.inf,np.nan)"
      ]
    },
    {
      "cell_type": "code",
      "execution_count": 6,
      "metadata": {
        "colab": {
          "base_uri": "https://localhost:8080/"
        },
        "id": "iOFumniDeIWM",
        "outputId": "5d834fa7-9cff-4677-e6ae-60781f1c41e2"
      },
      "outputs": [
        {
          "output_type": "execute_result",
          "data": {
            "text/plain": [
              "(307511, 681)"
            ]
          },
          "metadata": {},
          "execution_count": 6
        }
      ],
      "source": [
        "# check null\n",
        "def check_missed_values(df):\n",
        "    df_null_percentage = df.isnull().sum() / df.shape[0] * 100\n",
        "    df_null_percentage = df_null_percentage.drop(\n",
        "        df_null_percentage[df_null_percentage == 0].index).sort_values(ascending=False).reset_index()\n",
        "    df_null_percentage.columns = [\"Feature\", \"Percentage\"]\n",
        "    return df_null_percentage\n",
        "\n",
        "\n",
        "null_df = check_missed_values(df_features_label)\n",
        "columns_to_drop = null_df[null_df['Percentage'] > 90]['Feature'].tolist()\n",
        "df_features_label.drop(columns=columns_to_drop, inplace=True)\n",
        "df_features_label.shape"
      ]
    },
    {
      "cell_type": "markdown",
      "metadata": {
        "id": "GLv9qfYkeIWN"
      },
      "source": [
        "# 3. Get Train, Val, Test data"
      ]
    },
    {
      "cell_type": "markdown",
      "metadata": {
        "id": "1nL-aCzqeIWN"
      },
      "source": [
        "**Get list features**"
      ]
    },
    {
      "cell_type": "code",
      "execution_count": 7,
      "metadata": {
        "colab": {
          "base_uri": "https://localhost:8080/",
          "height": 478
        },
        "id": "7TjmEjnPeIWO",
        "outputId": "9521f7a0-2f32-436a-a8a8-9a683b8e572b"
      },
      "outputs": [
        {
          "output_type": "stream",
          "name": "stdout",
          "text": [
            "Number of features: 678\n",
            "(307511, 681)\n"
          ]
        },
        {
          "output_type": "display_data",
          "data": {
            "text/plain": [
              "                                                                            0       1       2       3       4\n",
              "SK_ID_CURR                                                             278621  139008  138348  64140   219374\n",
              "TARGET                                                                 0       0       0       0       0     \n",
              "tvt_code                                                               train   train   train   test    val   \n",
              "CREDIT_ACTIVE_Closed_mean                                              0.75    NaN     1.0     0.6667  0.5   \n",
              "CREDIT_ACTIVE_Active_mean                                              0.25    NaN     0.0     0.3333  0.5   \n",
              "...                                                                     ...    ...     ...        ...  ...   \n",
              "train_test_num_fullfill_ext_lr_final_imputer_0_LAST_PHONE_CHANGE_YEAR  2.2685  NaN     3.0301  6.9479  2.9315\n",
              "train_test_num_fullfill_ext_lr_final_imputer_0_DAYS_EMPLOYED_ANOM      False   NaN     False   False   False \n",
              "train_test_num_fullfill_ext_lr_final_imputer_0_DAYS_EMPLOYED          -1188.0  NaN    -3038.0 -1588.0 -449.0 \n",
              "train_test_num_fullfill_ext_lr_final_imputer_0_YEARS_EMPLOYED          3.2548  NaN     8.3233  4.3507  1.2301\n",
              "train_test_num_fullfill_ext_lr_final_imputer_0_YEARS_EMPLOYED_PERCENT  0.0709  NaN     0.1524  0.0937  0.0238\n",
              "\n",
              "[681 rows x 5 columns]"
            ],
            "text/html": [
              "\n",
              "  <div id=\"df-0dc0126d-4b6d-49f0-91bc-fd5f7845dd90\" class=\"colab-df-container\">\n",
              "    <div>\n",
              "<style scoped>\n",
              "    .dataframe tbody tr th:only-of-type {\n",
              "        vertical-align: middle;\n",
              "    }\n",
              "\n",
              "    .dataframe tbody tr th {\n",
              "        vertical-align: top;\n",
              "    }\n",
              "\n",
              "    .dataframe thead th {\n",
              "        text-align: right;\n",
              "    }\n",
              "</style>\n",
              "<table border=\"1\" class=\"dataframe\">\n",
              "  <thead>\n",
              "    <tr style=\"text-align: right;\">\n",
              "      <th></th>\n",
              "      <th>0</th>\n",
              "      <th>1</th>\n",
              "      <th>2</th>\n",
              "      <th>3</th>\n",
              "      <th>4</th>\n",
              "    </tr>\n",
              "  </thead>\n",
              "  <tbody>\n",
              "    <tr>\n",
              "      <th>SK_ID_CURR</th>\n",
              "      <td>278621</td>\n",
              "      <td>139008</td>\n",
              "      <td>138348</td>\n",
              "      <td>64140</td>\n",
              "      <td>219374</td>\n",
              "    </tr>\n",
              "    <tr>\n",
              "      <th>TARGET</th>\n",
              "      <td>0</td>\n",
              "      <td>0</td>\n",
              "      <td>0</td>\n",
              "      <td>0</td>\n",
              "      <td>0</td>\n",
              "    </tr>\n",
              "    <tr>\n",
              "      <th>tvt_code</th>\n",
              "      <td>train</td>\n",
              "      <td>train</td>\n",
              "      <td>train</td>\n",
              "      <td>test</td>\n",
              "      <td>val</td>\n",
              "    </tr>\n",
              "    <tr>\n",
              "      <th>CREDIT_ACTIVE_Closed_mean</th>\n",
              "      <td>0.75</td>\n",
              "      <td>NaN</td>\n",
              "      <td>1.0</td>\n",
              "      <td>0.6667</td>\n",
              "      <td>0.5</td>\n",
              "    </tr>\n",
              "    <tr>\n",
              "      <th>CREDIT_ACTIVE_Active_mean</th>\n",
              "      <td>0.25</td>\n",
              "      <td>NaN</td>\n",
              "      <td>0.0</td>\n",
              "      <td>0.3333</td>\n",
              "      <td>0.5</td>\n",
              "    </tr>\n",
              "    <tr>\n",
              "      <th>...</th>\n",
              "      <td>...</td>\n",
              "      <td>...</td>\n",
              "      <td>...</td>\n",
              "      <td>...</td>\n",
              "      <td>...</td>\n",
              "    </tr>\n",
              "    <tr>\n",
              "      <th>train_test_num_fullfill_ext_lr_final_imputer_0_LAST_PHONE_CHANGE_YEAR</th>\n",
              "      <td>2.2685</td>\n",
              "      <td>NaN</td>\n",
              "      <td>3.0301</td>\n",
              "      <td>6.9479</td>\n",
              "      <td>2.9315</td>\n",
              "    </tr>\n",
              "    <tr>\n",
              "      <th>train_test_num_fullfill_ext_lr_final_imputer_0_DAYS_EMPLOYED_ANOM</th>\n",
              "      <td>False</td>\n",
              "      <td>NaN</td>\n",
              "      <td>False</td>\n",
              "      <td>False</td>\n",
              "      <td>False</td>\n",
              "    </tr>\n",
              "    <tr>\n",
              "      <th>train_test_num_fullfill_ext_lr_final_imputer_0_DAYS_EMPLOYED</th>\n",
              "      <td>-1188.0</td>\n",
              "      <td>NaN</td>\n",
              "      <td>-3038.0</td>\n",
              "      <td>-1588.0</td>\n",
              "      <td>-449.0</td>\n",
              "    </tr>\n",
              "    <tr>\n",
              "      <th>train_test_num_fullfill_ext_lr_final_imputer_0_YEARS_EMPLOYED</th>\n",
              "      <td>3.2548</td>\n",
              "      <td>NaN</td>\n",
              "      <td>8.3233</td>\n",
              "      <td>4.3507</td>\n",
              "      <td>1.2301</td>\n",
              "    </tr>\n",
              "    <tr>\n",
              "      <th>train_test_num_fullfill_ext_lr_final_imputer_0_YEARS_EMPLOYED_PERCENT</th>\n",
              "      <td>0.0709</td>\n",
              "      <td>NaN</td>\n",
              "      <td>0.1524</td>\n",
              "      <td>0.0937</td>\n",
              "      <td>0.0238</td>\n",
              "    </tr>\n",
              "  </tbody>\n",
              "</table>\n",
              "<p>681 rows × 5 columns</p>\n",
              "</div>\n",
              "    <div class=\"colab-df-buttons\">\n",
              "\n",
              "  <div class=\"colab-df-container\">\n",
              "    <button class=\"colab-df-convert\" onclick=\"convertToInteractive('df-0dc0126d-4b6d-49f0-91bc-fd5f7845dd90')\"\n",
              "            title=\"Convert this dataframe to an interactive table.\"\n",
              "            style=\"display:none;\">\n",
              "\n",
              "  <svg xmlns=\"http://www.w3.org/2000/svg\" height=\"24px\" viewBox=\"0 -960 960 960\">\n",
              "    <path d=\"M120-120v-720h720v720H120Zm60-500h600v-160H180v160Zm220 220h160v-160H400v160Zm0 220h160v-160H400v160ZM180-400h160v-160H180v160Zm440 0h160v-160H620v160ZM180-180h160v-160H180v160Zm440 0h160v-160H620v160Z\"/>\n",
              "  </svg>\n",
              "    </button>\n",
              "\n",
              "  <style>\n",
              "    .colab-df-container {\n",
              "      display:flex;\n",
              "      gap: 12px;\n",
              "    }\n",
              "\n",
              "    .colab-df-convert {\n",
              "      background-color: #E8F0FE;\n",
              "      border: none;\n",
              "      border-radius: 50%;\n",
              "      cursor: pointer;\n",
              "      display: none;\n",
              "      fill: #1967D2;\n",
              "      height: 32px;\n",
              "      padding: 0 0 0 0;\n",
              "      width: 32px;\n",
              "    }\n",
              "\n",
              "    .colab-df-convert:hover {\n",
              "      background-color: #E2EBFA;\n",
              "      box-shadow: 0px 1px 2px rgba(60, 64, 67, 0.3), 0px 1px 3px 1px rgba(60, 64, 67, 0.15);\n",
              "      fill: #174EA6;\n",
              "    }\n",
              "\n",
              "    .colab-df-buttons div {\n",
              "      margin-bottom: 4px;\n",
              "    }\n",
              "\n",
              "    [theme=dark] .colab-df-convert {\n",
              "      background-color: #3B4455;\n",
              "      fill: #D2E3FC;\n",
              "    }\n",
              "\n",
              "    [theme=dark] .colab-df-convert:hover {\n",
              "      background-color: #434B5C;\n",
              "      box-shadow: 0px 1px 3px 1px rgba(0, 0, 0, 0.15);\n",
              "      filter: drop-shadow(0px 1px 2px rgba(0, 0, 0, 0.3));\n",
              "      fill: #FFFFFF;\n",
              "    }\n",
              "  </style>\n",
              "\n",
              "    <script>\n",
              "      const buttonEl =\n",
              "        document.querySelector('#df-0dc0126d-4b6d-49f0-91bc-fd5f7845dd90 button.colab-df-convert');\n",
              "      buttonEl.style.display =\n",
              "        google.colab.kernel.accessAllowed ? 'block' : 'none';\n",
              "\n",
              "      async function convertToInteractive(key) {\n",
              "        const element = document.querySelector('#df-0dc0126d-4b6d-49f0-91bc-fd5f7845dd90');\n",
              "        const dataTable =\n",
              "          await google.colab.kernel.invokeFunction('convertToInteractive',\n",
              "                                                    [key], {});\n",
              "        if (!dataTable) return;\n",
              "\n",
              "        const docLinkHtml = 'Like what you see? Visit the ' +\n",
              "          '<a target=\"_blank\" href=https://colab.research.google.com/notebooks/data_table.ipynb>data table notebook</a>'\n",
              "          + ' to learn more about interactive tables.';\n",
              "        element.innerHTML = '';\n",
              "        dataTable['output_type'] = 'display_data';\n",
              "        await google.colab.output.renderOutput(dataTable, element);\n",
              "        const docLink = document.createElement('div');\n",
              "        docLink.innerHTML = docLinkHtml;\n",
              "        element.appendChild(docLink);\n",
              "      }\n",
              "    </script>\n",
              "  </div>\n",
              "\n",
              "\n",
              "<div id=\"df-d1ce0a8d-aa6d-42f4-8e61-8fb45a370b9a\">\n",
              "  <button class=\"colab-df-quickchart\" onclick=\"quickchart('df-d1ce0a8d-aa6d-42f4-8e61-8fb45a370b9a')\"\n",
              "            title=\"Suggest charts\"\n",
              "            style=\"display:none;\">\n",
              "\n",
              "<svg xmlns=\"http://www.w3.org/2000/svg\" height=\"24px\"viewBox=\"0 0 24 24\"\n",
              "     width=\"24px\">\n",
              "    <g>\n",
              "        <path d=\"M19 3H5c-1.1 0-2 .9-2 2v14c0 1.1.9 2 2 2h14c1.1 0 2-.9 2-2V5c0-1.1-.9-2-2-2zM9 17H7v-7h2v7zm4 0h-2V7h2v10zm4 0h-2v-4h2v4z\"/>\n",
              "    </g>\n",
              "</svg>\n",
              "  </button>\n",
              "\n",
              "<style>\n",
              "  .colab-df-quickchart {\n",
              "      --bg-color: #E8F0FE;\n",
              "      --fill-color: #1967D2;\n",
              "      --hover-bg-color: #E2EBFA;\n",
              "      --hover-fill-color: #174EA6;\n",
              "      --disabled-fill-color: #AAA;\n",
              "      --disabled-bg-color: #DDD;\n",
              "  }\n",
              "\n",
              "  [theme=dark] .colab-df-quickchart {\n",
              "      --bg-color: #3B4455;\n",
              "      --fill-color: #D2E3FC;\n",
              "      --hover-bg-color: #434B5C;\n",
              "      --hover-fill-color: #FFFFFF;\n",
              "      --disabled-bg-color: #3B4455;\n",
              "      --disabled-fill-color: #666;\n",
              "  }\n",
              "\n",
              "  .colab-df-quickchart {\n",
              "    background-color: var(--bg-color);\n",
              "    border: none;\n",
              "    border-radius: 50%;\n",
              "    cursor: pointer;\n",
              "    display: none;\n",
              "    fill: var(--fill-color);\n",
              "    height: 32px;\n",
              "    padding: 0;\n",
              "    width: 32px;\n",
              "  }\n",
              "\n",
              "  .colab-df-quickchart:hover {\n",
              "    background-color: var(--hover-bg-color);\n",
              "    box-shadow: 0 1px 2px rgba(60, 64, 67, 0.3), 0 1px 3px 1px rgba(60, 64, 67, 0.15);\n",
              "    fill: var(--button-hover-fill-color);\n",
              "  }\n",
              "\n",
              "  .colab-df-quickchart-complete:disabled,\n",
              "  .colab-df-quickchart-complete:disabled:hover {\n",
              "    background-color: var(--disabled-bg-color);\n",
              "    fill: var(--disabled-fill-color);\n",
              "    box-shadow: none;\n",
              "  }\n",
              "\n",
              "  .colab-df-spinner {\n",
              "    border: 2px solid var(--fill-color);\n",
              "    border-color: transparent;\n",
              "    border-bottom-color: var(--fill-color);\n",
              "    animation:\n",
              "      spin 1s steps(1) infinite;\n",
              "  }\n",
              "\n",
              "  @keyframes spin {\n",
              "    0% {\n",
              "      border-color: transparent;\n",
              "      border-bottom-color: var(--fill-color);\n",
              "      border-left-color: var(--fill-color);\n",
              "    }\n",
              "    20% {\n",
              "      border-color: transparent;\n",
              "      border-left-color: var(--fill-color);\n",
              "      border-top-color: var(--fill-color);\n",
              "    }\n",
              "    30% {\n",
              "      border-color: transparent;\n",
              "      border-left-color: var(--fill-color);\n",
              "      border-top-color: var(--fill-color);\n",
              "      border-right-color: var(--fill-color);\n",
              "    }\n",
              "    40% {\n",
              "      border-color: transparent;\n",
              "      border-right-color: var(--fill-color);\n",
              "      border-top-color: var(--fill-color);\n",
              "    }\n",
              "    60% {\n",
              "      border-color: transparent;\n",
              "      border-right-color: var(--fill-color);\n",
              "    }\n",
              "    80% {\n",
              "      border-color: transparent;\n",
              "      border-right-color: var(--fill-color);\n",
              "      border-bottom-color: var(--fill-color);\n",
              "    }\n",
              "    90% {\n",
              "      border-color: transparent;\n",
              "      border-bottom-color: var(--fill-color);\n",
              "    }\n",
              "  }\n",
              "</style>\n",
              "\n",
              "  <script>\n",
              "    async function quickchart(key) {\n",
              "      const quickchartButtonEl =\n",
              "        document.querySelector('#' + key + ' button');\n",
              "      quickchartButtonEl.disabled = true;  // To prevent multiple clicks.\n",
              "      quickchartButtonEl.classList.add('colab-df-spinner');\n",
              "      try {\n",
              "        const charts = await google.colab.kernel.invokeFunction(\n",
              "            'suggestCharts', [key], {});\n",
              "      } catch (error) {\n",
              "        console.error('Error during call to suggestCharts:', error);\n",
              "      }\n",
              "      quickchartButtonEl.classList.remove('colab-df-spinner');\n",
              "      quickchartButtonEl.classList.add('colab-df-quickchart-complete');\n",
              "    }\n",
              "    (() => {\n",
              "      let quickchartButtonEl =\n",
              "        document.querySelector('#df-d1ce0a8d-aa6d-42f4-8e61-8fb45a370b9a button');\n",
              "      quickchartButtonEl.style.display =\n",
              "        google.colab.kernel.accessAllowed ? 'block' : 'none';\n",
              "    })();\n",
              "  </script>\n",
              "</div>\n",
              "    </div>\n",
              "  </div>\n"
            ]
          },
          "metadata": {}
        }
      ],
      "source": [
        "meta_cols = ['SK_ID_CURR', 'TARGET', 'tvt_code']\n",
        "ls_features = [\n",
        "    cname for cname in df_features_label.columns if cname not in meta_cols]\n",
        "\n",
        "#\n",
        "print(\"Number of features: {}\".format(len(ls_features)))\n",
        "\n",
        "print(df_features_label.shape)\n",
        "display(df_features_label.head().T)\n"
      ]
    },
    {
      "cell_type": "markdown",
      "metadata": {
        "id": "VQTRMFP6eIWP"
      },
      "source": [
        "**Get train, val, test to train and evaluate model**"
      ]
    },
    {
      "cell_type": "code",
      "execution_count": 8,
      "metadata": {
        "id": "ZykCDGtieIWP"
      },
      "outputs": [],
      "source": [
        "def get_Xy_from_df(df_input, ls_features, tvt_code):\n",
        "    df_data = df_input[df_input[\"tvt_code\"] == tvt_code].copy()\n",
        "\n",
        "    #\n",
        "    X = df_data[ls_features]\n",
        "    y = df_data[\"TARGET\"]\n",
        "\n",
        "    return (X, y)\n",
        "\n",
        "X_train, y_train = get_Xy_from_df(df_features_label, ls_features, \"train\")\n",
        "X_val, y_val = get_Xy_from_df(df_features_label, ls_features, \"val\")\n",
        "X_test, y_test = get_Xy_from_df(df_features_label, ls_features, 'test')\n"
      ]
    },
    {
      "cell_type": "markdown",
      "metadata": {
        "id": "OGDteIQTeIWP"
      },
      "source": [
        "# 4. Define discrete and continuous variables lists to fillna\n",
        "\n",
        "**Null will be filled different on each dataset:**\n",
        "\n",
        "   - Discrete features will be filled with most-frequent value.\n",
        "   - Continous features will be filled with mean."
      ]
    },
    {
      "cell_type": "code",
      "execution_count": 9,
      "metadata": {
        "colab": {
          "base_uri": "https://localhost:8080/"
        },
        "id": "0HoCwBD1eIWQ",
        "outputId": "9e202ad4-565e-424e-b655-583b9b838ff7"
      },
      "outputs": [
        {
          "output_type": "stream",
          "name": "stdout",
          "text": [
            "Num continuos feat : 373\n",
            "Num discrete feat : 305\n"
          ]
        }
      ],
      "source": [
        "def get_discrete_continuos_columns(df_input,ls_features):\n",
        "    ls_discrete_feat = []\n",
        "    ls_continous_feat = []\n",
        "    for fname in ls_features:\n",
        "        if df_input[fname].fillna(0).nunique() == df_input[fname].fillna(0).astype('int').nunique():\n",
        "            ls_discrete_feat.append(fname)\n",
        "        else:\n",
        "            ls_continous_feat.append(fname)\n",
        "    return ls_discrete_feat,ls_continous_feat\n",
        "\n",
        "\n",
        "ls_discrete_feat, ls_continous_feat = get_discrete_continuos_columns(df_features_label,ls_features)\n",
        "print(f'Num continuos feat : {len(ls_continous_feat)}' )\n",
        "print(f'Num discrete feat : {len(ls_discrete_feat)}' )"
      ]
    },
    {
      "cell_type": "markdown",
      "metadata": {
        "id": "E4c66hkTeIWQ"
      },
      "source": [
        "# 5. Model Fitting"
      ]
    },
    {
      "cell_type": "code",
      "execution_count": 10,
      "metadata": {
        "colab": {
          "base_uri": "https://localhost:8080/",
          "height": 223
        },
        "id": "RdO7tG1aeIWQ",
        "outputId": "8722f75f-a540-4035-d18c-a2ffe4f75d6d"
      },
      "outputs": [
        {
          "output_type": "execute_result",
          "data": {
            "text/plain": [
              "Pipeline(steps=[('preprocessor',\n",
              "                 ColumnTransformer(transformers=[('con',\n",
              "                                                  Pipeline(steps=[('imputer',\n",
              "                                                                   SimpleImputer()),\n",
              "                                                                  ('std_scaler',\n",
              "                                                                   StandardScaler())]),\n",
              "                                                  ['CREDIT_ACTIVE_Closed_mean',\n",
              "                                                   'CREDIT_ACTIVE_Active_mean',\n",
              "                                                   'CREDIT_TYPE_Credit_card_mean',\n",
              "                                                   'CREDIT_TYPE_Consumer_credit_mean',\n",
              "                                                   'CREDIT_TYPE_Bad_loan_mean',\n",
              "                                                   'CREDIT_TYPE_Car_loan_mean',\n",
              "                                                   'CREDIT_TYPE_Mortgage_...\n",
              "                                                   'credit_card_balance_NAME_CONTRACT_STATUS_Active_sum',\n",
              "                                                   'credit_card_balance_NAME_CONTRACT_STATUS_Completed_sum',\n",
              "                                                   'credit_card_balance_NAME_CONTRACT_STATUS_Completed_max',\n",
              "                                                   'credit_card_balance_NAME_CONTRACT_STATUS_Signed_sum',\n",
              "                                                   'credit_card_balance_NAME_CONTRACT_STATUS_Signed_max',\n",
              "                                                   'credit_card_balance_NAME_CONTRACT_STATUS_Sent_proposal_max', ...])])),\n",
              "                ('classifier', LogisticRegression(C=0.001, tol=1e-05))])"
            ],
            "text/html": [
              "<style>#sk-container-id-1 {color: black;background-color: white;}#sk-container-id-1 pre{padding: 0;}#sk-container-id-1 div.sk-toggleable {background-color: white;}#sk-container-id-1 label.sk-toggleable__label {cursor: pointer;display: block;width: 100%;margin-bottom: 0;padding: 0.3em;box-sizing: border-box;text-align: center;}#sk-container-id-1 label.sk-toggleable__label-arrow:before {content: \"▸\";float: left;margin-right: 0.25em;color: #696969;}#sk-container-id-1 label.sk-toggleable__label-arrow:hover:before {color: black;}#sk-container-id-1 div.sk-estimator:hover label.sk-toggleable__label-arrow:before {color: black;}#sk-container-id-1 div.sk-toggleable__content {max-height: 0;max-width: 0;overflow: hidden;text-align: left;background-color: #f0f8ff;}#sk-container-id-1 div.sk-toggleable__content pre {margin: 0.2em;color: black;border-radius: 0.25em;background-color: #f0f8ff;}#sk-container-id-1 input.sk-toggleable__control:checked~div.sk-toggleable__content {max-height: 200px;max-width: 100%;overflow: auto;}#sk-container-id-1 input.sk-toggleable__control:checked~label.sk-toggleable__label-arrow:before {content: \"▾\";}#sk-container-id-1 div.sk-estimator input.sk-toggleable__control:checked~label.sk-toggleable__label {background-color: #d4ebff;}#sk-container-id-1 div.sk-label input.sk-toggleable__control:checked~label.sk-toggleable__label {background-color: #d4ebff;}#sk-container-id-1 input.sk-hidden--visually {border: 0;clip: rect(1px 1px 1px 1px);clip: rect(1px, 1px, 1px, 1px);height: 1px;margin: -1px;overflow: hidden;padding: 0;position: absolute;width: 1px;}#sk-container-id-1 div.sk-estimator {font-family: monospace;background-color: #f0f8ff;border: 1px dotted black;border-radius: 0.25em;box-sizing: border-box;margin-bottom: 0.5em;}#sk-container-id-1 div.sk-estimator:hover {background-color: #d4ebff;}#sk-container-id-1 div.sk-parallel-item::after {content: \"\";width: 100%;border-bottom: 1px solid gray;flex-grow: 1;}#sk-container-id-1 div.sk-label:hover label.sk-toggleable__label {background-color: #d4ebff;}#sk-container-id-1 div.sk-serial::before {content: \"\";position: absolute;border-left: 1px solid gray;box-sizing: border-box;top: 0;bottom: 0;left: 50%;z-index: 0;}#sk-container-id-1 div.sk-serial {display: flex;flex-direction: column;align-items: center;background-color: white;padding-right: 0.2em;padding-left: 0.2em;position: relative;}#sk-container-id-1 div.sk-item {position: relative;z-index: 1;}#sk-container-id-1 div.sk-parallel {display: flex;align-items: stretch;justify-content: center;background-color: white;position: relative;}#sk-container-id-1 div.sk-item::before, #sk-container-id-1 div.sk-parallel-item::before {content: \"\";position: absolute;border-left: 1px solid gray;box-sizing: border-box;top: 0;bottom: 0;left: 50%;z-index: -1;}#sk-container-id-1 div.sk-parallel-item {display: flex;flex-direction: column;z-index: 1;position: relative;background-color: white;}#sk-container-id-1 div.sk-parallel-item:first-child::after {align-self: flex-end;width: 50%;}#sk-container-id-1 div.sk-parallel-item:last-child::after {align-self: flex-start;width: 50%;}#sk-container-id-1 div.sk-parallel-item:only-child::after {width: 0;}#sk-container-id-1 div.sk-dashed-wrapped {border: 1px dashed gray;margin: 0 0.4em 0.5em 0.4em;box-sizing: border-box;padding-bottom: 0.4em;background-color: white;}#sk-container-id-1 div.sk-label label {font-family: monospace;font-weight: bold;display: inline-block;line-height: 1.2em;}#sk-container-id-1 div.sk-label-container {text-align: center;}#sk-container-id-1 div.sk-container {/* jupyter's `normalize.less` sets `[hidden] { display: none; }` but bootstrap.min.css set `[hidden] { display: none !important; }` so we also need the `!important` here to be able to override the default hidden behavior on the sphinx rendered scikit-learn.org. See: https://github.com/scikit-learn/scikit-learn/issues/21755 */display: inline-block !important;position: relative;}#sk-container-id-1 div.sk-text-repr-fallback {display: none;}</style><div id=\"sk-container-id-1\" class=\"sk-top-container\"><div class=\"sk-text-repr-fallback\"><pre>Pipeline(steps=[(&#x27;preprocessor&#x27;,\n",
              "                 ColumnTransformer(transformers=[(&#x27;con&#x27;,\n",
              "                                                  Pipeline(steps=[(&#x27;imputer&#x27;,\n",
              "                                                                   SimpleImputer()),\n",
              "                                                                  (&#x27;std_scaler&#x27;,\n",
              "                                                                   StandardScaler())]),\n",
              "                                                  [&#x27;CREDIT_ACTIVE_Closed_mean&#x27;,\n",
              "                                                   &#x27;CREDIT_ACTIVE_Active_mean&#x27;,\n",
              "                                                   &#x27;CREDIT_TYPE_Credit_card_mean&#x27;,\n",
              "                                                   &#x27;CREDIT_TYPE_Consumer_credit_mean&#x27;,\n",
              "                                                   &#x27;CREDIT_TYPE_Bad_loan_mean&#x27;,\n",
              "                                                   &#x27;CREDIT_TYPE_Car_loan_mean&#x27;,\n",
              "                                                   &#x27;CREDIT_TYPE_Mortgage_...\n",
              "                                                   &#x27;credit_card_balance_NAME_CONTRACT_STATUS_Active_sum&#x27;,\n",
              "                                                   &#x27;credit_card_balance_NAME_CONTRACT_STATUS_Completed_sum&#x27;,\n",
              "                                                   &#x27;credit_card_balance_NAME_CONTRACT_STATUS_Completed_max&#x27;,\n",
              "                                                   &#x27;credit_card_balance_NAME_CONTRACT_STATUS_Signed_sum&#x27;,\n",
              "                                                   &#x27;credit_card_balance_NAME_CONTRACT_STATUS_Signed_max&#x27;,\n",
              "                                                   &#x27;credit_card_balance_NAME_CONTRACT_STATUS_Sent_proposal_max&#x27;, ...])])),\n",
              "                (&#x27;classifier&#x27;, LogisticRegression(C=0.001, tol=1e-05))])</pre><b>In a Jupyter environment, please rerun this cell to show the HTML representation or trust the notebook. <br />On GitHub, the HTML representation is unable to render, please try loading this page with nbviewer.org.</b></div><div class=\"sk-container\" hidden><div class=\"sk-item sk-dashed-wrapped\"><div class=\"sk-label-container\"><div class=\"sk-label sk-toggleable\"><input class=\"sk-toggleable__control sk-hidden--visually\" id=\"sk-estimator-id-1\" type=\"checkbox\" ><label for=\"sk-estimator-id-1\" class=\"sk-toggleable__label sk-toggleable__label-arrow\">Pipeline</label><div class=\"sk-toggleable__content\"><pre>Pipeline(steps=[(&#x27;preprocessor&#x27;,\n",
              "                 ColumnTransformer(transformers=[(&#x27;con&#x27;,\n",
              "                                                  Pipeline(steps=[(&#x27;imputer&#x27;,\n",
              "                                                                   SimpleImputer()),\n",
              "                                                                  (&#x27;std_scaler&#x27;,\n",
              "                                                                   StandardScaler())]),\n",
              "                                                  [&#x27;CREDIT_ACTIVE_Closed_mean&#x27;,\n",
              "                                                   &#x27;CREDIT_ACTIVE_Active_mean&#x27;,\n",
              "                                                   &#x27;CREDIT_TYPE_Credit_card_mean&#x27;,\n",
              "                                                   &#x27;CREDIT_TYPE_Consumer_credit_mean&#x27;,\n",
              "                                                   &#x27;CREDIT_TYPE_Bad_loan_mean&#x27;,\n",
              "                                                   &#x27;CREDIT_TYPE_Car_loan_mean&#x27;,\n",
              "                                                   &#x27;CREDIT_TYPE_Mortgage_...\n",
              "                                                   &#x27;credit_card_balance_NAME_CONTRACT_STATUS_Active_sum&#x27;,\n",
              "                                                   &#x27;credit_card_balance_NAME_CONTRACT_STATUS_Completed_sum&#x27;,\n",
              "                                                   &#x27;credit_card_balance_NAME_CONTRACT_STATUS_Completed_max&#x27;,\n",
              "                                                   &#x27;credit_card_balance_NAME_CONTRACT_STATUS_Signed_sum&#x27;,\n",
              "                                                   &#x27;credit_card_balance_NAME_CONTRACT_STATUS_Signed_max&#x27;,\n",
              "                                                   &#x27;credit_card_balance_NAME_CONTRACT_STATUS_Sent_proposal_max&#x27;, ...])])),\n",
              "                (&#x27;classifier&#x27;, LogisticRegression(C=0.001, tol=1e-05))])</pre></div></div></div><div class=\"sk-serial\"><div class=\"sk-item sk-dashed-wrapped\"><div class=\"sk-label-container\"><div class=\"sk-label sk-toggleable\"><input class=\"sk-toggleable__control sk-hidden--visually\" id=\"sk-estimator-id-2\" type=\"checkbox\" ><label for=\"sk-estimator-id-2\" class=\"sk-toggleable__label sk-toggleable__label-arrow\">preprocessor: ColumnTransformer</label><div class=\"sk-toggleable__content\"><pre>ColumnTransformer(transformers=[(&#x27;con&#x27;,\n",
              "                                 Pipeline(steps=[(&#x27;imputer&#x27;, SimpleImputer()),\n",
              "                                                 (&#x27;std_scaler&#x27;,\n",
              "                                                  StandardScaler())]),\n",
              "                                 [&#x27;CREDIT_ACTIVE_Closed_mean&#x27;,\n",
              "                                  &#x27;CREDIT_ACTIVE_Active_mean&#x27;,\n",
              "                                  &#x27;CREDIT_TYPE_Credit_card_mean&#x27;,\n",
              "                                  &#x27;CREDIT_TYPE_Consumer_credit_mean&#x27;,\n",
              "                                  &#x27;CREDIT_TYPE_Bad_loan_mean&#x27;,\n",
              "                                  &#x27;CREDIT_TYPE_Car_loan_mean&#x27;,\n",
              "                                  &#x27;CREDIT_TYPE_Mortgage_mean&#x27;,\n",
              "                                  &#x27;CREDIT_ACTIVE_Bad_debt_me...\n",
              "                                  &#x27;YEARS_CREDIT_3year_sum&#x27;,\n",
              "                                  &#x27;credit_card_balance_NAME_CONTRACT_STATUS_Active_sum&#x27;,\n",
              "                                  &#x27;credit_card_balance_NAME_CONTRACT_STATUS_Completed_sum&#x27;,\n",
              "                                  &#x27;credit_card_balance_NAME_CONTRACT_STATUS_Completed_max&#x27;,\n",
              "                                  &#x27;credit_card_balance_NAME_CONTRACT_STATUS_Signed_sum&#x27;,\n",
              "                                  &#x27;credit_card_balance_NAME_CONTRACT_STATUS_Signed_max&#x27;,\n",
              "                                  &#x27;credit_card_balance_NAME_CONTRACT_STATUS_Sent_proposal_max&#x27;, ...])])</pre></div></div></div><div class=\"sk-parallel\"><div class=\"sk-parallel-item\"><div class=\"sk-item\"><div class=\"sk-label-container\"><div class=\"sk-label sk-toggleable\"><input class=\"sk-toggleable__control sk-hidden--visually\" id=\"sk-estimator-id-3\" type=\"checkbox\" ><label for=\"sk-estimator-id-3\" class=\"sk-toggleable__label sk-toggleable__label-arrow\">con</label><div class=\"sk-toggleable__content\"><pre>[&#x27;CREDIT_ACTIVE_Closed_mean&#x27;, &#x27;CREDIT_ACTIVE_Active_mean&#x27;, &#x27;CREDIT_TYPE_Credit_card_mean&#x27;, &#x27;CREDIT_TYPE_Consumer_credit_mean&#x27;, &#x27;CREDIT_TYPE_Bad_loan_mean&#x27;, &#x27;CREDIT_TYPE_Car_loan_mean&#x27;, &#x27;CREDIT_TYPE_Mortgage_mean&#x27;, &#x27;CREDIT_ACTIVE_Bad_debt_mean&#x27;, &#x27;DAYS_CREDIT_TO_YEARS_min&#x27;, &#x27;DAYS_CREDIT_TO_YEARS_max&#x27;, &#x27;DAYS_CREDIT_TO_YEARS_mean&#x27;, &#x27;DAYS_CREDIT_TO_YEARS_std&#x27;, &#x27;DAYS_CREDIT_TO_YEARS_median&#x27;, &#x27;CREDIT_DAY_OVERDUE_TO_YEARS_min&#x27;, &#x27;CREDIT_DAY_OVERDUE_TO_YEARS_max&#x27;, &#x27;CREDIT_DAY_OVERDUE_TO_YEARS_mean&#x27;, &#x27;CREDIT_DAY_OVERDUE_TO_YEARS_std&#x27;, &#x27;CREDIT_DAY_OVERDUE_TO_YEARS_median&#x27;, &#x27;DAYS_CREDIT_UPDATE_TO_YEARS_min&#x27;, &#x27;DAYS_CREDIT_UPDATE_TO_YEARS_max&#x27;, &#x27;DAYS_CREDIT_UPDATE_TO_YEARS_mean&#x27;, &#x27;DAYS_CREDIT_UPDATE_TO_YEARS_std&#x27;, &#x27;DAYS_CREDIT_UPDATE_TO_YEARS_median&#x27;, &#x27;DAYS_CREDIT_ENDDATE_TO_YEARS_min&#x27;, &#x27;DAYS_CREDIT_ENDDATE_TO_YEARS_max&#x27;, &#x27;DAYS_CREDIT_ENDDATE_TO_YEARS_mean&#x27;, &#x27;DAYS_CREDIT_ENDDATE_TO_YEARS_std&#x27;, &#x27;DAYS_CREDIT_ENDDATE_TO_YEARS_median&#x27;, &#x27;DAYS_ENDDATE_FACT_TO_YEARS_min&#x27;, &#x27;DAYS_ENDDATE_FACT_TO_YEARS_max&#x27;, &#x27;DAYS_ENDDATE_FACT_TO_YEARS_mean&#x27;, &#x27;DAYS_ENDDATE_FACT_TO_YEARS_std&#x27;, &#x27;DAYS_ENDDATE_FACT_TO_YEARS_median&#x27;, &#x27;AMT_CREDIT_SUM_DEBT_median&#x27;, &#x27;AMT_CREDIT_SUM_DEBT_mean&#x27;, &#x27;AMT_CREDIT_SUM_DEBT_std&#x27;, &#x27;AMT_CREDIT_MAX_OVERDUE_std&#x27;, &#x27;AMT_CREDIT_MAX_OVERDUE_mean&#x27;, &#x27;AMT_CREDIT_MAX_OVERDUE_max&#x27;, &#x27;AMT_CREDIT_SUM_DEBT_max&#x27;, &#x27;AMT_CREDIT_MAX_OVERDUE_median&#x27;, &#x27;AMT_CREDIT_SUM_LIMIT_std&#x27;, &#x27;AMT_ANNUITY_median&#x27;, &#x27;AMT_ANNUITY_mean&#x27;, &#x27;AMT_CREDIT_SUM_DEBT_min&#x27;, &#x27;AMT_CREDIT_SUM_LIMIT_max&#x27;, &#x27;AMT_CREDIT_SUM_LIMIT_mean&#x27;, &#x27;AMT_ANNUITY_std&#x27;, &#x27;AMT_ANNUITY_max&#x27;, &#x27;AMT_CREDIT_SUM_median&#x27;, &#x27;AMT_ANNUITY_min&#x27;, &#x27;AMT_CREDIT_SUM_mean&#x27;, &#x27;AMT_CREDIT_MAX_OVERDUE_min&#x27;, &#x27;AMT_CREDIT_SUM_min&#x27;, &#x27;AMT_CREDIT_SUM_max&#x27;, &#x27;AMT_CREDIT_SUM_LIMIT_median&#x27;, &#x27;AMT_CREDIT_SUM_OVERDUE_std&#x27;, &#x27;AMT_CREDIT_SUM_OVERDUE_mean&#x27;, &#x27;AMT_CREDIT_SUM_OVERDUE_max&#x27;, &#x27;AMT_CREDIT_SUM_std&#x27;, &#x27;CNT_CREDIT_PROLONG_std&#x27;, &#x27;AMT_CREDIT_SUM_LIMIT_min&#x27;, &#x27;CNT_CREDIT_PROLONG_mean&#x27;, &#x27;AMT_CREDIT_SUM_OVERDUE_median&#x27;, &#x27;credit_card_balance_NAME_CONTRACT_STATUS_Active_mean&#x27;, &#x27;credit_card_balance_NAME_CONTRACT_STATUS_Completed_mean&#x27;, &#x27;credit_card_balance_NAME_CONTRACT_STATUS_Signed_mean&#x27;, &#x27;credit_card_balance_NAME_CONTRACT_STATUS_Sent_proposal_mean&#x27;, &#x27;credit_card_balance_MONTHS_BALANCE_mean&#x27;, &#x27;credit_card_balance_MONTHS_BALANCE_std&#x27;, &#x27;credit_card_balance_AMT_CREDIT_LIMIT_ACTUAL_mean&#x27;, &#x27;credit_card_balance_AMT_CREDIT_LIMIT_ACTUAL_std&#x27;, &#x27;credit_card_balance_CNT_DRAWINGS_CURRENT_mean&#x27;, &#x27;credit_card_balance_CNT_DRAWINGS_CURRENT_std&#x27;, &#x27;credit_card_balance_is_DPD_mean&#x27;, &#x27;credit_card_balance_is_DPD_std&#x27;, &#x27;credit_card_balance_is_DPD_DEF_mean&#x27;, &#x27;credit_card_balance_is_DPD_DEF_std&#x27;, &#x27;credit_card_balance_AMT_BALANCE_max&#x27;, &#x27;credit_card_balance_AMT_BALANCE_min&#x27;, &#x27;credit_card_balance_AMT_BALANCE_sum&#x27;, &#x27;credit_card_balance_AMT_BALANCE_mean&#x27;, &#x27;credit_card_balance_AMT_BALANCE_std&#x27;, &#x27;credit_card_balance_AMT_DRAWINGS_ATM_CURRENT_mean&#x27;, &#x27;credit_card_balance_AMT_DRAWINGS_ATM_CURRENT_std&#x27;, &#x27;credit_card_balance_AMT_DRAWINGS_CURRENT_max&#x27;, &#x27;credit_card_balance_AMT_DRAWINGS_CURRENT_min&#x27;, &#x27;credit_card_balance_AMT_DRAWINGS_CURRENT_sum&#x27;, &#x27;credit_card_balance_AMT_DRAWINGS_CURRENT_mean&#x27;, &#x27;credit_card_balance_AMT_DRAWINGS_CURRENT_std&#x27;, &#x27;credit_card_balance_AMT_DRAWINGS_OTHER_CURRENT_max&#x27;, &#x27;credit_card_balance_AMT_DRAWINGS_OTHER_CURRENT_sum&#x27;, &#x27;credit_card_balance_AMT_DRAWINGS_OTHER_CURRENT_mean&#x27;, &#x27;credit_card_balance_AMT_DRAWINGS_OTHER_CURRENT_std&#x27;, &#x27;credit_card_balance_AMT_DRAWINGS_POS_CURRENT_max&#x27;, &#x27;credit_card_balance_AMT_DRAWINGS_POS_CURRENT_min&#x27;, &#x27;credit_card_balance_AMT_DRAWINGS_POS_CURRENT_sum&#x27;, &#x27;credit_card_balance_AMT_DRAWINGS_POS_CURRENT_mean&#x27;, &#x27;credit_card_balance_AMT_DRAWINGS_POS_CURRENT_std&#x27;, &#x27;credit_card_balance_AMT_INST_MIN_REGULARITY_max&#x27;, &#x27;credit_card_balance_AMT_INST_MIN_REGULARITY_min&#x27;, &#x27;credit_card_balance_AMT_INST_MIN_REGULARITY_sum&#x27;, &#x27;credit_card_balance_AMT_INST_MIN_REGULARITY_mean&#x27;, &#x27;credit_card_balance_AMT_INST_MIN_REGULARITY_std&#x27;, &#x27;credit_card_balance_AMT_PAYMENT_CURRENT_max&#x27;, &#x27;credit_card_balance_AMT_PAYMENT_CURRENT_min&#x27;, &#x27;credit_card_balance_AMT_PAYMENT_CURRENT_sum&#x27;, &#x27;credit_card_balance_AMT_PAYMENT_CURRENT_mean&#x27;, &#x27;credit_card_balance_AMT_PAYMENT_CURRENT_std&#x27;, &#x27;credit_card_balance_AMT_PAYMENT_TOTAL_CURRENT_max&#x27;, &#x27;credit_card_balance_AMT_PAYMENT_TOTAL_CURRENT_min&#x27;, &#x27;credit_card_balance_AMT_PAYMENT_TOTAL_CURRENT_sum&#x27;, &#x27;credit_card_balance_AMT_PAYMENT_TOTAL_CURRENT_mean&#x27;, &#x27;credit_card_balance_AMT_PAYMENT_TOTAL_CURRENT_std&#x27;, &#x27;credit_card_balance_AMT_RECEIVABLE_PRINCIPAL_max&#x27;, &#x27;credit_card_balance_AMT_RECEIVABLE_PRINCIPAL_min&#x27;, &#x27;credit_card_balance_AMT_RECEIVABLE_PRINCIPAL_sum&#x27;, &#x27;credit_card_balance_AMT_RECEIVABLE_PRINCIPAL_mean&#x27;, &#x27;credit_card_balance_AMT_RECEIVABLE_PRINCIPAL_std&#x27;, &#x27;credit_card_balance_AMT_RECIVABLE_max&#x27;, &#x27;credit_card_balance_AMT_RECIVABLE_min&#x27;, &#x27;credit_card_balance_AMT_RECIVABLE_sum&#x27;, &#x27;credit_card_balance_AMT_RECIVABLE_mean&#x27;, &#x27;credit_card_balance_AMT_RECIVABLE_std&#x27;, &#x27;credit_card_balance_AMT_TOTAL_RECEIVABLE_max&#x27;, &#x27;credit_card_balance_AMT_TOTAL_RECEIVABLE_min&#x27;, &#x27;credit_card_balance_AMT_TOTAL_RECEIVABLE_sum&#x27;, &#x27;credit_card_balance_AMT_TOTAL_RECEIVABLE_mean&#x27;, &#x27;credit_card_balance_AMT_TOTAL_RECEIVABLE_std&#x27;, &#x27;credit_card_balance_CNT_DRAWINGS_ATM_CURRENT_mean&#x27;, &#x27;credit_card_balance_CNT_DRAWINGS_ATM_CURRENT_std&#x27;, &#x27;credit_card_balance_CNT_DRAWINGS_OTHER_CURRENT_mean&#x27;, &#x27;credit_card_balance_CNT_DRAWINGS_OTHER_CURRENT_std&#x27;, &#x27;credit_card_balance_CNT_DRAWINGS_POS_CURRENT_mean&#x27;, &#x27;credit_card_balance_CNT_DRAWINGS_POS_CURRENT_std&#x27;, &#x27;credit_card_balance_CNT_INSTALMENT_MATURE_CUM_mean&#x27;, &#x27;credit_card_balance_CNT_INSTALMENT_MATURE_CUM_std&#x27;, &#x27;installments_payments_NUM_INSTALMENT_NUMBER_mean&#x27;, &#x27;installments_payments_NUM_INSTALMENT_NUMBER_std&#x27;, &#x27;installments_payments_NUM_INSTALMENT_VERSION_mean&#x27;, &#x27;installments_payments_NUM_INSTALMENT_VERSION_std&#x27;, &#x27;installments_payments_DAYS_ENTRY_PAYMENT_mean&#x27;, &#x27;installments_payments_DAYS_ENTRY_PAYMENT_std&#x27;, &#x27;installments_payments_AMT_INSTALMENT_max&#x27;, &#x27;installments_payments_AMT_INSTALMENT_min&#x27;, &#x27;installments_payments_AMT_INSTALMENT_sum&#x27;, &#x27;installments_payments_AMT_INSTALMENT_mean&#x27;, &#x27;installments_payments_AMT_INSTALMENT_std&#x27;, &#x27;installments_payments_AMT_PAYMENT_max&#x27;, &#x27;installments_payments_AMT_PAYMENT_min&#x27;, &#x27;installments_payments_AMT_PAYMENT_sum&#x27;, &#x27;installments_payments_AMT_PAYMENT_mean&#x27;, &#x27;installments_payments_AMT_PAYMENT_std&#x27;, &#x27;installments_payments_DAYS_INSTALMENT_TO_YEARS_max&#x27;, &#x27;installments_payments_DAYS_INSTALMENT_TO_YEARS_min&#x27;, &#x27;installments_payments_DAYS_INSTALMENT_TO_YEARS_sum&#x27;, &#x27;installments_payments_DAYS_INSTALMENT_TO_YEARS_mean&#x27;, &#x27;installments_payments_DAYS_INSTALMENT_TO_YEARS_std&#x27;, &#x27;installments_payments_diff_amount_max&#x27;, &#x27;installments_payments_diff_amount_min&#x27;, &#x27;installments_payments_diff_amount_sum&#x27;, &#x27;installments_payments_diff_amount_mean&#x27;, &#x27;installments_payments_diff_amount_std&#x27;, &#x27;pos_cash_NAME_CONTRACT_STATUS_Active_mean&#x27;, &#x27;pos_cash_NAME_CONTRACT_STATUS_Completed_mean&#x27;, &#x27;pos_cash_NAME_CONTRACT_STATUS_Returned_to_the_store_mean&#x27;, &#x27;pos_cash_NAME_CONTRACT_STATUS_Signed_mean&#x27;, &#x27;pos_cash_MONTHS_BALANCE_mean&#x27;, &#x27;pos_cash_MONTHS_BALANCE_std&#x27;, &#x27;pos_cash_is_DPD_mean&#x27;, &#x27;pos_cash_is_DPD_std&#x27;, &#x27;pos_cash_is_DPD_DEF_mean&#x27;, &#x27;pos_cash_is_DPD_DEF_std&#x27;, &#x27;pos_cash_CNT_INSTALMENT_mean&#x27;, &#x27;pos_cash_CNT_INSTALMENT_std&#x27;, &#x27;pos_cash_CNT_INSTALMENT_FUTURE_mean&#x27;, &#x27;pos_cash_CNT_INSTALMENT_FUTURE_std&#x27;, &#x27;prev_app_NAME_PRODUCT_TYPE_walk_in_mean&#x27;, &#x27;prev_app_NAME_CONTRACT_TYPE_Revolving_loans_mean&#x27;, &#x27;prev_app_NAME_CONTRACT_TYPE_Consumer_loans_mean&#x27;, &#x27;prev_app_PRODUCT_COMBINATION_Card_Street_mean&#x27;, &#x27;prev_app_PRODUCT_COMBINATION_Cash_X_Sell__low_mean&#x27;, &#x27;prev_app_PRODUCT_COMBINATION_POS_industry_with_interest_mean&#x27;, &#x27;prev_app_NAME_TYPE_SUITE_Unaccompanied_mean&#x27;, &#x27;prev_app_NAME_TYPE_SUITE_Family_mean&#x27;, &#x27;prev_app_NAME_PRODUCT_TYPE_XNA_mean&#x27;, &#x27;prev_app_PRODUCT_COMBINATION_Cash_Street__high_mean&#x27;, &#x27;prev_app_PRODUCT_COMBINATION_Cash_X_Sell__high_mean&#x27;, &#x27;prev_app_PRODUCT_COMBINATION_POS_household_without_interest_mean&#x27;, &#x27;prev_app_PRODUCT_COMBINATION_POS_mobile_with_interest_mean&#x27;, &#x27;prev_app_NAME_PRODUCT_TYPE_x_sell_mean&#x27;, &#x27;prev_app_PRODUCT_COMBINATION_Cash_mean&#x27;, &#x27;prev_app_PRODUCT_COMBINATION_POS_household_with_interest_mean&#x27;, &#x27;prev_app_NAME_CONTRACT_TYPE_Cash_loans_mean&#x27;, &#x27;prev_app_PRODUCT_COMBINATION_Cash_Street__middle_mean&#x27;, &#x27;prev_app_PRODUCT_COMBINATION_Cash_X_Sell__middle_mean&#x27;, &#x27;prev_app_PRODUCT_COMBINATION_Card_X_Sell_mean&#x27;, &#x27;prev_app_NAME_TYPE_SUITE_Children_mean&#x27;, &#x27;prev_app_WEEKDAY_APPR_PROCESS_START_SATURDAY_mean&#x27;, &#x27;prev_app_WEEKDAY_APPR_PROCESS_START_SUNDAY_mean&#x27;, &#x27;prev_app_PRODUCT_COMBINATION_POS_industry_without_interest_mean&#x27;, &#x27;prev_app_WEEKDAY_APPR_PROCESS_START_MONDAY_mean&#x27;, &#x27;prev_app_PRODUCT_COMBINATION_Cash_Street__low_mean&#x27;, &#x27;prev_app_NAME_TYPE_SUITE_Spouse,_partner_mean&#x27;, &#x27;prev_app_WEEKDAY_APPR_PROCESS_START_THURSDAY_mean&#x27;, &#x27;prev_app_WEEKDAY_APPR_PROCESS_START_WEDNESDAY_mean&#x27;, &#x27;prev_app_WEEKDAY_APPR_PROCESS_START_FRIDAY_mean&#x27;, &#x27;prev_app_PRODUCT_COMBINATION_POS_other_with_interest_mean&#x27;, &#x27;prev_app_FLAG_LAST_APPL_PER_CONTRACT_Y_mean&#x27;, &#x27;prev_app_FLAG_LAST_APPL_PER_CONTRACT_N_mean&#x27;, &#x27;prev_app_PRODUCT_COMBINATION_POS_mobile_without_interest_mean&#x27;, &#x27;prev_app_WEEKDAY_APPR_PROCESS_START_TUESDAY_mean&#x27;, &#x27;prev_app_CODE_REJECT_REASON_ordinal_std&#x27;, &#x27;prev_app_NAME_CONTRACT_STATUS_ordinal_std&#x27;, &#x27;prev_app_NAME_CONTRACT_STATUS_ordinal_mean&#x27;, &#x27;prev_app_is_PREPAID_USER_mean&#x27;, &#x27;prev_app_CODE_REJECT_REASON_ordinal_mean&#x27;, &#x27;prev_app_NAME_YIELD_GROUP_ordinal_mean&#x27;, &#x27;prev_app_NAME_GOODS_CATEGORY_ordinal_mean&#x27;, &#x27;prev_app_NAME_PORTFOLIO_ordinal_mean&#x27;, &#x27;prev_app_is_PREPAID_USER_std&#x27;, &#x27;prev_app_NAME_CASH_LOAN_PURPOSE_ordinal_std&#x27;, &#x27;prev_app_SELLERPLACE_AREA_mean&#x27;, &#x27;prev_app_HOUR_APPR_PROCESS_START_mean&#x27;, &#x27;prev_app_SELLERPLACE_AREA_std&#x27;, &#x27;prev_app_NAME_GOODS_CATEGORY_ordinal_std&#x27;, &#x27;prev_app_NAME_PAYMENT_TYPE_ordinal_mean&#x27;, &#x27;prev_app_NAME_PORTFOLIO_ordinal_std&#x27;, &#x27;prev_app_NAME_SELLER_INDUSTRY_ordinal_mean&#x27;, &#x27;prev_app_NAME_YIELD_GROUP_ordinal_std&#x27;, &#x27;prev_app_NAME_CASH_LOAN_PURPOSE_ordinal_mean&#x27;, &#x27;prev_app_NAME_CLIENT_TYPE_ordinal_std&#x27;, &#x27;prev_app_NAME_PAYMENT_TYPE_ordinal_std&#x27;, &#x27;prev_app_NAME_SELLER_INDUSTRY_ordinal_std&#x27;, &#x27;prev_app_CHANNEL_TYPE_ordinal_std&#x27;, &#x27;prev_app_HOUR_APPR_PROCESS_START_std&#x27;, &#x27;prev_app_CHANNEL_TYPE_ordinal_mean&#x27;, &#x27;prev_app_NAME_CLIENT_TYPE_ordinal_mean&#x27;, &#x27;prev_app_NFLAG_LAST_APPL_IN_DAY_std&#x27;, &#x27;prev_app_NFLAG_LAST_APPL_IN_DAY_mean&#x27;, &#x27;prev_app_DAYS_FIRST_DRAWING_TO_YEARS_min&#x27;, &#x27;prev_app_DAYS_FIRST_DRAWING_TO_YEARS_mean&#x27;, &#x27;prev_app_DAYS_FIRST_DRAWING_TO_YEARS_max&#x27;, &#x27;prev_app_DAYS_DECISION_TO_YEARS_std&#x27;, &#x27;prev_app_AMT_DOWN_PAYMENT_std&#x27;, &#x27;prev_app_DAYS_LAST_DUE_1ST_VERSION_TO_YEARS_sum&#x27;, &#x27;prev_app_AMT_DOWN_PAYMENT_sum&#x27;, &#x27;prev_app_AMT_DOWN_PAYMENT_max&#x27;, &#x27;prev_app_DAYS_DECISION_TO_YEARS_mean&#x27;, &#x27;prev_app_DAYS_FIRST_DUE_TO_YEARS_std&#x27;, &#x27;prev_app_AMT_DOWN_PAYMENT_mean&#x27;, &#x27;prev_app_DAYS_FIRST_DUE_TO_YEARS_max&#x27;, &#x27;prev_app_DAYS_DECISION_TO_YEARS_max&#x27;, &#x27;prev_app_DAYS_LAST_DUE_TO_YEARS_sum&#x27;, &#x27;prev_app_DAYS_TERMINATION_TO_YEARS_sum&#x27;, &#x27;prev_app_DAYS_LAST_DUE_1ST_VERSION_TO_YEARS_max&#x27;, &#x27;prev_app_DAYS_FIRST_DUE_TO_YEARS_sum&#x27;, &#x27;prev_app_AMT_ANNUITY_mean&#x27;, &#x27;prev_app_DAYS_LAST_DUE_TO_YEARS_max&#x27;, &#x27;prev_app_DAYS_TERMINATION_TO_YEARS_max&#x27;, &#x27;prev_app_RATE_DOWN_PAYMENT_std&#x27;, &#x27;prev_app_DAYS_LAST_DUE_1ST_VERSION_TO_YEARS_mean&#x27;, &#x27;prev_app_DAYS_FIRST_DUE_TO_YEARS_mean&#x27;, &#x27;prev_app_RATE_DOWN_PAYMENT_max&#x27;, &#x27;prev_app_CNT_PAYMENT_std&#x27;, &#x27;prev_app_DAYS_LAST_DUE_TO_YEARS_std&#x27;, &#x27;prev_app_DAYS_TERMINATION_TO_YEARS_std&#x27;, &#x27;prev_app_DAYS_LAST_DUE_TO_YEARS_mean&#x27;, &#x27;prev_app_DAYS_TERMINATION_TO_YEARS_mean&#x27;, &#x27;prev_app_RATE_DOWN_PAYMENT_mean&#x27;, &#x27;prev_app_AMT_APPLICATION_mean&#x27;, &#x27;prev_app_AMT_GOODS_PRICE_mean&#x27;, &#x27;prev_app_AMT_ANNUITY_max&#x27;, &#x27;prev_app_AMT_ANNUITY_min&#x27;, &#x27;prev_app_DAYS_DECISION_TO_YEARS_sum&#x27;, &#x27;prev_app_DAYS_FIRST_DRAWING_TO_YEARS_sum&#x27;, &#x27;prev_app_AMT_CREDIT_min&#x27;, &#x27;prev_app_AMT_CREDIT_mean&#x27;, &#x27;prev_app_AMT_ANNUITY_sum&#x27;, &#x27;prev_app_DAYS_DECISION_TO_YEARS_min&#x27;, &#x27;prev_app_AMT_GOODS_PRICE_min&#x27;, &#x27;prev_app_AMT_APPLICATION_min&#x27;, &#x27;prev_app_AMT_APPLICATION_max&#x27;, &#x27;prev_app_AMT_GOODS_PRICE_max&#x27;, &#x27;prev_app_AMT_ANNUITY_std&#x27;, &#x27;prev_app_AMT_APPLICATION_sum&#x27;, &#x27;prev_app_AMT_GOODS_PRICE_sum&#x27;, &#x27;prev_app_DAYS_LAST_DUE_1ST_VERSION_TO_YEARS_std&#x27;, &#x27;prev_app_AMT_CREDIT_max&#x27;, &#x27;prev_app_RATE_DOWN_PAYMENT_sum&#x27;, &#x27;prev_app_DAYS_LAST_DUE_1ST_VERSION_TO_YEARS_min&#x27;, &#x27;prev_app_NFLAG_INSURED_ON_APPROVAL_std&#x27;, &#x27;prev_app_AMT_CREDIT_sum&#x27;, &#x27;prev_app_RATE_INTEREST_PRIVILEGED_sum&#x27;, &#x27;prev_app_RATE_INTEREST_PRIMARY_sum&#x27;, &#x27;prev_app_AMT_APPLICATION_std&#x27;, &#x27;prev_app_AMT_GOODS_PRICE_std&#x27;, &#x27;prev_app_CNT_PAYMENT_mean&#x27;, &#x27;prev_app_AMT_DOWN_PAYMENT_min&#x27;, &#x27;prev_app_DAYS_LAST_DUE_TO_YEARS_min&#x27;, &#x27;prev_app_DAYS_TERMINATION_TO_YEARS_min&#x27;, &#x27;prev_app_DAYS_FIRST_DUE_TO_YEARS_min&#x27;, &#x27;prev_app_NFLAG_INSURED_ON_APPROVAL_mean&#x27;, &#x27;prev_app_RATE_DOWN_PAYMENT_min&#x27;, &#x27;prev_app_AMT_CREDIT_std&#x27;, &#x27;prev_app_RATE_INTEREST_PRIMARY_mean&#x27;, &#x27;prev_app_RATE_INTEREST_PRIVILEGED_mean&#x27;, &#x27;train_test_num_fullfill_ext_lr_final_imputer_0_REGION_POPULATION_RELATIVE&#x27;, &#x27;train_test_num_fullfill_ext_lr_final_imputer_0_DAYS_REGISTRATION&#x27;, &#x27;train_test_num_fullfill_ext_lr_final_imputer_0_EXT_SOURCE_1&#x27;, &#x27;train_test_num_fullfill_ext_lr_final_imputer_0_EXT_SOURCE_2&#x27;, &#x27;train_test_num_fullfill_ext_lr_final_imputer_0_EXT_SOURCE_3&#x27;, &#x27;train_test_num_fullfill_ext_lr_final_imputer_0_APARTMENTS_AVG&#x27;, &#x27;train_test_num_fullfill_ext_lr_final_imputer_0_BASEMENTAREA_AVG&#x27;, &#x27;train_test_num_fullfill_ext_lr_final_imputer_0_YEARS_BEGINEXPLUATATION_AVG&#x27;, &#x27;train_test_num_fullfill_ext_lr_final_imputer_0_YEARS_BUILD_AVG&#x27;, &#x27;train_test_num_fullfill_ext_lr_final_imputer_0_COMMONAREA_AVG&#x27;, &#x27;train_test_num_fullfill_ext_lr_final_imputer_0_ELEVATORS_AVG&#x27;, &#x27;train_test_num_fullfill_ext_lr_final_imputer_0_ENTRANCES_AVG&#x27;, &#x27;train_test_num_fullfill_ext_lr_final_imputer_0_FLOORSMAX_AVG&#x27;, &#x27;train_test_num_fullfill_ext_lr_final_imputer_0_FLOORSMIN_AVG&#x27;, &#x27;train_test_num_fullfill_ext_lr_final_imputer_0_LANDAREA_AVG&#x27;, &#x27;train_test_num_fullfill_ext_lr_final_imputer_0_LIVINGAPARTMENTS_AVG&#x27;, &#x27;train_test_num_fullfill_ext_lr_final_imputer_0_LIVINGAREA_AVG&#x27;, &#x27;train_test_num_fullfill_ext_lr_final_imputer_0_NONLIVINGAPARTMENTS_AVG&#x27;, &#x27;train_test_num_fullfill_ext_lr_final_imputer_0_NONLIVINGAREA_AVG&#x27;, &#x27;train_test_num_fullfill_ext_lr_final_imputer_0_APARTMENTS_MODE&#x27;, &#x27;train_test_num_fullfill_ext_lr_final_imputer_0_BASEMENTAREA_MODE&#x27;, &#x27;train_test_num_fullfill_ext_lr_final_imputer_0_YEARS_BEGINEXPLUATATION_MODE&#x27;, &#x27;train_test_num_fullfill_ext_lr_final_imputer_0_YEARS_BUILD_MODE&#x27;, &#x27;train_test_num_fullfill_ext_lr_final_imputer_0_COMMONAREA_MODE&#x27;, &#x27;train_test_num_fullfill_ext_lr_final_imputer_0_ELEVATORS_MODE&#x27;, &#x27;train_test_num_fullfill_ext_lr_final_imputer_0_ENTRANCES_MODE&#x27;, &#x27;train_test_num_fullfill_ext_lr_final_imputer_0_FLOORSMAX_MODE&#x27;, &#x27;train_test_num_fullfill_ext_lr_final_imputer_0_FLOORSMIN_MODE&#x27;, &#x27;train_test_num_fullfill_ext_lr_final_imputer_0_LANDAREA_MODE&#x27;, &#x27;train_test_num_fullfill_ext_lr_final_imputer_0_LIVINGAPARTMENTS_MODE&#x27;, &#x27;train_test_num_fullfill_ext_lr_final_imputer_0_LIVINGAREA_MODE&#x27;, &#x27;train_test_num_fullfill_ext_lr_final_imputer_0_NONLIVINGAPARTMENTS_MODE&#x27;, &#x27;train_test_num_fullfill_ext_lr_final_imputer_0_NONLIVINGAREA_MODE&#x27;, &#x27;train_test_num_fullfill_ext_lr_final_imputer_0_APARTMENTS_MEDI&#x27;, &#x27;train_test_num_fullfill_ext_lr_final_imputer_0_BASEMENTAREA_MEDI&#x27;, &#x27;train_test_num_fullfill_ext_lr_final_imputer_0_YEARS_BEGINEXPLUATATION_MEDI&#x27;, &#x27;train_test_num_fullfill_ext_lr_final_imputer_0_YEARS_BUILD_MEDI&#x27;, &#x27;train_test_num_fullfill_ext_lr_final_imputer_0_COMMONAREA_MEDI&#x27;, &#x27;train_test_num_fullfill_ext_lr_final_imputer_0_ELEVATORS_MEDI&#x27;, &#x27;train_test_num_fullfill_ext_lr_final_imputer_0_ENTRANCES_MEDI&#x27;, &#x27;train_test_num_fullfill_ext_lr_final_imputer_0_FLOORSMAX_MEDI&#x27;, &#x27;train_test_num_fullfill_ext_lr_final_imputer_0_FLOORSMIN_MEDI&#x27;, &#x27;train_test_num_fullfill_ext_lr_final_imputer_0_LANDAREA_MEDI&#x27;, &#x27;train_test_num_fullfill_ext_lr_final_imputer_0_LIVINGAPARTMENTS_MEDI&#x27;, &#x27;train_test_num_fullfill_ext_lr_final_imputer_0_LIVINGAREA_MEDI&#x27;, &#x27;train_test_num_fullfill_ext_lr_final_imputer_0_NONLIVINGAPARTMENTS_MEDI&#x27;, &#x27;train_test_num_fullfill_ext_lr_final_imputer_0_NONLIVINGAREA_MEDI&#x27;, &#x27;train_test_num_fullfill_ext_lr_final_imputer_0_TOTALAREA_MODE&#x27;, &#x27;train_test_num_fullfill_ext_lr_final_imputer_0_CREDIT_ANNUITY_RATIO&#x27;, &#x27;train_test_num_fullfill_ext_lr_final_imputer_0_CREDIT_INCOME_RATIO&#x27;, &#x27;train_test_num_fullfill_ext_lr_final_imputer_0_ANNUITY_INCOME_RATIO&#x27;, &#x27;train_test_num_fullfill_ext_lr_final_imputer_0_CREDIT_GOODS_RATIO&#x27;, &#x27;train_test_num_fullfill_ext_lr_final_imputer_0_CREDIT_EXT_RATIO&#x27;, &#x27;train_test_num_fullfill_ext_lr_final_imputer_0_INCOME_EXT_RATIO&#x27;, &#x27;train_test_num_fullfill_ext_lr_final_imputer_0_GOODS_INCOME_RATIO&#x27;, &#x27;train_test_num_fullfill_ext_lr_final_imputer_0_TARGET_NEIGHBORS_500_MEAN&#x27;, &#x27;train_test_num_fullfill_ext_lr_final_imputer_0_EXPECTED_CNT_PAYMENT&#x27;, &#x27;train_test_num_fullfill_ext_lr_final_imputer_0_EXPECTED_INTEREST&#x27;, &#x27;train_test_num_fullfill_ext_lr_final_imputer_0_EXPECTED_INTEREST_SHARE&#x27;, &#x27;train_test_num_fullfill_ext_lr_final_imputer_0_EXPECTED_INTEREST_RATE&#x27;, &#x27;train_test_num_fullfill_ext_lr_final_imputer_0_YEARS_BIRTH&#x27;, &#x27;train_test_num_fullfill_ext_lr_final_imputer_0_REGISTRATION_YEAR&#x27;, &#x27;train_test_num_fullfill_ext_lr_final_imputer_0_ID_PUBLISH_YEAR&#x27;, &#x27;train_test_num_fullfill_ext_lr_final_imputer_0_LAST_PHONE_CHANGE_YEAR&#x27;, &#x27;train_test_num_fullfill_ext_lr_final_imputer_0_YEARS_EMPLOYED&#x27;, &#x27;train_test_num_fullfill_ext_lr_final_imputer_0_YEARS_EMPLOYED_PERCENT&#x27;]</pre></div></div></div><div class=\"sk-serial\"><div class=\"sk-item\"><div class=\"sk-serial\"><div class=\"sk-item\"><div class=\"sk-estimator sk-toggleable\"><input class=\"sk-toggleable__control sk-hidden--visually\" id=\"sk-estimator-id-4\" type=\"checkbox\" ><label for=\"sk-estimator-id-4\" class=\"sk-toggleable__label sk-toggleable__label-arrow\">SimpleImputer</label><div class=\"sk-toggleable__content\"><pre>SimpleImputer()</pre></div></div></div><div class=\"sk-item\"><div class=\"sk-estimator sk-toggleable\"><input class=\"sk-toggleable__control sk-hidden--visually\" id=\"sk-estimator-id-5\" type=\"checkbox\" ><label for=\"sk-estimator-id-5\" class=\"sk-toggleable__label sk-toggleable__label-arrow\">StandardScaler</label><div class=\"sk-toggleable__content\"><pre>StandardScaler()</pre></div></div></div></div></div></div></div></div><div class=\"sk-parallel-item\"><div class=\"sk-item\"><div class=\"sk-label-container\"><div class=\"sk-label sk-toggleable\"><input class=\"sk-toggleable__control sk-hidden--visually\" id=\"sk-estimator-id-6\" type=\"checkbox\" ><label for=\"sk-estimator-id-6\" class=\"sk-toggleable__label sk-toggleable__label-arrow\">dis</label><div class=\"sk-toggleable__content\"><pre>[&#x27;CREDIT_ACTIVE_Active_sum&#x27;, &#x27;CREDIT_ACTIVE_Closed_sum&#x27;, &#x27;CREDIT_TYPE_Credit_card_sum&#x27;, &#x27;CREDIT_ACTIVE_Closed_max&#x27;, &#x27;CREDIT_ACTIVE_Active_max&#x27;, &#x27;CREDIT_TYPE_Credit_card_max&#x27;, &#x27;CREDIT_TYPE_Consumer_credit_sum&#x27;, &#x27;CREDIT_TYPE_Bad_loan_sum&#x27;, &#x27;CREDIT_TYPE_Bad_loan_max&#x27;, &#x27;CREDIT_TYPE_Car_loan_sum&#x27;, &#x27;CREDIT_TYPE_Car_loan_max&#x27;, &#x27;CREDIT_TYPE_Mortgage_sum&#x27;, &#x27;CREDIT_TYPE_Mortgage_max&#x27;, &#x27;CREDIT_CURRENCY_currency_1_sum&#x27;, &#x27;CREDIT_TYPE_Consumer_credit_max&#x27;, &#x27;CREDIT_ACTIVE_Bad_debt_max&#x27;, &#x27;CREDIT_ACTIVE_Bad_debt_sum&#x27;, &#x27;CNT_CREDIT_PROLONG_max&#x27;, &#x27;YEARS_CREDIT_1year_max&#x27;, &#x27;YEARS_CREDIT_1year_sum&#x27;, &#x27;YEARS_CREDIT_2year_max&#x27;, &#x27;YEARS_CREDIT_2year_sum&#x27;, &#x27;YEARS_CREDIT_3year_max&#x27;, &#x27;YEARS_CREDIT_3year_sum&#x27;, &#x27;credit_card_balance_NAME_CONTRACT_STATUS_Active_sum&#x27;, &#x27;credit_card_balance_NAME_CONTRACT_STATUS_Completed_sum&#x27;, &#x27;credit_card_balance_NAME_CONTRACT_STATUS_Completed_max&#x27;, &#x27;credit_card_balance_NAME_CONTRACT_STATUS_Signed_sum&#x27;, &#x27;credit_card_balance_NAME_CONTRACT_STATUS_Signed_max&#x27;, &#x27;credit_card_balance_NAME_CONTRACT_STATUS_Sent_proposal_max&#x27;, &#x27;credit_card_balance_NAME_CONTRACT_STATUS_Sent_proposal_sum&#x27;, &#x27;credit_card_balance_MONTHS_BALANCE_max&#x27;, &#x27;credit_card_balance_MONTHS_BALANCE_min&#x27;, &#x27;credit_card_balance_MONTHS_BALANCE_sum&#x27;, &#x27;credit_card_balance_AMT_CREDIT_LIMIT_ACTUAL_max&#x27;, &#x27;credit_card_balance_AMT_CREDIT_LIMIT_ACTUAL_min&#x27;, &#x27;credit_card_balance_AMT_CREDIT_LIMIT_ACTUAL_sum&#x27;, &#x27;credit_card_balance_CNT_DRAWINGS_CURRENT_max&#x27;, &#x27;credit_card_balance_CNT_DRAWINGS_CURRENT_min&#x27;, &#x27;credit_card_balance_CNT_DRAWINGS_CURRENT_sum&#x27;, &#x27;credit_card_balance_is_DPD_max&#x27;, &#x27;credit_card_balance_is_DPD_min&#x27;, &#x27;credit_card_balance_is_DPD_sum&#x27;, &#x27;credit_card_balance_is_DPD_DEF_max&#x27;, &#x27;credit_card_balance_is_DPD_DEF_min&#x27;, &#x27;credit_card_balance_is_DPD_DEF_sum&#x27;, &#x27;credit_card_balance_AMT_DRAWINGS_ATM_CURRENT_max&#x27;, &#x27;credit_card_balance_AMT_DRAWINGS_ATM_CURRENT_min&#x27;, &#x27;credit_card_balance_AMT_DRAWINGS_ATM_CURRENT_sum&#x27;, &#x27;credit_card_balance_AMT_DRAWINGS_OTHER_CURRENT_min&#x27;, &#x27;credit_card_balance_CNT_DRAWINGS_ATM_CURRENT_max&#x27;, &#x27;credit_card_balance_CNT_DRAWINGS_ATM_CURRENT_min&#x27;, &#x27;credit_card_balance_CNT_DRAWINGS_ATM_CURRENT_sum&#x27;, &#x27;credit_card_balance_CNT_DRAWINGS_OTHER_CURRENT_max&#x27;, &#x27;credit_card_balance_CNT_DRAWINGS_OTHER_CURRENT_min&#x27;, &#x27;credit_card_balance_CNT_DRAWINGS_OTHER_CURRENT_sum&#x27;, &#x27;credit_card_balance_CNT_DRAWINGS_POS_CURRENT_max&#x27;, &#x27;credit_card_balance_CNT_DRAWINGS_POS_CURRENT_min&#x27;, &#x27;credit_card_balance_CNT_DRAWINGS_POS_CURRENT_sum&#x27;, &#x27;credit_card_balance_CNT_INSTALMENT_MATURE_CUM_max&#x27;, &#x27;credit_card_balance_CNT_INSTALMENT_MATURE_CUM_min&#x27;, &#x27;credit_card_balance_CNT_INSTALMENT_MATURE_CUM_sum&#x27;, &#x27;installments_payments_NUM_INSTALMENT_NUMBER_max&#x27;, &#x27;installments_payments_NUM_INSTALMENT_NUMBER_min&#x27;, &#x27;installments_payments_NUM_INSTALMENT_NUMBER_sum&#x27;, &#x27;installments_payments_NUM_INSTALMENT_VERSION_max&#x27;, &#x27;installments_payments_NUM_INSTALMENT_VERSION_min&#x27;, &#x27;installments_payments_NUM_INSTALMENT_VERSION_sum&#x27;, &#x27;installments_payments_DAYS_ENTRY_PAYMENT_max&#x27;, &#x27;installments_payments_DAYS_ENTRY_PAYMENT_min&#x27;, &#x27;installments_payments_DAYS_ENTRY_PAYMENT_sum&#x27;, &#x27;pos_cash_NAME_CONTRACT_STATUS_Active_sum&#x27;, &#x27;pos_cash_NAME_CONTRACT_STATUS_Completed_sum&#x27;, &#x27;pos_cash_NAME_CONTRACT_STATUS_Completed_max&#x27;, &#x27;pos_cash_NAME_CONTRACT_STATUS_Signed_sum&#x27;, &#x27;pos_cash_NAME_CONTRACT_STATUS_Signed_max&#x27;, &#x27;pos_cash_NAME_CONTRACT_STATUS_Returned_to_the_store_sum&#x27;, &#x27;pos_cash_NAME_CONTRACT_STATUS_Returned_to_the_store_max&#x27;, &#x27;pos_cash_MONTHS_BALANCE_max&#x27;, &#x27;pos_cash_MONTHS_BALANCE_min&#x27;, &#x27;pos_cash_MONTHS_BALANCE_sum&#x27;, &#x27;pos_cash_is_DPD_max&#x27;, &#x27;pos_cash_is_DPD_min&#x27;, &#x27;pos_cash_is_DPD_sum&#x27;, &#x27;pos_cash_is_DPD_DEF_max&#x27;, &#x27;pos_cash_is_DPD_DEF_min&#x27;, &#x27;pos_cash_is_DPD_DEF_sum&#x27;, &#x27;pos_cash_CNT_INSTALMENT_max&#x27;, &#x27;pos_cash_CNT_INSTALMENT_min&#x27;, &#x27;pos_cash_CNT_INSTALMENT_sum&#x27;, &#x27;pos_cash_CNT_INSTALMENT_FUTURE_max&#x27;, &#x27;pos_cash_CNT_INSTALMENT_FUTURE_min&#x27;, &#x27;pos_cash_CNT_INSTALMENT_FUTURE_sum&#x27;, &#x27;prev_app_NAME_PRODUCT_TYPE_walk_in_sum&#x27;, &#x27;prev_app_NAME_PRODUCT_TYPE_walk_in_max&#x27;, &#x27;prev_app_NAME_CONTRACT_TYPE_Revolving_loans_sum&#x27;, &#x27;prev_app_PRODUCT_COMBINATION_Card_Street_sum&#x27;, &#x27;prev_app_NAME_CONTRACT_TYPE_Revolving_loans_max&#x27;, &#x27;prev_app_PRODUCT_COMBINATION_Card_Street_max&#x27;, &#x27;prev_app_NAME_CONTRACT_TYPE_Consumer_loans_sum&#x27;, &#x27;prev_app_PRODUCT_COMBINATION_Cash_X_Sell__low_max&#x27;, &#x27;prev_app_PRODUCT_COMBINATION_Cash_X_Sell__low_sum&#x27;, &#x27;prev_app_PRODUCT_COMBINATION_POS_industry_with_interest_sum&#x27;, &#x27;prev_app_PRODUCT_COMBINATION_POS_industry_with_interest_max&#x27;, &#x27;prev_app_PRODUCT_COMBINATION_Cash_X_Sell__high_sum&#x27;, &#x27;prev_app_PRODUCT_COMBINATION_Cash_Street__high_sum&#x27;, &#x27;prev_app_PRODUCT_COMBINATION_Cash_Street__high_max&#x27;, &#x27;prev_app_PRODUCT_COMBINATION_Cash_X_Sell__high_max&#x27;, &#x27;prev_app_NAME_TYPE_SUITE_Family_max&#x27;, &#x27;prev_app_NAME_TYPE_SUITE_Family_sum&#x27;, &#x27;prev_app_PRODUCT_COMBINATION_POS_household_without_interest_sum&#x27;, &#x27;prev_app_NAME_TYPE_SUITE_Unaccompanied_sum&#x27;, &#x27;prev_app_PRODUCT_COMBINATION_POS_household_without_interest_max&#x27;, &#x27;prev_app_PRODUCT_COMBINATION_Cash_sum&#x27;, &#x27;prev_app_NAME_CONTRACT_TYPE_Cash_loans_sum&#x27;, &#x27;prev_app_PRODUCT_COMBINATION_POS_mobile_with_interest_sum&#x27;, &#x27;prev_app_PRODUCT_COMBINATION_POS_mobile_with_interest_max&#x27;, &#x27;prev_app_PRODUCT_COMBINATION_POS_household_with_interest_sum&#x27;, &#x27;prev_app_PRODUCT_COMBINATION_Cash_max&#x27;, &#x27;prev_app_PRODUCT_COMBINATION_Cash_Street__middle_sum&#x27;, &#x27;prev_app_PRODUCT_COMBINATION_Cash_Street__middle_max&#x27;, &#x27;prev_app_PRODUCT_COMBINATION_POS_household_with_interest_max&#x27;, &#x27;prev_app_PRODUCT_COMBINATION_Card_X_Sell_sum&#x27;, &#x27;prev_app_PRODUCT_COMBINATION_Card_X_Sell_max&#x27;, &#x27;prev_app_PRODUCT_COMBINATION_Cash_X_Sell__middle_sum&#x27;, &#x27;prev_app_PRODUCT_COMBINATION_Cash_X_Sell__middle_max&#x27;, &#x27;prev_app_NAME_CONTRACT_TYPE_Cash_loans_max&#x27;, &#x27;prev_app_NAME_TYPE_SUITE_Children_max&#x27;, &#x27;prev_app_NAME_TYPE_SUITE_Children_sum&#x27;, &#x27;prev_app_FLAG_LAST_APPL_PER_CONTRACT_Y_sum&#x27;, &#x27;prev_app_WEEKDAY_APPR_PROCESS_START_MONDAY_sum&#x27;, &#x27;prev_app_NAME_PRODUCT_TYPE_x_sell_max&#x27;, &#x27;prev_app_NAME_PRODUCT_TYPE_x_sell_sum&#x27;, &#x27;prev_app_PRODUCT_COMBINATION_POS_industry_without_interest_max&#x27;, &#x27;prev_app_PRODUCT_COMBINATION_POS_industry_without_interest_sum&#x27;, &#x27;prev_app_NAME_CONTRACT_TYPE_Consumer_loans_max&#x27;, &#x27;prev_app_WEEKDAY_APPR_PROCESS_START_SUNDAY_max&#x27;, &#x27;prev_app_WEEKDAY_APPR_PROCESS_START_SATURDAY_max&#x27;, &#x27;prev_app_WEEKDAY_APPR_PROCESS_START_THURSDAY_sum&#x27;, &#x27;prev_app_WEEKDAY_APPR_PROCESS_START_SUNDAY_sum&#x27;, &#x27;prev_app_WEEKDAY_APPR_PROCESS_START_MONDAY_max&#x27;, &#x27;prev_app_WEEKDAY_APPR_PROCESS_START_WEDNESDAY_sum&#x27;, &#x27;prev_app_WEEKDAY_APPR_PROCESS_START_FRIDAY_sum&#x27;, &#x27;prev_app_PRODUCT_COMBINATION_Cash_Street__low_sum&#x27;, &#x27;prev_app_PRODUCT_COMBINATION_Cash_Street__low_max&#x27;, &#x27;prev_app_NAME_PRODUCT_TYPE_XNA_sum&#x27;, &#x27;prev_app_NAME_TYPE_SUITE_Unaccompanied_max&#x27;, &#x27;prev_app_WEEKDAY_APPR_PROCESS_START_SATURDAY_sum&#x27;, &#x27;prev_app_WEEKDAY_APPR_PROCESS_START_TUESDAY_sum&#x27;, &#x27;prev_app_NAME_TYPE_SUITE_Spouse,_partner_max&#x27;, &#x27;prev_app_WEEKDAY_APPR_PROCESS_START_WEDNESDAY_max&#x27;, &#x27;prev_app_NAME_TYPE_SUITE_Spouse,_partner_sum&#x27;, &#x27;prev_app_WEEKDAY_APPR_PROCESS_START_FRIDAY_max&#x27;, &#x27;prev_app_WEEKDAY_APPR_PROCESS_START_THURSDAY_max&#x27;, &#x27;prev_app_NAME_PRODUCT_TYPE_XNA_max&#x27;, &#x27;prev_app_PRODUCT_COMBINATION_POS_other_with_interest_max&#x27;, &#x27;prev_app_PRODUCT_COMBINATION_POS_other_with_interest_sum&#x27;, &#x27;prev_app_FLAG_LAST_APPL_PER_CONTRACT_N_sum&#x27;, &#x27;prev_app_FLAG_LAST_APPL_PER_CONTRACT_N_max&#x27;, &#x27;prev_app_PRODUCT_COMBINATION_POS_mobile_without_interest_max&#x27;, &#x27;prev_app_PRODUCT_COMBINATION_POS_mobile_without_interest_sum&#x27;, &#x27;prev_app_CODE_REJECT_REASON_ordinal_sum&#x27;, &#x27;prev_app_NAME_CONTRACT_STATUS_ordinal_sum&#x27;, &#x27;prev_app_CODE_REJECT_REASON_ordinal_max&#x27;, &#x27;prev_app_NAME_YIELD_GROUP_ordinal_max&#x27;, &#x27;prev_app_NAME_GOODS_CATEGORY_ordinal_sum&#x27;, &#x27;prev_app_NAME_GOODS_CATEGORY_ordinal_max&#x27;, &#x27;prev_app_is_PREPAID_USER_sum&#x27;, &#x27;prev_app_NAME_CONTRACT_STATUS_ordinal_max&#x27;, &#x27;prev_app_SELLERPLACE_AREA_max&#x27;, &#x27;prev_app_NAME_PORTFOLIO_ordinal_sum&#x27;, &#x27;prev_app_SELLERPLACE_AREA_sum&#x27;, &#x27;prev_app_NAME_PAYMENT_TYPE_ordinal_sum&#x27;, &#x27;prev_app_NAME_PORTFOLIO_ordinal_max&#x27;, &#x27;prev_app_HOUR_APPR_PROCESS_START_min&#x27;, &#x27;prev_app_HOUR_APPR_PROCESS_START_max&#x27;, &#x27;prev_app_NAME_YIELD_GROUP_ordinal_sum&#x27;, &#x27;prev_app_is_PREPAID_USER_max&#x27;, &#x27;prev_app_NAME_CASH_LOAN_PURPOSE_ordinal_max&#x27;, &#x27;prev_app_NAME_SELLER_INDUSTRY_ordinal_max&#x27;, &#x27;prev_app_NAME_SELLER_INDUSTRY_ordinal_sum&#x27;, &#x27;prev_app_NAME_CASH_LOAN_PURPOSE_ordinal_sum&#x27;, &#x27;prev_app_NAME_YIELD_GROUP_ordinal_min&#x27;, &#x27;prev_app_NAME_GOODS_CATEGORY_ordinal_min&#x27;, &#x27;prev_app_NAME_PAYMENT_TYPE_ordinal_max&#x27;, &#x27;prev_app_NAME_CLIENT_TYPE_ordinal_max&#x27;, &#x27;prev_app_NAME_SELLER_INDUSTRY_ordinal_min&#x27;, &#x27;prev_app_SELLERPLACE_AREA_min&#x27;, &#x27;prev_app_NFLAG_LAST_APPL_IN_DAY_sum&#x27;, &#x27;prev_app_NAME_PORTFOLIO_ordinal_min&#x27;, &#x27;prev_app_CHANNEL_TYPE_ordinal_max&#x27;, &#x27;prev_app_CHANNEL_TYPE_ordinal_min&#x27;, &#x27;prev_app_NAME_CLIENT_TYPE_ordinal_min&#x27;, &#x27;prev_app_NAME_PAYMENT_TYPE_ordinal_min&#x27;, &#x27;prev_app_NAME_CLIENT_TYPE_ordinal_sum&#x27;, &#x27;prev_app_NFLAG_LAST_APPL_IN_DAY_min&#x27;, &#x27;prev_app_CHANNEL_TYPE_ordinal_sum&#x27;, &#x27;prev_app_CNT_PAYMENT_max&#x27;, &#x27;prev_app_CNT_PAYMENT_min&#x27;, &#x27;prev_app_NFLAG_INSURED_ON_APPROVAL_sum&#x27;, &#x27;prev_app_NFLAG_INSURED_ON_APPROVAL_max&#x27;, &#x27;prev_app_CNT_PAYMENT_sum&#x27;, &#x27;prev_app_NFLAG_INSURED_ON_APPROVAL_min&#x27;, &#x27;prev_app_SK_ID_PREV&#x27;, &#x27;train_test_cat_fullfill_final_imputer_0_NAME_INCOME_TYPE_Working&#x27;, &#x27;train_test_cat_fullfill_final_imputer_0_is_REGION_RATING_CLIENT_W_CITY&#x27;, &#x27;train_test_cat_fullfill_final_imputer_0_is_REGION_RATING_CLIENT&#x27;, &#x27;train_test_cat_fullfill_final_imputer_0_is_CODE_GENDER&#x27;, &#x27;train_test_cat_fullfill_final_imputer_0_NAME_EDUCATION_TYPE_Higher_education&#x27;, &#x27;train_test_cat_fullfill_final_imputer_0_NAME_EDUCATION_TYPE_Secondary___secondary_special&#x27;, &#x27;train_test_cat_fullfill_final_imputer_0_is_REG_CITY_NOT_WORK_CITY&#x27;, &#x27;train_test_cat_fullfill_final_imputer_0_is_FLAG_DOCUMENT_3&#x27;, &#x27;train_test_cat_fullfill_final_imputer_0_HOUSETYPE_MODE_block_of_flats&#x27;, &#x27;train_test_cat_fullfill_final_imputer_0_NAME_INCOME_TYPE_Pensioner&#x27;, &#x27;train_test_cat_fullfill_final_imputer_0_is_FLAG_EMP_PHONE&#x27;, &#x27;train_test_cat_fullfill_final_imputer_0_ORGANIZATION_TYPE_XNA&#x27;, &#x27;train_test_cat_fullfill_final_imputer_0_OCCUPATION_TYPE_Laborers&#x27;, &#x27;train_test_cat_fullfill_final_imputer_0_WALLSMATERIAL_MODE_Panel&#x27;, &#x27;train_test_cat_fullfill_final_imputer_0_is_LIVE_CITY_NOT_WORK_CITY&#x27;, &#x27;train_test_cat_fullfill_final_imputer_0_NAME_FAMILY_STATUS_Married&#x27;, &#x27;train_test_cat_fullfill_final_imputer_0_is_FLAG_OWN_CAR&#x27;, &#x27;train_test_cat_fullfill_final_imputer_0_ORGANIZATION_TYPE_Business_Entity_Type_3&#x27;, &#x27;train_test_cat_fullfill_final_imputer_0_is_FLAG_WORK_PHONE&#x27;, &#x27;train_test_cat_fullfill_final_imputer_0_is_FLAG_PHONE&#x27;, &#x27;train_test_cat_fullfill_final_imputer_0_NAME_FAMILY_STATUS_Single___not_married&#x27;, &#x27;train_test_cat_fullfill_final_imputer_0_ORGANIZATION_TYPE_Self_employed&#x27;, &#x27;train_test_cat_fullfill_final_imputer_0_FONDKAPREMONT_MODE_reg_oper_account&#x27;, &#x27;train_test_cat_fullfill_final_imputer_0_is_NAME_CONTRACT_TYPE&#x27;, &#x27;train_test_cat_fullfill_final_imputer_0_NAME_HOUSING_TYPE_House___apartment&#x27;, &#x27;train_test_cat_fullfill_final_imputer_0_is_FLAG_DOCUMENT_6&#x27;, &#x27;train_test_cat_fullfill_final_imputer_0_NAME_FAMILY_STATUS_Civil_marriage&#x27;, &#x27;train_test_cat_fullfill_final_imputer_0_NAME_INCOME_TYPE_State_servant&#x27;, &#x27;train_test_cat_fullfill_final_imputer_0_OCCUPATION_TYPE_Drivers&#x27;, &#x27;train_test_cat_fullfill_final_imputer_0_OCCUPATION_TYPE_Sales_staff&#x27;, &#x27;train_test_cat_fullfill_final_imputer_0_OCCUPATION_TYPE_Core_staff&#x27;, &#x27;train_test_cat_fullfill_final_imputer_0_NAME_HOUSING_TYPE_With_parents&#x27;, &#x27;train_test_cat_fullfill_final_imputer_0_OCCUPATION_TYPE_Managers&#x27;, &#x27;train_test_cat_fullfill_final_imputer_0_WALLSMATERIAL_MODE_Stone__brick&#x27;, &#x27;train_test_cat_fullfill_final_imputer_0_NAME_FAMILY_STATUS_Widow&#x27;, &#x27;train_test_cat_fullfill_final_imputer_0_NAME_INCOME_TYPE_Commercial_associate&#x27;, &#x27;train_test_cat_fullfill_final_imputer_0_OCCUPATION_TYPE_Accountants&#x27;, &#x27;train_test_cat_fullfill_final_imputer_0_ORGANIZATION_TYPE_Construction&#x27;, &#x27;train_test_cat_fullfill_final_imputer_0_is_FLAG_OWN_REALTY&#x27;, &#x27;train_test_cat_fullfill_final_imputer_0_OCCUPATION_TYPE_High_skill_tech_staff&#x27;, &#x27;train_test_cat_fullfill_final_imputer_0_NAME_TYPE_SUITE_Unaccompanied&#x27;, &#x27;train_test_cat_fullfill_final_imputer_0_ORGANIZATION_TYPE_Medicine&#x27;, &#x27;train_test_cat_fullfill_final_imputer_0_ORGANIZATION_TYPE_School&#x27;, &#x27;train_test_cat_fullfill_final_imputer_0_NAME_HOUSING_TYPE_Rented_apartment&#x27;, &#x27;train_test_cat_fullfill_final_imputer_0_OCCUPATION_TYPE_Security_staff&#x27;, &#x27;train_test_cat_fullfill_final_imputer_0_NAME_TYPE_SUITE_Family&#x27;, &#x27;train_test_cat_fullfill_final_imputer_0_OCCUPATION_TYPE_Low_skill_Laborers&#x27;, &#x27;train_test_cat_fullfill_final_imputer_0_is_FLAG_DOCUMENT_8&#x27;, &#x27;train_test_cat_fullfill_final_imputer_0_FONDKAPREMONT_MODE_reg_oper_spec_account&#x27;, &#x27;train_test_cat_fullfill_final_imputer_0_ORGANIZATION_TYPE_Government&#x27;, &#x27;train_test_cat_fullfill_final_imputer_0_OCCUPATION_TYPE_Cooking_staff&#x27;, &#x27;train_test_cat_fullfill_final_imputer_0_is_REG_REGION_NOT_WORK_REGION&#x27;, &#x27;train_test_cat_fullfill_final_imputer_0_OCCUPATION_TYPE_Medicine_staff&#x27;, &#x27;train_test_cat_fullfill_final_imputer_0_ORGANIZATION_TYPE_Trade__type_7&#x27;, &#x27;train_test_cat_fullfill_final_imputer_0_FONDKAPREMONT_MODE_org_spec_account&#x27;, &#x27;train_test_cat_fullfill_final_imputer_0_NAME_EDUCATION_TYPE_Lower_secondary&#x27;, &#x27;train_test_cat_fullfill_final_imputer_0_WALLSMATERIAL_MODE_Wooden&#x27;, &#x27;train_test_cat_fullfill_final_imputer_0_ORGANIZATION_TYPE_Other&#x27;, &#x27;train_test_cat_fullfill_final_imputer_0_ORGANIZATION_TYPE_Business_Entity_Type_2&#x27;, &#x27;train_test_cat_fullfill_final_imputer_0_ORGANIZATION_TYPE_Industry__type_3&#x27;, &#x27;train_test_cat_fullfill_final_imputer_0_ORGANIZATION_TYPE_Transport__type_3&#x27;, &#x27;train_test_cat_fullfill_final_imputer_0_ORGANIZATION_TYPE_Kindergarten&#x27;, &#x27;train_test_cat_fullfill_final_imputer_0_WALLSMATERIAL_MODE_Block&#x27;, &#x27;train_test_cat_fullfill_final_imputer_0_ORGANIZATION_TYPE_Transport__type_4&#x27;, &#x27;train_test_cat_fullfill_final_imputer_0_OCCUPATION_TYPE_Cleaning_staff&#x27;, &#x27;train_test_cat_fullfill_final_imputer_0_ORGANIZATION_TYPE_Police&#x27;, &#x27;train_test_cat_fullfill_final_imputer_0_ORGANIZATION_TYPE_Military&#x27;, &#x27;train_test_cat_fullfill_final_imputer_0_is_LIVE_REGION_NOT_WORK_REGION&#x27;, &#x27;train_test_cat_fullfill_final_imputer_0_ORGANIZATION_TYPE_Security_Ministries&#x27;, &#x27;train_test_cat_fullfill_final_imputer_0_FONDKAPREMONT_MODE_not_specified&#x27;, &#x27;train_test_cat_fullfill_final_imputer_0_ORGANIZATION_TYPE_Trade__type_3&#x27;, &#x27;train_test_cat_fullfill_final_imputer_0_ORGANIZATION_TYPE_Bank&#x27;, &#x27;train_test_cat_fullfill_final_imputer_0_ORGANIZATION_TYPE_Security&#x27;, &#x27;train_test_cat_fullfill_final_imputer_0_NAME_EDUCATION_TYPE_Incomplete_higher&#x27;, &#x27;train_test_cat_fullfill_final_imputer_0_WALLSMATERIAL_MODE_Monolithic&#x27;, &#x27;train_test_cat_fullfill_final_imputer_0_is_EMERGENCYSTATE_MODE&#x27;, &#x27;train_test_cat_fullfill_final_imputer_0_NAME_HOUSING_TYPE_Office_apartment&#x27;, &#x27;train_test_cat_fullfill_final_imputer_0_ORGANIZATION_TYPE_Agriculture&#x27;, &#x27;train_test_cat_fullfill_final_imputer_0_ORGANIZATION_TYPE_Industry__type_9&#x27;, &#x27;train_test_cat_fullfill_final_imputer_0_ORGANIZATION_TYPE_Restaurant&#x27;, &#x27;train_test_cat_fullfill_final_imputer_0_OCCUPATION_TYPE_Waiters_barmen_staff&#x27;, &#x27;train_test_num_fullfill_ext_lr_final_imputer_0_AMT_INCOME_TOTAL&#x27;, &#x27;train_test_num_fullfill_ext_lr_final_imputer_0_AMT_CREDIT&#x27;, &#x27;train_test_num_fullfill_ext_lr_final_imputer_0_AMT_ANNUITY&#x27;, &#x27;train_test_num_fullfill_ext_lr_final_imputer_0_AMT_GOODS_PRICE&#x27;, &#x27;train_test_num_fullfill_ext_lr_final_imputer_0_OWN_CAR_AGE&#x27;, &#x27;train_test_num_fullfill_ext_lr_final_imputer_0_CNT_FAM_MEMBERS&#x27;, &#x27;train_test_num_fullfill_ext_lr_final_imputer_0_OBS_30_CNT_SOCIAL_CIRCLE&#x27;, &#x27;train_test_num_fullfill_ext_lr_final_imputer_0_DEF_30_CNT_SOCIAL_CIRCLE&#x27;, &#x27;train_test_num_fullfill_ext_lr_final_imputer_0_OBS_60_CNT_SOCIAL_CIRCLE&#x27;, &#x27;train_test_num_fullfill_ext_lr_final_imputer_0_DEF_60_CNT_SOCIAL_CIRCLE&#x27;, &#x27;train_test_num_fullfill_ext_lr_final_imputer_0_DAYS_LAST_PHONE_CHANGE&#x27;, &#x27;train_test_num_fullfill_ext_lr_final_imputer_0_AMT_REQ_CREDIT_BUREAU_HOUR&#x27;, &#x27;train_test_num_fullfill_ext_lr_final_imputer_0_AMT_REQ_CREDIT_BUREAU_DAY&#x27;, &#x27;train_test_num_fullfill_ext_lr_final_imputer_0_AMT_REQ_CREDIT_BUREAU_WEEK&#x27;, &#x27;train_test_num_fullfill_ext_lr_final_imputer_0_AMT_REQ_CREDIT_BUREAU_MON&#x27;, &#x27;train_test_num_fullfill_ext_lr_final_imputer_0_AMT_REQ_CREDIT_BUREAU_QRT&#x27;, &#x27;train_test_num_fullfill_ext_lr_final_imputer_0_AMT_REQ_CREDIT_BUREAU_YEAR&#x27;, &#x27;train_test_num_fullfill_ext_lr_final_imputer_0_CREDIT_DOWNPAYMENT&#x27;, &#x27;train_test_num_fullfill_ext_lr_final_imputer_0_DAYS_EMPLOYED_ANOM&#x27;, &#x27;train_test_num_fullfill_ext_lr_final_imputer_0_DAYS_EMPLOYED&#x27;]</pre></div></div></div><div class=\"sk-serial\"><div class=\"sk-item\"><div class=\"sk-serial\"><div class=\"sk-item\"><div class=\"sk-estimator sk-toggleable\"><input class=\"sk-toggleable__control sk-hidden--visually\" id=\"sk-estimator-id-7\" type=\"checkbox\" ><label for=\"sk-estimator-id-7\" class=\"sk-toggleable__label sk-toggleable__label-arrow\">SimpleImputer</label><div class=\"sk-toggleable__content\"><pre>SimpleImputer(strategy=&#x27;most_frequent&#x27;)</pre></div></div></div><div class=\"sk-item\"><div class=\"sk-estimator sk-toggleable\"><input class=\"sk-toggleable__control sk-hidden--visually\" id=\"sk-estimator-id-8\" type=\"checkbox\" ><label for=\"sk-estimator-id-8\" class=\"sk-toggleable__label sk-toggleable__label-arrow\">StandardScaler</label><div class=\"sk-toggleable__content\"><pre>StandardScaler()</pre></div></div></div></div></div></div></div></div></div></div><div class=\"sk-item\"><div class=\"sk-estimator sk-toggleable\"><input class=\"sk-toggleable__control sk-hidden--visually\" id=\"sk-estimator-id-9\" type=\"checkbox\" ><label for=\"sk-estimator-id-9\" class=\"sk-toggleable__label sk-toggleable__label-arrow\">LogisticRegression</label><div class=\"sk-toggleable__content\"><pre>LogisticRegression(C=0.001, tol=1e-05)</pre></div></div></div></div></div></div></div>"
            ]
          },
          "metadata": {},
          "execution_count": 10
        }
      ],
      "source": [
        "from sklearn.compose import ColumnTransformer\n",
        "from sklearn.pipeline import Pipeline\n",
        "from sklearn.impute import SimpleImputer\n",
        "from sklearn.preprocessing import StandardScaler, OneHotEncoder, MinMaxScaler\n",
        "from sklearn.linear_model import LogisticRegression\n",
        "\n",
        "\n",
        "# Create transformers for numerical and categorical features\n",
        "discrete_transformer = Pipeline(steps=[\n",
        "    ('imputer', SimpleImputer(strategy='most_frequent')),\n",
        "    ('std_scaler', StandardScaler())\n",
        "])\n",
        "\n",
        "continuos_transformer = Pipeline(steps=[\n",
        "    ('imputer', SimpleImputer(strategy='mean')),\n",
        "    ('std_scaler', StandardScaler())\n",
        "])\n",
        "\n",
        "# Combine transformers into a preprocessor using ColumnTransformer\n",
        "preprocessor = ColumnTransformer(\n",
        "    transformers=[\n",
        "        ('con', continuos_transformer, ls_continous_feat),\n",
        "        ('dis', discrete_transformer, ls_discrete_feat)])\n",
        "\n",
        "# Create a pipeline with the preprocessor and the logistic regression log_model\n",
        "log_model = Pipeline(steps=[\n",
        "    ('preprocessor', preprocessor),\n",
        "    ('classifier', LogisticRegression(C=0.001,  tol=0.00001, penalty='l2'))\n",
        "])\n",
        "\n",
        "# Fit the log_model\n",
        "log_model.fit(X_train, y_train)"
      ]
    },
    {
      "cell_type": "markdown",
      "metadata": {
        "id": "EXKAiMY3eIWQ"
      },
      "source": [
        "# 6. Model evalution"
      ]
    },
    {
      "cell_type": "code",
      "execution_count": 11,
      "metadata": {
        "id": "KZLZGIg7eIWR"
      },
      "outputs": [],
      "source": [
        "def test_model_on_dataset(tvt_code, model):\n",
        "    X, y = get_Xy_from_df(df_features_label, ls_features, tvt_code)\n",
        "    y_pred = model.predict_proba(X)[:, 1]\n",
        "\n",
        "    # get values\n",
        "    auc_value = metrics.roc_auc_score(y, y_pred)\n",
        "    gini = 2 * auc_value - 1\n",
        "    res01 = metrics.roc_curve(y, y_pred)\n",
        "\n",
        "    # plot\n",
        "    figure, (ax1, ax2) = plt.subplots(1, 2, figsize=(10, 3))\n",
        "    lw = 2\n",
        "    ax1.plot(res01[0], res01[1], color=\"darkorange\", lw=lw, label=\"ROC\")\n",
        "    ax1.plot([0, 1], [0, 1], color=\"navy\",\n",
        "             label=\"Random\", lw=lw, linestyle=\"--\")\n",
        "    ax1.set_xlim([0.0, 1.0])\n",
        "    ax1.set_ylim([0.0, 1.05])\n",
        "    ax1.set_xlabel(\"False Positive Rate\")\n",
        "    ax1.set_ylabel(\"True Positive Rate\")\n",
        "    ax1.set_title(\"AUC = %0.5f\\nGini = %.5f\" % (auc_value, gini), size=13)\n",
        "    ax1.legend(loc=\"lower right\")\n",
        "\n",
        "    # prediction probability histogram\n",
        "    ax2.set_title(\"{} set (size: {})\".format(tvt_code, y.shape[0]))\n",
        "    ax2.hist(y_pred, bins=200)\n",
        "\n",
        "    plt.show()"
      ]
    },
    {
      "cell_type": "code",
      "execution_count": 12,
      "metadata": {
        "colab": {
          "base_uri": "https://localhost:8080/",
          "height": 354
        },
        "id": "CHDX42ETeIWR",
        "outputId": "d2addbc1-990c-4717-a4c2-fb965c2ae3d5"
      },
      "outputs": [
        {
          "output_type": "display_data",
          "data": {
            "text/plain": [
              "<Figure size 1000x300 with 2 Axes>"
            ],
            "image/png": "[encoded data removed]"
          },
          "metadata": {}
        }
      ],
      "source": [
        "test_model_on_dataset('test', log_model)"
      ]
    },
    {
      "cell_type": "code",
      "execution_count": 13,
      "metadata": {
        "colab": {
          "base_uri": "https://localhost:8080/",
          "height": 354
        },
        "id": "AQFqbyEBeIWR",
        "outputId": "0b4ee12e-9d36-49f5-f1fc-2b40f093d18f"
      },
      "outputs": [
        {
          "output_type": "display_data",
          "data": {
            "text/plain": [
              "<Figure size 1000x300 with 2 Axes>"
            ],
            "image/png": "[encoded data removed]"
          },
          "metadata": {}
        }
      ],
      "source": [
        "test_model_on_dataset('val', log_model)"
      ]
    },
    {
      "cell_type": "code",
      "execution_count": 14,
      "metadata": {
        "colab": {
          "base_uri": "https://localhost:8080/",
          "height": 354
        },
        "id": "vbpTNZ2ceIWR",
        "outputId": "4390e2a5-ea03-47da-ad15-344a12e9286d"
      },
      "outputs": [
        {
          "output_type": "display_data",
          "data": {
            "text/plain": [
              "<Figure size 1000x300 with 2 Axes>"
            ],
            "image/png": "[encoded data removed]"
          },
          "metadata": {}
        }
      ],
      "source": [
        "test_model_on_dataset('train',log_model)"
      ]
    },
    {
      "cell_type": "markdown",
      "metadata": {
        "id": "rEaftF5KeIWR"
      },
      "source": [
        "# 7. Save file"
      ]
    },
    {
      "cell_type": "code",
      "execution_count": 15,
      "metadata": {
        "colab": {
          "base_uri": "https://localhost:8080/",
          "height": 206
        },
        "id": "q2WMDB1DeIWR",
        "outputId": "fbc17311-1b51-40e2-d10d-75e9398de4be"
      },
      "outputs": [
        {
          "output_type": "execute_result",
          "data": {
            "text/plain": [
              "   SK_ID_CURR  TARGET\n",
              "0  83659       0.0879\n",
              "1  174814      0.0224\n",
              "2  179486      0.1314\n",
              "3  57038       0.0156\n",
              "4  25672       0.0670"
            ],
            "text/html": [
              "\n",
              "  <div id=\"df-4d40e6b2-e68d-4e19-b799-f77fb64969cc\" class=\"colab-df-container\">\n",
              "    <div>\n",
              "<style scoped>\n",
              "    .dataframe tbody tr th:only-of-type {\n",
              "        vertical-align: middle;\n",
              "    }\n",
              "\n",
              "    .dataframe tbody tr th {\n",
              "        vertical-align: top;\n",
              "    }\n",
              "\n",
              "    .dataframe thead th {\n",
              "        text-align: right;\n",
              "    }\n",
              "</style>\n",
              "<table border=\"1\" class=\"dataframe\">\n",
              "  <thead>\n",
              "    <tr style=\"text-align: right;\">\n",
              "      <th></th>\n",
              "      <th>SK_ID_CURR</th>\n",
              "      <th>TARGET</th>\n",
              "    </tr>\n",
              "  </thead>\n",
              "  <tbody>\n",
              "    <tr>\n",
              "      <th>0</th>\n",
              "      <td>83659</td>\n",
              "      <td>0.0879</td>\n",
              "    </tr>\n",
              "    <tr>\n",
              "      <th>1</th>\n",
              "      <td>174814</td>\n",
              "      <td>0.0224</td>\n",
              "    </tr>\n",
              "    <tr>\n",
              "      <th>2</th>\n",
              "      <td>179486</td>\n",
              "      <td>0.1314</td>\n",
              "    </tr>\n",
              "    <tr>\n",
              "      <th>3</th>\n",
              "      <td>57038</td>\n",
              "      <td>0.0156</td>\n",
              "    </tr>\n",
              "    <tr>\n",
              "      <th>4</th>\n",
              "      <td>25672</td>\n",
              "      <td>0.0670</td>\n",
              "    </tr>\n",
              "  </tbody>\n",
              "</table>\n",
              "</div>\n",
              "    <div class=\"colab-df-buttons\">\n",
              "\n",
              "  <div class=\"colab-df-container\">\n",
              "    <button class=\"colab-df-convert\" onclick=\"convertToInteractive('df-4d40e6b2-e68d-4e19-b799-f77fb64969cc')\"\n",
              "            title=\"Convert this dataframe to an interactive table.\"\n",
              "            style=\"display:none;\">\n",
              "\n",
              "  <svg xmlns=\"http://www.w3.org/2000/svg\" height=\"24px\" viewBox=\"0 -960 960 960\">\n",
              "    <path d=\"M120-120v-720h720v720H120Zm60-500h600v-160H180v160Zm220 220h160v-160H400v160Zm0 220h160v-160H400v160ZM180-400h160v-160H180v160Zm440 0h160v-160H620v160ZM180-180h160v-160H180v160Zm440 0h160v-160H620v160Z\"/>\n",
              "  </svg>\n",
              "    </button>\n",
              "\n",
              "  <style>\n",
              "    .colab-df-container {\n",
              "      display:flex;\n",
              "      gap: 12px;\n",
              "    }\n",
              "\n",
              "    .colab-df-convert {\n",
              "      background-color: #E8F0FE;\n",
              "      border: none;\n",
              "      border-radius: 50%;\n",
              "      cursor: pointer;\n",
              "      display: none;\n",
              "      fill: #1967D2;\n",
              "      height: 32px;\n",
              "      padding: 0 0 0 0;\n",
              "      width: 32px;\n",
              "    }\n",
              "\n",
              "    .colab-df-convert:hover {\n",
              "      background-color: #E2EBFA;\n",
              "      box-shadow: 0px 1px 2px rgba(60, 64, 67, 0.3), 0px 1px 3px 1px rgba(60, 64, 67, 0.15);\n",
              "      fill: #174EA6;\n",
              "    }\n",
              "\n",
              "    .colab-df-buttons div {\n",
              "      margin-bottom: 4px;\n",
              "    }\n",
              "\n",
              "    [theme=dark] .colab-df-convert {\n",
              "      background-color: #3B4455;\n",
              "      fill: #D2E3FC;\n",
              "    }\n",
              "\n",
              "    [theme=dark] .colab-df-convert:hover {\n",
              "      background-color: #434B5C;\n",
              "      box-shadow: 0px 1px 3px 1px rgba(0, 0, 0, 0.15);\n",
              "      filter: drop-shadow(0px 1px 2px rgba(0, 0, 0, 0.3));\n",
              "      fill: #FFFFFF;\n",
              "    }\n",
              "  </style>\n",
              "\n",
              "    <script>\n",
              "      const buttonEl =\n",
              "        document.querySelector('#df-4d40e6b2-e68d-4e19-b799-f77fb64969cc button.colab-df-convert');\n",
              "      buttonEl.style.display =\n",
              "        google.colab.kernel.accessAllowed ? 'block' : 'none';\n",
              "\n",
              "      async function convertToInteractive(key) {\n",
              "        const element = document.querySelector('#df-4d40e6b2-e68d-4e19-b799-f77fb64969cc');\n",
              "        const dataTable =\n",
              "          await google.colab.kernel.invokeFunction('convertToInteractive',\n",
              "                                                    [key], {});\n",
              "        if (!dataTable) return;\n",
              "\n",
              "        const docLinkHtml = 'Like what you see? Visit the ' +\n",
              "          '<a target=\"_blank\" href=https://colab.research.google.com/notebooks/data_table.ipynb>data table notebook</a>'\n",
              "          + ' to learn more about interactive tables.';\n",
              "        element.innerHTML = '';\n",
              "        dataTable['output_type'] = 'display_data';\n",
              "        await google.colab.output.renderOutput(dataTable, element);\n",
              "        const docLink = document.createElement('div');\n",
              "        docLink.innerHTML = docLinkHtml;\n",
              "        element.appendChild(docLink);\n",
              "      }\n",
              "    </script>\n",
              "  </div>\n",
              "\n",
              "\n",
              "<div id=\"df-a00308b3-805f-4494-9193-eec0183dc7c3\">\n",
              "  <button class=\"colab-df-quickchart\" onclick=\"quickchart('df-a00308b3-805f-4494-9193-eec0183dc7c3')\"\n",
              "            title=\"Suggest charts\"\n",
              "            style=\"display:none;\">\n",
              "\n",
              "<svg xmlns=\"http://www.w3.org/2000/svg\" height=\"24px\"viewBox=\"0 0 24 24\"\n",
              "     width=\"24px\">\n",
              "    <g>\n",
              "        <path d=\"M19 3H5c-1.1 0-2 .9-2 2v14c0 1.1.9 2 2 2h14c1.1 0 2-.9 2-2V5c0-1.1-.9-2-2-2zM9 17H7v-7h2v7zm4 0h-2V7h2v10zm4 0h-2v-4h2v4z\"/>\n",
              "    </g>\n",
              "</svg>\n",
              "  </button>\n",
              "\n",
              "<style>\n",
              "  .colab-df-quickchart {\n",
              "      --bg-color: #E8F0FE;\n",
              "      --fill-color: #1967D2;\n",
              "      --hover-bg-color: #E2EBFA;\n",
              "      --hover-fill-color: #174EA6;\n",
              "      --disabled-fill-color: #AAA;\n",
              "      --disabled-bg-color: #DDD;\n",
              "  }\n",
              "\n",
              "  [theme=dark] .colab-df-quickchart {\n",
              "      --bg-color: #3B4455;\n",
              "      --fill-color: #D2E3FC;\n",
              "      --hover-bg-color: #434B5C;\n",
              "      --hover-fill-color: #FFFFFF;\n",
              "      --disabled-bg-color: #3B4455;\n",
              "      --disabled-fill-color: #666;\n",
              "  }\n",
              "\n",
              "  .colab-df-quickchart {\n",
              "    background-color: var(--bg-color);\n",
              "    border: none;\n",
              "    border-radius: 50%;\n",
              "    cursor: pointer;\n",
              "    display: none;\n",
              "    fill: var(--fill-color);\n",
              "    height: 32px;\n",
              "    padding: 0;\n",
              "    width: 32px;\n",
              "  }\n",
              "\n",
              "  .colab-df-quickchart:hover {\n",
              "    background-color: var(--hover-bg-color);\n",
              "    box-shadow: 0 1px 2px rgba(60, 64, 67, 0.3), 0 1px 3px 1px rgba(60, 64, 67, 0.15);\n",
              "    fill: var(--button-hover-fill-color);\n",
              "  }\n",
              "\n",
              "  .colab-df-quickchart-complete:disabled,\n",
              "  .colab-df-quickchart-complete:disabled:hover {\n",
              "    background-color: var(--disabled-bg-color);\n",
              "    fill: var(--disabled-fill-color);\n",
              "    box-shadow: none;\n",
              "  }\n",
              "\n",
              "  .colab-df-spinner {\n",
              "    border: 2px solid var(--fill-color);\n",
              "    border-color: transparent;\n",
              "    border-bottom-color: var(--fill-color);\n",
              "    animation:\n",
              "      spin 1s steps(1) infinite;\n",
              "  }\n",
              "\n",
              "  @keyframes spin {\n",
              "    0% {\n",
              "      border-color: transparent;\n",
              "      border-bottom-color: var(--fill-color);\n",
              "      border-left-color: var(--fill-color);\n",
              "    }\n",
              "    20% {\n",
              "      border-color: transparent;\n",
              "      border-left-color: var(--fill-color);\n",
              "      border-top-color: var(--fill-color);\n",
              "    }\n",
              "    30% {\n",
              "      border-color: transparent;\n",
              "      border-left-color: var(--fill-color);\n",
              "      border-top-color: var(--fill-color);\n",
              "      border-right-color: var(--fill-color);\n",
              "    }\n",
              "    40% {\n",
              "      border-color: transparent;\n",
              "      border-right-color: var(--fill-color);\n",
              "      border-top-color: var(--fill-color);\n",
              "    }\n",
              "    60% {\n",
              "      border-color: transparent;\n",
              "      border-right-color: var(--fill-color);\n",
              "    }\n",
              "    80% {\n",
              "      border-color: transparent;\n",
              "      border-right-color: var(--fill-color);\n",
              "      border-bottom-color: var(--fill-color);\n",
              "    }\n",
              "    90% {\n",
              "      border-color: transparent;\n",
              "      border-bottom-color: var(--fill-color);\n",
              "    }\n",
              "  }\n",
              "</style>\n",
              "\n",
              "  <script>\n",
              "    async function quickchart(key) {\n",
              "      const quickchartButtonEl =\n",
              "        document.querySelector('#' + key + ' button');\n",
              "      quickchartButtonEl.disabled = true;  // To prevent multiple clicks.\n",
              "      quickchartButtonEl.classList.add('colab-df-spinner');\n",
              "      try {\n",
              "        const charts = await google.colab.kernel.invokeFunction(\n",
              "            'suggestCharts', [key], {});\n",
              "      } catch (error) {\n",
              "        console.error('Error during call to suggestCharts:', error);\n",
              "      }\n",
              "      quickchartButtonEl.classList.remove('colab-df-spinner');\n",
              "      quickchartButtonEl.classList.add('colab-df-quickchart-complete');\n",
              "    }\n",
              "    (() => {\n",
              "      let quickchartButtonEl =\n",
              "        document.querySelector('#df-a00308b3-805f-4494-9193-eec0183dc7c3 button');\n",
              "      quickchartButtonEl.style.display =\n",
              "        google.colab.kernel.accessAllowed ? 'block' : 'none';\n",
              "    })();\n",
              "  </script>\n",
              "</div>\n",
              "    </div>\n",
              "  </div>\n"
            ]
          },
          "metadata": {},
          "execution_count": 15
        }
      ],
      "source": [
        "X_kaggle_test = df_features_label.query(\n",
        "    \"tvt_code == 'kaggle_test'\")[ls_features]\n",
        "y_test_pred = log_model.predict_proba(X_kaggle_test)[:, 1]\n",
        "y_test_pred\n",
        "\n",
        "SK_IDs = df_features_label.query(\"tvt_code == 'kaggle_test'\")[\n",
        "    \"SK_ID_CURR\"].tolist()\n",
        "df_submiss = pd.DataFrame({\"SK_ID_CURR\": SK_IDs, \"TARGET\": y_test_pred})\n",
        "df_submiss.to_csv(\n",
        "    \"final_file.csv\", index=False)\n",
        "df_submiss.head()"
      ]
    },
    {
      "cell_type": "markdown",
      "metadata": {
        "id": "TAyBhjjIeIWS"
      },
      "source": [
        "****"
      ]
    }
  ],
  "metadata": {
    "kernelspec": {
      "display_name": "base",
      "language": "python",
      "name": "python3"
    },
    "language_info": {
      "codemirror_mode": {
        "name": "ipython",
        "version": 3
      },
      "file_extension": ".py",
      "mimetype": "text/x-python",
      "name": "python",
      "nbconvert_exporter": "python",
      "pygments_lexer": "ipython3",
      "version": "3.9.12"
    },
    "colab": {
      "provenance": []
    }
  },
  "nbformat": 4,
  "nbformat_minor": 0
}