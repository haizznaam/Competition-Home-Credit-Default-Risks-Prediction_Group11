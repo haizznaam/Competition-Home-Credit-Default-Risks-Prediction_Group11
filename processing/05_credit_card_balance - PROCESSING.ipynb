{
 "cells": [
  {
   "cell_type": "code",
   "execution_count": 1,
   "metadata": {},
   "outputs": [],
   "source": [
    "import os\n",
    "import math\n",
    "import subprocess\n",
    "import pandas as pd\n",
    "import numpy as np\n",
    "import matplotlib.pyplot as plt\n",
    "from sklearn.model_selection import train_test_split\n",
    "from utils_feature_engineering import *"
   ]
  },
  {
   "cell_type": "markdown",
   "metadata": {},
   "source": [
    "Load data"
   ]
  },
  {
   "cell_type": "code",
   "execution_count": 2,
   "metadata": {},
   "outputs": [],
   "source": [
    "path = r'D:\\NEU\\Năm 3\\DATA PREP\\PROJECT_DATAPREP\\GITHUB REPO\\dataset\\dseb63_final_project_DP_dataset\\\\'\n",
    "# train\n",
    "application_train = pd.read_csv(path + 'dseb63_' + 'application_train.csv')\n",
    "application_train.drop(columns='Unnamed: 0', inplace=True)\n",
    "# test\n",
    "application_test = pd.read_csv(path + 'dseb63_' + 'application_test.csv')\n",
    "application_test.drop(columns='Unnamed: 0', inplace=True)"
   ]
  },
  {
   "cell_type": "code",
   "execution_count": 3,
   "metadata": {},
   "outputs": [
    {
     "data": {
      "text/html": [
       "<div>\n",
       "<style scoped>\n",
       "    .dataframe tbody tr th:only-of-type {\n",
       "        vertical-align: middle;\n",
       "    }\n",
       "\n",
       "    .dataframe tbody tr th {\n",
       "        vertical-align: top;\n",
       "    }\n",
       "\n",
       "    .dataframe thead th {\n",
       "        text-align: right;\n",
       "    }\n",
       "</style>\n",
       "<table border=\"1\" class=\"dataframe\">\n",
       "  <thead>\n",
       "    <tr style=\"text-align: right;\">\n",
       "      <th></th>\n",
       "      <th>SK_ID_CURR</th>\n",
       "      <th>TARGET</th>\n",
       "    </tr>\n",
       "  </thead>\n",
       "  <tbody>\n",
       "    <tr>\n",
       "      <th>0</th>\n",
       "      <td>278621</td>\n",
       "      <td>0</td>\n",
       "    </tr>\n",
       "    <tr>\n",
       "      <th>1</th>\n",
       "      <td>139008</td>\n",
       "      <td>0</td>\n",
       "    </tr>\n",
       "    <tr>\n",
       "      <th>2</th>\n",
       "      <td>138348</td>\n",
       "      <td>0</td>\n",
       "    </tr>\n",
       "    <tr>\n",
       "      <th>3</th>\n",
       "      <td>64140</td>\n",
       "      <td>0</td>\n",
       "    </tr>\n",
       "    <tr>\n",
       "      <th>4</th>\n",
       "      <td>219374</td>\n",
       "      <td>0</td>\n",
       "    </tr>\n",
       "    <tr>\n",
       "      <th>...</th>\n",
       "      <td>...</td>\n",
       "      <td>...</td>\n",
       "    </tr>\n",
       "    <tr>\n",
       "      <th>246004</th>\n",
       "      <td>90253</td>\n",
       "      <td>0</td>\n",
       "    </tr>\n",
       "    <tr>\n",
       "      <th>246005</th>\n",
       "      <td>9027</td>\n",
       "      <td>0</td>\n",
       "    </tr>\n",
       "    <tr>\n",
       "      <th>246006</th>\n",
       "      <td>163598</td>\n",
       "      <td>0</td>\n",
       "    </tr>\n",
       "    <tr>\n",
       "      <th>246007</th>\n",
       "      <td>300375</td>\n",
       "      <td>1</td>\n",
       "    </tr>\n",
       "    <tr>\n",
       "      <th>246008</th>\n",
       "      <td>258328</td>\n",
       "      <td>0</td>\n",
       "    </tr>\n",
       "  </tbody>\n",
       "</table>\n",
       "<p>246009 rows × 2 columns</p>\n",
       "</div>"
      ],
      "text/plain": [
       "        SK_ID_CURR  TARGET\n",
       "0           278621       0\n",
       "1           139008       0\n",
       "2           138348       0\n",
       "3            64140       0\n",
       "4           219374       0\n",
       "...            ...     ...\n",
       "246004       90253       0\n",
       "246005        9027       0\n",
       "246006      163598       0\n",
       "246007      300375       1\n",
       "246008      258328       0\n",
       "\n",
       "[246009 rows x 2 columns]"
      ]
     },
     "execution_count": 3,
     "metadata": {},
     "output_type": "execute_result"
    }
   ],
   "source": [
    "# Chỉ giữ lại cột SK_ID_CURR và biến target\n",
    "application_train_filtered = application_train[['SK_ID_CURR', 'TARGET']]\n",
    "application_train_filtered"
   ]
  },
  {
   "cell_type": "code",
   "execution_count": 4,
   "metadata": {},
   "outputs": [],
   "source": [
    "# credit_card_balance \n",
    "credit_card_balance = pd.read_csv(path + 'dseb63_' + 'credit_card_balance.csv')"
   ]
  },
  {
   "cell_type": "markdown",
   "metadata": {},
   "source": [
    "Preprocessing data"
   ]
  },
  {
   "cell_type": "code",
   "execution_count": 5,
   "metadata": {},
   "outputs": [],
   "source": [
    "# Handling SK_DPD & SK_DPD_DEF colums\n",
    "# Tạo cột \"is_DPD\" dựa trên điều kiện \"SK_DPD > 0\"\n",
    "credit_card_balance[\"is_DPD\"] = (credit_card_balance[\"SK_DPD\"] > 0).astype('int64')\n",
    "\n",
    "# Tạo cột \"is_DPD_DEF\" dựa trên điều kiện \"SK_DPD_DEF > 0\"\n",
    "credit_card_balance[\"is_DPD_DEF\"] = (credit_card_balance[\"SK_DPD_DEF\"] > 0).astype('int64')\n",
    "\n",
    "# Loại bỏ cột \"SK_DPD\" và \"SK_DPD_DEF\" từ DataFrame\n",
    "credit_card_balance.drop(columns=[\"SK_DPD\", \"SK_DPD_DEF\"], inplace=True)"
   ]
  },
  {
   "cell_type": "markdown",
   "metadata": {},
   "source": [
    "Categorical features"
   ]
  },
  {
   "cell_type": "code",
   "execution_count": 6,
   "metadata": {},
   "outputs": [
    {
     "data": {
      "text/plain": [
       "['NAME_CONTRACT_STATUS']"
      ]
     },
     "execution_count": 6,
     "metadata": {},
     "output_type": "execute_result"
    }
   ],
   "source": [
    "# Get the list of categorical columns\n",
    "series_type = credit_card_balance.dtypes\n",
    "list_categorical = series_type[series_type == \"object\"].index.tolist()\n",
    "list_categorical\n"
   ]
  },
  {
   "cell_type": "code",
   "execution_count": 7,
   "metadata": {},
   "outputs": [],
   "source": [
    "# xây dựng bản đồ phân loại\n",
    "dict_onehot = {}\n",
    "for cate in list_categorical:\n",
    "    list_val = credit_card_balance[cate].value_counts().index.tolist()\n",
    "    dict_onehot[cate] = list_val"
   ]
  },
  {
   "cell_type": "code",
   "execution_count": 8,
   "metadata": {},
   "outputs": [
    {
     "data": {
      "text/plain": [
       "{'NAME_CONTRACT_STATUS': ['Active',\n",
       "  'Completed',\n",
       "  'Signed',\n",
       "  'Demand',\n",
       "  'Sent proposal',\n",
       "  'Refused',\n",
       "  'Approved']}"
      ]
     },
     "execution_count": 8,
     "metadata": {},
     "output_type": "execute_result"
    }
   ],
   "source": [
    "dict_onehot"
   ]
  },
  {
   "cell_type": "code",
   "execution_count": 9,
   "metadata": {},
   "outputs": [
    {
     "name": "stdout",
     "output_type": "stream",
     "text": [
      "(3227965, 8)\n"
     ]
    }
   ],
   "source": [
    "# Tạo đặc trưng one-hot encoding từ DataFrame credit_card_balance\n",
    "df_onehot = gen_one_hot_feat(credit_card_balance, dict_onehot, main_key=\"SK_ID_CURR\")\n",
    "print(df_onehot.shape)"
   ]
  },
  {
   "cell_type": "code",
   "execution_count": 10,
   "metadata": {},
   "outputs": [
    {
     "data": {
      "text/plain": [
       "{'NAME_CONTRACT_STATUS_Active': ['max', 'sum', 'mean'],\n",
       " 'NAME_CONTRACT_STATUS_Completed': ['max', 'sum', 'mean'],\n",
       " 'NAME_CONTRACT_STATUS_Signed': ['max', 'sum', 'mean'],\n",
       " 'NAME_CONTRACT_STATUS_Demand': ['max', 'sum', 'mean'],\n",
       " 'NAME_CONTRACT_STATUS_Sent_proposal': ['max', 'sum', 'mean'],\n",
       " 'NAME_CONTRACT_STATUS_Refused': ['max', 'sum', 'mean'],\n",
       " 'NAME_CONTRACT_STATUS_Approved': ['max', 'sum', 'mean']}"
      ]
     },
     "metadata": {},
     "output_type": "display_data"
    },
    {
     "name": "stdout",
     "output_type": "stream",
     "text": [
      "After agg: (86905, 21)\n"
     ]
    }
   ],
   "source": [
    "# Tổng hợp dữ liệu\n",
    "df_agg01 = agg_common_data(df_onehot, [\"max\", \"sum\", \"mean\"], main_key=\"SK_ID_CURR\")\n",
    "\n",
    "# Đánh giá đặc trưng của dữ liệu tổng hợp và lưu kết quả vào biến eval_agg01\n",
    "eval_agg01 = feature_evaluate(application_train_filtered, df_agg01)"
   ]
  },
  {
   "cell_type": "code",
   "execution_count": 11,
   "metadata": {},
   "outputs": [
    {
     "data": {
      "text/html": [
       "<div>\n",
       "<style scoped>\n",
       "    .dataframe tbody tr th:only-of-type {\n",
       "        vertical-align: middle;\n",
       "    }\n",
       "\n",
       "    .dataframe tbody tr th {\n",
       "        vertical-align: top;\n",
       "    }\n",
       "\n",
       "    .dataframe thead th {\n",
       "        text-align: right;\n",
       "    }\n",
       "</style>\n",
       "<table border=\"1\" class=\"dataframe\">\n",
       "  <thead>\n",
       "    <tr style=\"text-align: right;\">\n",
       "      <th></th>\n",
       "      <th>name</th>\n",
       "      <th>auc</th>\n",
       "      <th>corr</th>\n",
       "      <th>coverage</th>\n",
       "    </tr>\n",
       "  </thead>\n",
       "  <tbody>\n",
       "    <tr>\n",
       "      <th>1</th>\n",
       "      <td>NAME_CONTRACT_STATUS_Active_sum</td>\n",
       "      <td>0.553278</td>\n",
       "      <td>-0.057364</td>\n",
       "      <td>1.0</td>\n",
       "    </tr>\n",
       "    <tr>\n",
       "      <th>2</th>\n",
       "      <td>NAME_CONTRACT_STATUS_Active_mean</td>\n",
       "      <td>0.517165</td>\n",
       "      <td>0.020913</td>\n",
       "      <td>1.0</td>\n",
       "    </tr>\n",
       "    <tr>\n",
       "      <th>5</th>\n",
       "      <td>NAME_CONTRACT_STATUS_Completed_mean</td>\n",
       "      <td>0.513497</td>\n",
       "      <td>-0.021976</td>\n",
       "      <td>1.0</td>\n",
       "    </tr>\n",
       "    <tr>\n",
       "      <th>4</th>\n",
       "      <td>NAME_CONTRACT_STATUS_Completed_sum</td>\n",
       "      <td>0.513471</td>\n",
       "      <td>-0.018750</td>\n",
       "      <td>1.0</td>\n",
       "    </tr>\n",
       "    <tr>\n",
       "      <th>3</th>\n",
       "      <td>NAME_CONTRACT_STATUS_Completed_max</td>\n",
       "      <td>0.513301</td>\n",
       "      <td>-0.022828</td>\n",
       "      <td>1.0</td>\n",
       "    </tr>\n",
       "    <tr>\n",
       "      <th>7</th>\n",
       "      <td>NAME_CONTRACT_STATUS_Signed_sum</td>\n",
       "      <td>0.503422</td>\n",
       "      <td>-0.004908</td>\n",
       "      <td>1.0</td>\n",
       "    </tr>\n",
       "    <tr>\n",
       "      <th>6</th>\n",
       "      <td>NAME_CONTRACT_STATUS_Signed_max</td>\n",
       "      <td>0.503385</td>\n",
       "      <td>-0.008785</td>\n",
       "      <td>1.0</td>\n",
       "    </tr>\n",
       "    <tr>\n",
       "      <th>8</th>\n",
       "      <td>NAME_CONTRACT_STATUS_Signed_mean</td>\n",
       "      <td>0.503290</td>\n",
       "      <td>-0.001382</td>\n",
       "      <td>1.0</td>\n",
       "    </tr>\n",
       "    <tr>\n",
       "      <th>14</th>\n",
       "      <td>NAME_CONTRACT_STATUS_Sent_proposal_mean</td>\n",
       "      <td>0.501399</td>\n",
       "      <td>-0.011211</td>\n",
       "      <td>1.0</td>\n",
       "    </tr>\n",
       "    <tr>\n",
       "      <th>12</th>\n",
       "      <td>NAME_CONTRACT_STATUS_Sent_proposal_max</td>\n",
       "      <td>0.501398</td>\n",
       "      <td>-0.010975</td>\n",
       "      <td>1.0</td>\n",
       "    </tr>\n",
       "    <tr>\n",
       "      <th>13</th>\n",
       "      <td>NAME_CONTRACT_STATUS_Sent_proposal_sum</td>\n",
       "      <td>0.501398</td>\n",
       "      <td>-0.010975</td>\n",
       "      <td>1.0</td>\n",
       "    </tr>\n",
       "    <tr>\n",
       "      <th>0</th>\n",
       "      <td>NAME_CONTRACT_STATUS_Active_max</td>\n",
       "      <td>0.500146</td>\n",
       "      <td>0.002993</td>\n",
       "      <td>1.0</td>\n",
       "    </tr>\n",
       "    <tr>\n",
       "      <th>10</th>\n",
       "      <td>NAME_CONTRACT_STATUS_Demand_sum</td>\n",
       "      <td>0.500094</td>\n",
       "      <td>0.007741</td>\n",
       "      <td>1.0</td>\n",
       "    </tr>\n",
       "    <tr>\n",
       "      <th>11</th>\n",
       "      <td>NAME_CONTRACT_STATUS_Demand_mean</td>\n",
       "      <td>0.500094</td>\n",
       "      <td>0.006730</td>\n",
       "      <td>1.0</td>\n",
       "    </tr>\n",
       "    <tr>\n",
       "      <th>9</th>\n",
       "      <td>NAME_CONTRACT_STATUS_Demand_max</td>\n",
       "      <td>0.500094</td>\n",
       "      <td>0.004220</td>\n",
       "      <td>1.0</td>\n",
       "    </tr>\n",
       "    <tr>\n",
       "      <th>15</th>\n",
       "      <td>NAME_CONTRACT_STATUS_Refused_max</td>\n",
       "      <td>0.500078</td>\n",
       "      <td>0.003232</td>\n",
       "      <td>1.0</td>\n",
       "    </tr>\n",
       "    <tr>\n",
       "      <th>16</th>\n",
       "      <td>NAME_CONTRACT_STATUS_Refused_sum</td>\n",
       "      <td>0.500078</td>\n",
       "      <td>0.003232</td>\n",
       "      <td>1.0</td>\n",
       "    </tr>\n",
       "    <tr>\n",
       "      <th>17</th>\n",
       "      <td>NAME_CONTRACT_STATUS_Refused_mean</td>\n",
       "      <td>0.500078</td>\n",
       "      <td>0.002579</td>\n",
       "      <td>1.0</td>\n",
       "    </tr>\n",
       "    <tr>\n",
       "      <th>18</th>\n",
       "      <td>NAME_CONTRACT_STATUS_Approved_max</td>\n",
       "      <td>0.500032</td>\n",
       "      <td>-0.002344</td>\n",
       "      <td>1.0</td>\n",
       "    </tr>\n",
       "    <tr>\n",
       "      <th>19</th>\n",
       "      <td>NAME_CONTRACT_STATUS_Approved_sum</td>\n",
       "      <td>0.500032</td>\n",
       "      <td>-0.002344</td>\n",
       "      <td>1.0</td>\n",
       "    </tr>\n",
       "    <tr>\n",
       "      <th>20</th>\n",
       "      <td>NAME_CONTRACT_STATUS_Approved_mean</td>\n",
       "      <td>0.500032</td>\n",
       "      <td>-0.002341</td>\n",
       "      <td>1.0</td>\n",
       "    </tr>\n",
       "  </tbody>\n",
       "</table>\n",
       "</div>"
      ],
      "text/plain": [
       "                                       name       auc      corr  coverage\n",
       "1           NAME_CONTRACT_STATUS_Active_sum  0.553278 -0.057364       1.0\n",
       "2          NAME_CONTRACT_STATUS_Active_mean  0.517165  0.020913       1.0\n",
       "5       NAME_CONTRACT_STATUS_Completed_mean  0.513497 -0.021976       1.0\n",
       "4        NAME_CONTRACT_STATUS_Completed_sum  0.513471 -0.018750       1.0\n",
       "3        NAME_CONTRACT_STATUS_Completed_max  0.513301 -0.022828       1.0\n",
       "7           NAME_CONTRACT_STATUS_Signed_sum  0.503422 -0.004908       1.0\n",
       "6           NAME_CONTRACT_STATUS_Signed_max  0.503385 -0.008785       1.0\n",
       "8          NAME_CONTRACT_STATUS_Signed_mean  0.503290 -0.001382       1.0\n",
       "14  NAME_CONTRACT_STATUS_Sent_proposal_mean  0.501399 -0.011211       1.0\n",
       "12   NAME_CONTRACT_STATUS_Sent_proposal_max  0.501398 -0.010975       1.0\n",
       "13   NAME_CONTRACT_STATUS_Sent_proposal_sum  0.501398 -0.010975       1.0\n",
       "0           NAME_CONTRACT_STATUS_Active_max  0.500146  0.002993       1.0\n",
       "10          NAME_CONTRACT_STATUS_Demand_sum  0.500094  0.007741       1.0\n",
       "11         NAME_CONTRACT_STATUS_Demand_mean  0.500094  0.006730       1.0\n",
       "9           NAME_CONTRACT_STATUS_Demand_max  0.500094  0.004220       1.0\n",
       "15         NAME_CONTRACT_STATUS_Refused_max  0.500078  0.003232       1.0\n",
       "16         NAME_CONTRACT_STATUS_Refused_sum  0.500078  0.003232       1.0\n",
       "17        NAME_CONTRACT_STATUS_Refused_mean  0.500078  0.002579       1.0\n",
       "18        NAME_CONTRACT_STATUS_Approved_max  0.500032 -0.002344       1.0\n",
       "19        NAME_CONTRACT_STATUS_Approved_sum  0.500032 -0.002344       1.0\n",
       "20       NAME_CONTRACT_STATUS_Approved_mean  0.500032 -0.002341       1.0"
      ]
     },
     "execution_count": 11,
     "metadata": {},
     "output_type": "execute_result"
    }
   ],
   "source": [
    "eval_agg01"
   ]
  },
  {
   "cell_type": "code",
   "execution_count": 12,
   "metadata": {},
   "outputs": [
    {
     "data": {
      "text/plain": [
       "(10, 4)"
      ]
     },
     "execution_count": 12,
     "metadata": {},
     "output_type": "execute_result"
    }
   ],
   "source": [
    "# Lọc các đặc trưng có AUC (Area Under the ROC Curve) nhỏ hơn hoặc bằng 0.501 và đo kích thước kết quả\n",
    "eval_agg01.query(\"auc <= 0.501\").shape"
   ]
  },
  {
   "cell_type": "code",
   "execution_count": 13,
   "metadata": {},
   "outputs": [
    {
     "name": "stdout",
     "output_type": "stream",
     "text": [
      "(86905, 11)\n"
     ]
    }
   ],
   "source": [
    "# Lựa chọn các đặc trưng với AUC (Area Under the ROC Curve) lớn hơn 0.501 từ kết quả đánh giá\n",
    "selected_features = eval_agg01.query(\"auc > 0.501\")[\"name\"].tolist()\n",
    "\n",
    "# Lọc DataFrame df_agg01 để giữ lại chỉ các đặc trưng được lựa chọn\n",
    "df_agg01 = df_agg01[selected_features]\n",
    "print(df_agg01.shape)"
   ]
  },
  {
   "cell_type": "markdown",
   "metadata": {},
   "source": [
    "Numerical features"
   ]
  },
  {
   "cell_type": "code",
   "execution_count": 14,
   "metadata": {},
   "outputs": [
    {
     "data": {
      "text/plain": [
       "['MONTHS_BALANCE',\n",
       " 'AMT_CREDIT_LIMIT_ACTUAL',\n",
       " 'CNT_DRAWINGS_CURRENT',\n",
       " 'is_DPD',\n",
       " 'is_DPD_DEF']"
      ]
     },
     "execution_count": 14,
     "metadata": {},
     "output_type": "execute_result"
    }
   ],
   "source": [
    "# get list numerical attributes\n",
    "series_type = credit_card_balance.dtypes\n",
    "ls_num = series_type[series_type == \"int64\"].index.tolist()\n",
    "ls_num = [col for col in ls_num if col not in [\"SK_ID_PREV\", \"SK_ID_CURR\"]]\n",
    "ls_num"
   ]
  },
  {
   "cell_type": "code",
   "execution_count": 15,
   "metadata": {},
   "outputs": [
    {
     "data": {
      "text/html": [
       "<div>\n",
       "<style scoped>\n",
       "    .dataframe tbody tr th:only-of-type {\n",
       "        vertical-align: middle;\n",
       "    }\n",
       "\n",
       "    .dataframe tbody tr th {\n",
       "        vertical-align: top;\n",
       "    }\n",
       "\n",
       "    .dataframe thead th {\n",
       "        text-align: right;\n",
       "    }\n",
       "</style>\n",
       "<table border=\"1\" class=\"dataframe\">\n",
       "  <thead>\n",
       "    <tr style=\"text-align: right;\">\n",
       "      <th></th>\n",
       "      <th>SK_ID_PREV</th>\n",
       "      <th>SK_ID_CURR</th>\n",
       "      <th>MONTHS_BALANCE</th>\n",
       "      <th>AMT_CREDIT_LIMIT_ACTUAL</th>\n",
       "      <th>CNT_DRAWINGS_CURRENT</th>\n",
       "      <th>is_DPD</th>\n",
       "      <th>is_DPD_DEF</th>\n",
       "    </tr>\n",
       "  </thead>\n",
       "  <tbody>\n",
       "    <tr>\n",
       "      <th>0</th>\n",
       "      <td>2582071</td>\n",
       "      <td>87788</td>\n",
       "      <td>-1</td>\n",
       "      <td>45000</td>\n",
       "      <td>1</td>\n",
       "      <td>0</td>\n",
       "      <td>0</td>\n",
       "    </tr>\n",
       "    <tr>\n",
       "      <th>1</th>\n",
       "      <td>2582071</td>\n",
       "      <td>87788</td>\n",
       "      <td>-82</td>\n",
       "      <td>67500</td>\n",
       "      <td>0</td>\n",
       "      <td>0</td>\n",
       "      <td>0</td>\n",
       "    </tr>\n",
       "    <tr>\n",
       "      <th>2</th>\n",
       "      <td>2582071</td>\n",
       "      <td>87788</td>\n",
       "      <td>-84</td>\n",
       "      <td>67500</td>\n",
       "      <td>0</td>\n",
       "      <td>0</td>\n",
       "      <td>0</td>\n",
       "    </tr>\n",
       "    <tr>\n",
       "      <th>3</th>\n",
       "      <td>2582071</td>\n",
       "      <td>87788</td>\n",
       "      <td>-7</td>\n",
       "      <td>45000</td>\n",
       "      <td>0</td>\n",
       "      <td>0</td>\n",
       "      <td>0</td>\n",
       "    </tr>\n",
       "    <tr>\n",
       "      <th>4</th>\n",
       "      <td>2582071</td>\n",
       "      <td>87788</td>\n",
       "      <td>-59</td>\n",
       "      <td>67500</td>\n",
       "      <td>4</td>\n",
       "      <td>0</td>\n",
       "      <td>0</td>\n",
       "    </tr>\n",
       "  </tbody>\n",
       "</table>\n",
       "</div>"
      ],
      "text/plain": [
       "   SK_ID_PREV  SK_ID_CURR  MONTHS_BALANCE  AMT_CREDIT_LIMIT_ACTUAL  \\\n",
       "0     2582071       87788              -1                    45000   \n",
       "1     2582071       87788             -82                    67500   \n",
       "2     2582071       87788             -84                    67500   \n",
       "3     2582071       87788              -7                    45000   \n",
       "4     2582071       87788             -59                    67500   \n",
       "\n",
       "   CNT_DRAWINGS_CURRENT  is_DPD  is_DPD_DEF  \n",
       "0                     1       0           0  \n",
       "1                     0       0           0  \n",
       "2                     0       0           0  \n",
       "3                     0       0           0  \n",
       "4                     4       0           0  "
      ]
     },
     "execution_count": 15,
     "metadata": {},
     "output_type": "execute_result"
    }
   ],
   "source": [
    "# Tạo một DataFrame mới chỉ chứa một số cột cụ thể từ DataFrame gốc df_data\n",
    "df_num = credit_card_balance[[\"SK_ID_PREV\", \"SK_ID_CURR\"] + ls_num].copy()\n",
    "\n",
    "df_num.head()"
   ]
  },
  {
   "cell_type": "code",
   "execution_count": 16,
   "metadata": {},
   "outputs": [],
   "source": [
    "# Đảo ngược dấu của cột \"MONTHS_BALANCE\" trong DataFrame df_num\n",
    "df_num[\"MONTHS_BALANCE\"] = df_num[\"MONTHS_BALANCE\"] * -1"
   ]
  },
  {
   "cell_type": "code",
   "execution_count": 17,
   "metadata": {},
   "outputs": [
    {
     "data": {
      "text/plain": [
       "{'MONTHS_BALANCE': ['max', 'min', 'sum', 'mean', 'std'],\n",
       " 'AMT_CREDIT_LIMIT_ACTUAL': ['max', 'min', 'sum', 'mean', 'std'],\n",
       " 'CNT_DRAWINGS_CURRENT': ['max', 'min', 'sum', 'mean', 'std'],\n",
       " 'is_DPD': ['max', 'min', 'sum', 'mean', 'std'],\n",
       " 'is_DPD_DEF': ['max', 'min', 'sum', 'mean', 'std']}"
      ]
     },
     "metadata": {},
     "output_type": "display_data"
    },
    {
     "name": "stdout",
     "output_type": "stream",
     "text": [
      "After agg: (86905, 25)\n"
     ]
    }
   ],
   "source": [
    "# Tổng hợp dữ liệu \n",
    "df_agg02 = agg_common_data(df_num[[\"SK_ID_CURR\"] + ls_num], [\"max\", \"min\", \"sum\", \"mean\", \"std\"], main_key=\"SK_ID_CURR\")\n",
    "\n",
    "# Đánh giá đặc trưng của dữ liệu tổng hợp và lưu kết quả vào biến eval_agg02\n",
    "eval_agg02 = feature_evaluate(application_train_filtered, df_agg02)"
   ]
  },
  {
   "cell_type": "code",
   "execution_count": 18,
   "metadata": {},
   "outputs": [
    {
     "data": {
      "text/html": [
       "<div>\n",
       "<style scoped>\n",
       "    .dataframe tbody tr th:only-of-type {\n",
       "        vertical-align: middle;\n",
       "    }\n",
       "\n",
       "    .dataframe tbody tr th {\n",
       "        vertical-align: top;\n",
       "    }\n",
       "\n",
       "    .dataframe thead th {\n",
       "        text-align: right;\n",
       "    }\n",
       "</style>\n",
       "<table border=\"1\" class=\"dataframe\">\n",
       "  <thead>\n",
       "    <tr style=\"text-align: right;\">\n",
       "      <th></th>\n",
       "      <th>name</th>\n",
       "      <th>auc</th>\n",
       "      <th>corr</th>\n",
       "      <th>coverage</th>\n",
       "    </tr>\n",
       "  </thead>\n",
       "  <tbody>\n",
       "    <tr>\n",
       "      <th>14</th>\n",
       "      <td>CNT_DRAWINGS_CURRENT_std</td>\n",
       "      <td>0.624756</td>\n",
       "      <td>0.108322</td>\n",
       "      <td>0.992637</td>\n",
       "    </tr>\n",
       "    <tr>\n",
       "      <th>13</th>\n",
       "      <td>CNT_DRAWINGS_CURRENT_mean</td>\n",
       "      <td>0.624038</td>\n",
       "      <td>0.084266</td>\n",
       "      <td>1.000000</td>\n",
       "    </tr>\n",
       "    <tr>\n",
       "      <th>10</th>\n",
       "      <td>CNT_DRAWINGS_CURRENT_max</td>\n",
       "      <td>0.613745</td>\n",
       "      <td>0.101358</td>\n",
       "      <td>1.000000</td>\n",
       "    </tr>\n",
       "    <tr>\n",
       "      <th>12</th>\n",
       "      <td>CNT_DRAWINGS_CURRENT_sum</td>\n",
       "      <td>0.596027</td>\n",
       "      <td>0.053405</td>\n",
       "      <td>1.000000</td>\n",
       "    </tr>\n",
       "    <tr>\n",
       "      <th>3</th>\n",
       "      <td>MONTHS_BALANCE_mean</td>\n",
       "      <td>0.560254</td>\n",
       "      <td>-0.059817</td>\n",
       "      <td>1.000000</td>\n",
       "    </tr>\n",
       "    <tr>\n",
       "      <th>0</th>\n",
       "      <td>MONTHS_BALANCE_max</td>\n",
       "      <td>0.558268</td>\n",
       "      <td>-0.059077</td>\n",
       "      <td>1.000000</td>\n",
       "    </tr>\n",
       "    <tr>\n",
       "      <th>2</th>\n",
       "      <td>MONTHS_BALANCE_sum</td>\n",
       "      <td>0.557519</td>\n",
       "      <td>-0.057034</td>\n",
       "      <td>1.000000</td>\n",
       "    </tr>\n",
       "    <tr>\n",
       "      <th>4</th>\n",
       "      <td>MONTHS_BALANCE_std</td>\n",
       "      <td>0.556072</td>\n",
       "      <td>-0.058305</td>\n",
       "      <td>0.992637</td>\n",
       "    </tr>\n",
       "    <tr>\n",
       "      <th>7</th>\n",
       "      <td>AMT_CREDIT_LIMIT_ACTUAL_sum</td>\n",
       "      <td>0.548749</td>\n",
       "      <td>-0.045471</td>\n",
       "      <td>1.000000</td>\n",
       "    </tr>\n",
       "    <tr>\n",
       "      <th>1</th>\n",
       "      <td>MONTHS_BALANCE_min</td>\n",
       "      <td>0.521566</td>\n",
       "      <td>-0.025715</td>\n",
       "      <td>1.000000</td>\n",
       "    </tr>\n",
       "    <tr>\n",
       "      <th>6</th>\n",
       "      <td>AMT_CREDIT_LIMIT_ACTUAL_min</td>\n",
       "      <td>0.516781</td>\n",
       "      <td>-0.001118</td>\n",
       "      <td>1.000000</td>\n",
       "    </tr>\n",
       "    <tr>\n",
       "      <th>9</th>\n",
       "      <td>AMT_CREDIT_LIMIT_ACTUAL_std</td>\n",
       "      <td>0.515914</td>\n",
       "      <td>-0.013667</td>\n",
       "      <td>0.992637</td>\n",
       "    </tr>\n",
       "    <tr>\n",
       "      <th>11</th>\n",
       "      <td>CNT_DRAWINGS_CURRENT_min</td>\n",
       "      <td>0.513031</td>\n",
       "      <td>0.027173</td>\n",
       "      <td>1.000000</td>\n",
       "    </tr>\n",
       "    <tr>\n",
       "      <th>22</th>\n",
       "      <td>is_DPD_DEF_sum</td>\n",
       "      <td>0.509044</td>\n",
       "      <td>-0.007246</td>\n",
       "      <td>1.000000</td>\n",
       "    </tr>\n",
       "    <tr>\n",
       "      <th>20</th>\n",
       "      <td>is_DPD_DEF_max</td>\n",
       "      <td>0.508776</td>\n",
       "      <td>-0.013123</td>\n",
       "      <td>1.000000</td>\n",
       "    </tr>\n",
       "    <tr>\n",
       "      <th>23</th>\n",
       "      <td>is_DPD_DEF_mean</td>\n",
       "      <td>0.507236</td>\n",
       "      <td>0.006402</td>\n",
       "      <td>1.000000</td>\n",
       "    </tr>\n",
       "    <tr>\n",
       "      <th>24</th>\n",
       "      <td>is_DPD_DEF_std</td>\n",
       "      <td>0.507075</td>\n",
       "      <td>-0.001274</td>\n",
       "      <td>0.992637</td>\n",
       "    </tr>\n",
       "    <tr>\n",
       "      <th>5</th>\n",
       "      <td>AMT_CREDIT_LIMIT_ACTUAL_max</td>\n",
       "      <td>0.506805</td>\n",
       "      <td>-0.012627</td>\n",
       "      <td>1.000000</td>\n",
       "    </tr>\n",
       "    <tr>\n",
       "      <th>17</th>\n",
       "      <td>is_DPD_sum</td>\n",
       "      <td>0.506619</td>\n",
       "      <td>-0.011429</td>\n",
       "      <td>1.000000</td>\n",
       "    </tr>\n",
       "    <tr>\n",
       "      <th>15</th>\n",
       "      <td>is_DPD_max</td>\n",
       "      <td>0.505095</td>\n",
       "      <td>-0.007105</td>\n",
       "      <td>1.000000</td>\n",
       "    </tr>\n",
       "    <tr>\n",
       "      <th>18</th>\n",
       "      <td>is_DPD_mean</td>\n",
       "      <td>0.503303</td>\n",
       "      <td>0.001129</td>\n",
       "      <td>1.000000</td>\n",
       "    </tr>\n",
       "    <tr>\n",
       "      <th>19</th>\n",
       "      <td>is_DPD_std</td>\n",
       "      <td>0.503005</td>\n",
       "      <td>0.002162</td>\n",
       "      <td>0.992637</td>\n",
       "    </tr>\n",
       "    <tr>\n",
       "      <th>8</th>\n",
       "      <td>AMT_CREDIT_LIMIT_ACTUAL_mean</td>\n",
       "      <td>0.501894</td>\n",
       "      <td>-0.009677</td>\n",
       "      <td>1.000000</td>\n",
       "    </tr>\n",
       "    <tr>\n",
       "      <th>16</th>\n",
       "      <td>is_DPD_min</td>\n",
       "      <td>0.500000</td>\n",
       "      <td>NaN</td>\n",
       "      <td>1.000000</td>\n",
       "    </tr>\n",
       "    <tr>\n",
       "      <th>21</th>\n",
       "      <td>is_DPD_DEF_min</td>\n",
       "      <td>0.500000</td>\n",
       "      <td>NaN</td>\n",
       "      <td>1.000000</td>\n",
       "    </tr>\n",
       "  </tbody>\n",
       "</table>\n",
       "</div>"
      ],
      "text/plain": [
       "                            name       auc      corr  coverage\n",
       "14      CNT_DRAWINGS_CURRENT_std  0.624756  0.108322  0.992637\n",
       "13     CNT_DRAWINGS_CURRENT_mean  0.624038  0.084266  1.000000\n",
       "10      CNT_DRAWINGS_CURRENT_max  0.613745  0.101358  1.000000\n",
       "12      CNT_DRAWINGS_CURRENT_sum  0.596027  0.053405  1.000000\n",
       "3            MONTHS_BALANCE_mean  0.560254 -0.059817  1.000000\n",
       "0             MONTHS_BALANCE_max  0.558268 -0.059077  1.000000\n",
       "2             MONTHS_BALANCE_sum  0.557519 -0.057034  1.000000\n",
       "4             MONTHS_BALANCE_std  0.556072 -0.058305  0.992637\n",
       "7    AMT_CREDIT_LIMIT_ACTUAL_sum  0.548749 -0.045471  1.000000\n",
       "1             MONTHS_BALANCE_min  0.521566 -0.025715  1.000000\n",
       "6    AMT_CREDIT_LIMIT_ACTUAL_min  0.516781 -0.001118  1.000000\n",
       "9    AMT_CREDIT_LIMIT_ACTUAL_std  0.515914 -0.013667  0.992637\n",
       "11      CNT_DRAWINGS_CURRENT_min  0.513031  0.027173  1.000000\n",
       "22                is_DPD_DEF_sum  0.509044 -0.007246  1.000000\n",
       "20                is_DPD_DEF_max  0.508776 -0.013123  1.000000\n",
       "23               is_DPD_DEF_mean  0.507236  0.006402  1.000000\n",
       "24                is_DPD_DEF_std  0.507075 -0.001274  0.992637\n",
       "5    AMT_CREDIT_LIMIT_ACTUAL_max  0.506805 -0.012627  1.000000\n",
       "17                    is_DPD_sum  0.506619 -0.011429  1.000000\n",
       "15                    is_DPD_max  0.505095 -0.007105  1.000000\n",
       "18                   is_DPD_mean  0.503303  0.001129  1.000000\n",
       "19                    is_DPD_std  0.503005  0.002162  0.992637\n",
       "8   AMT_CREDIT_LIMIT_ACTUAL_mean  0.501894 -0.009677  1.000000\n",
       "16                    is_DPD_min  0.500000       NaN  1.000000\n",
       "21                is_DPD_DEF_min  0.500000       NaN  1.000000"
      ]
     },
     "execution_count": 18,
     "metadata": {},
     "output_type": "execute_result"
    }
   ],
   "source": [
    "eval_agg02"
   ]
  },
  {
   "cell_type": "markdown",
   "metadata": {},
   "source": [
    "Continuous features"
   ]
  },
  {
   "cell_type": "code",
   "execution_count": 19,
   "metadata": {},
   "outputs": [
    {
     "data": {
      "text/plain": [
       "['AMT_BALANCE',\n",
       " 'AMT_DRAWINGS_ATM_CURRENT',\n",
       " 'AMT_DRAWINGS_CURRENT',\n",
       " 'AMT_DRAWINGS_OTHER_CURRENT',\n",
       " 'AMT_DRAWINGS_POS_CURRENT',\n",
       " 'AMT_INST_MIN_REGULARITY',\n",
       " 'AMT_PAYMENT_CURRENT',\n",
       " 'AMT_PAYMENT_TOTAL_CURRENT',\n",
       " 'AMT_RECEIVABLE_PRINCIPAL',\n",
       " 'AMT_RECIVABLE',\n",
       " 'AMT_TOTAL_RECEIVABLE',\n",
       " 'CNT_DRAWINGS_ATM_CURRENT',\n",
       " 'CNT_DRAWINGS_OTHER_CURRENT',\n",
       " 'CNT_DRAWINGS_POS_CURRENT',\n",
       " 'CNT_INSTALMENT_MATURE_CUM']"
      ]
     },
     "execution_count": 19,
     "metadata": {},
     "output_type": "execute_result"
    }
   ],
   "source": [
    "# get list continuous attributes\n",
    "series_type = credit_card_balance.dtypes\n",
    "ls_con = series_type[series_type == \"float64\"].index.tolist()\n",
    "ls_con"
   ]
  },
  {
   "cell_type": "code",
   "execution_count": 20,
   "metadata": {},
   "outputs": [
    {
     "name": "stdout",
     "output_type": "stream",
     "text": [
      "(3227965, 17)\n"
     ]
    }
   ],
   "source": [
    "# Tạo DataFrame mới chỉ chứa một số cột cụ thể từ DataFrame gốc df_data\n",
    "df_con = credit_card_balance[[\"SK_ID_PREV\", \"SK_ID_CURR\"] + ls_con].copy()\n",
    "\n",
    "print(df_con.shape)"
   ]
  },
  {
   "cell_type": "code",
   "execution_count": 21,
   "metadata": {},
   "outputs": [
    {
     "data": {
      "text/plain": [
       "{'AMT_BALANCE': ['max', 'min', 'sum', 'mean', 'std'],\n",
       " 'AMT_DRAWINGS_ATM_CURRENT': ['max', 'min', 'sum', 'mean', 'std'],\n",
       " 'AMT_DRAWINGS_CURRENT': ['max', 'min', 'sum', 'mean', 'std'],\n",
       " 'AMT_DRAWINGS_OTHER_CURRENT': ['max', 'min', 'sum', 'mean', 'std'],\n",
       " 'AMT_DRAWINGS_POS_CURRENT': ['max', 'min', 'sum', 'mean', 'std'],\n",
       " 'AMT_INST_MIN_REGULARITY': ['max', 'min', 'sum', 'mean', 'std'],\n",
       " 'AMT_PAYMENT_CURRENT': ['max', 'min', 'sum', 'mean', 'std'],\n",
       " 'AMT_PAYMENT_TOTAL_CURRENT': ['max', 'min', 'sum', 'mean', 'std'],\n",
       " 'AMT_RECEIVABLE_PRINCIPAL': ['max', 'min', 'sum', 'mean', 'std'],\n",
       " 'AMT_RECIVABLE': ['max', 'min', 'sum', 'mean', 'std'],\n",
       " 'AMT_TOTAL_RECEIVABLE': ['max', 'min', 'sum', 'mean', 'std'],\n",
       " 'CNT_DRAWINGS_ATM_CURRENT': ['max', 'min', 'sum', 'mean', 'std'],\n",
       " 'CNT_DRAWINGS_OTHER_CURRENT': ['max', 'min', 'sum', 'mean', 'std'],\n",
       " 'CNT_DRAWINGS_POS_CURRENT': ['max', 'min', 'sum', 'mean', 'std'],\n",
       " 'CNT_INSTALMENT_MATURE_CUM': ['max', 'min', 'sum', 'mean', 'std']}"
      ]
     },
     "metadata": {},
     "output_type": "display_data"
    },
    {
     "name": "stdout",
     "output_type": "stream",
     "text": [
      "After agg: (86905, 75)\n"
     ]
    }
   ],
   "source": [
    "# Tổng hợp dữ liệu \n",
    "df_agg03 = agg_common_data(df_con[[\"SK_ID_CURR\"] + ls_con], [\"max\", \"min\", \"sum\", \"mean\", \"std\"], main_key=\"SK_ID_CURR\")\n",
    "\n",
    "# Đánh giá đặc trưng của dữ liệu tổng hợp và lưu kết quả vào biến eval_agg03\n",
    "eval_agg03 = feature_evaluate(application_train_filtered, df_agg03)\n"
   ]
  },
  {
   "cell_type": "code",
   "execution_count": 22,
   "metadata": {},
   "outputs": [
    {
     "data": {
      "text/html": [
       "<div>\n",
       "<style scoped>\n",
       "    .dataframe tbody tr th:only-of-type {\n",
       "        vertical-align: middle;\n",
       "    }\n",
       "\n",
       "    .dataframe tbody tr th {\n",
       "        vertical-align: top;\n",
       "    }\n",
       "\n",
       "    .dataframe thead th {\n",
       "        text-align: right;\n",
       "    }\n",
       "</style>\n",
       "<table border=\"1\" class=\"dataframe\">\n",
       "  <thead>\n",
       "    <tr style=\"text-align: right;\">\n",
       "      <th></th>\n",
       "      <th>name</th>\n",
       "      <th>auc</th>\n",
       "      <th>corr</th>\n",
       "      <th>coverage</th>\n",
       "    </tr>\n",
       "  </thead>\n",
       "  <tbody>\n",
       "    <tr>\n",
       "      <th>13</th>\n",
       "      <td>AMT_DRAWINGS_CURRENT_mean</td>\n",
       "      <td>0.607704</td>\n",
       "      <td>0.058209</td>\n",
       "      <td>1.000000</td>\n",
       "    </tr>\n",
       "    <tr>\n",
       "      <th>3</th>\n",
       "      <td>AMT_BALANCE_mean</td>\n",
       "      <td>0.606730</td>\n",
       "      <td>0.088466</td>\n",
       "      <td>1.000000</td>\n",
       "    </tr>\n",
       "    <tr>\n",
       "      <th>58</th>\n",
       "      <td>CNT_DRAWINGS_ATM_CURRENT_mean</td>\n",
       "      <td>0.606698</td>\n",
       "      <td>0.105368</td>\n",
       "      <td>0.702327</td>\n",
       "    </tr>\n",
       "    <tr>\n",
       "      <th>53</th>\n",
       "      <td>AMT_TOTAL_RECEIVABLE_mean</td>\n",
       "      <td>0.605846</td>\n",
       "      <td>0.087785</td>\n",
       "      <td>1.000000</td>\n",
       "    </tr>\n",
       "    <tr>\n",
       "      <th>48</th>\n",
       "      <td>AMT_RECIVABLE_mean</td>\n",
       "      <td>0.605834</td>\n",
       "      <td>0.087769</td>\n",
       "      <td>1.000000</td>\n",
       "    </tr>\n",
       "    <tr>\n",
       "      <th>...</th>\n",
       "      <td>...</td>\n",
       "      <td>...</td>\n",
       "      <td>...</td>\n",
       "      <td>...</td>\n",
       "    </tr>\n",
       "    <tr>\n",
       "      <th>64</th>\n",
       "      <td>CNT_DRAWINGS_OTHER_CURRENT_std</td>\n",
       "      <td>0.502051</td>\n",
       "      <td>0.012934</td>\n",
       "      <td>0.697351</td>\n",
       "    </tr>\n",
       "    <tr>\n",
       "      <th>18</th>\n",
       "      <td>AMT_DRAWINGS_OTHER_CURRENT_mean</td>\n",
       "      <td>0.502022</td>\n",
       "      <td>0.009728</td>\n",
       "      <td>0.702327</td>\n",
       "    </tr>\n",
       "    <tr>\n",
       "      <th>19</th>\n",
       "      <td>AMT_DRAWINGS_OTHER_CURRENT_std</td>\n",
       "      <td>0.502016</td>\n",
       "      <td>0.008768</td>\n",
       "      <td>0.697351</td>\n",
       "    </tr>\n",
       "    <tr>\n",
       "      <th>16</th>\n",
       "      <td>AMT_DRAWINGS_OTHER_CURRENT_min</td>\n",
       "      <td>0.500023</td>\n",
       "      <td>-0.001665</td>\n",
       "      <td>0.702327</td>\n",
       "    </tr>\n",
       "    <tr>\n",
       "      <th>61</th>\n",
       "      <td>CNT_DRAWINGS_OTHER_CURRENT_min</td>\n",
       "      <td>0.500023</td>\n",
       "      <td>-0.002148</td>\n",
       "      <td>0.702327</td>\n",
       "    </tr>\n",
       "  </tbody>\n",
       "</table>\n",
       "<p>75 rows × 4 columns</p>\n",
       "</div>"
      ],
      "text/plain": [
       "                               name       auc      corr  coverage\n",
       "13        AMT_DRAWINGS_CURRENT_mean  0.607704  0.058209  1.000000\n",
       "3                  AMT_BALANCE_mean  0.606730  0.088466  1.000000\n",
       "58    CNT_DRAWINGS_ATM_CURRENT_mean  0.606698  0.105368  0.702327\n",
       "53        AMT_TOTAL_RECEIVABLE_mean  0.605846  0.087785  1.000000\n",
       "48               AMT_RECIVABLE_mean  0.605834  0.087769  1.000000\n",
       "..                              ...       ...       ...       ...\n",
       "64   CNT_DRAWINGS_OTHER_CURRENT_std  0.502051  0.012934  0.697351\n",
       "18  AMT_DRAWINGS_OTHER_CURRENT_mean  0.502022  0.009728  0.702327\n",
       "19   AMT_DRAWINGS_OTHER_CURRENT_std  0.502016  0.008768  0.697351\n",
       "16   AMT_DRAWINGS_OTHER_CURRENT_min  0.500023 -0.001665  0.702327\n",
       "61   CNT_DRAWINGS_OTHER_CURRENT_min  0.500023 -0.002148  0.702327\n",
       "\n",
       "[75 rows x 4 columns]"
      ]
     },
     "execution_count": 22,
     "metadata": {},
     "output_type": "execute_result"
    }
   ],
   "source": [
    "eval_agg03"
   ]
  },
  {
   "cell_type": "code",
   "execution_count": 23,
   "metadata": {},
   "outputs": [
    {
     "data": {
      "text/plain": [
       "(2, 4)"
      ]
     },
     "execution_count": 23,
     "metadata": {},
     "output_type": "execute_result"
    }
   ],
   "source": [
    "# Lọc các đặc trưng có AUC (Area Under the ROC Curve) nhỏ hơn hoặc bằng 0.501 và đo kích thước kết quả\n",
    "eval_agg03.query(\"auc <= 0.501\").shape\n"
   ]
  },
  {
   "cell_type": "markdown",
   "metadata": {},
   "source": [
    "Save features"
   ]
  },
  {
   "cell_type": "code",
   "execution_count": 24,
   "metadata": {},
   "outputs": [
    {
     "name": "stdout",
     "output_type": "stream",
     "text": [
      "(86905, 111)\n"
     ]
    }
   ],
   "source": [
    "# Kết hợp các DataFrame df_agg01, df_agg02, và df_agg03 thành một DataFrame mới df_feat\n",
    "df_feat = df_agg01.join(df_agg02).join(df_agg03)\n",
    "\n",
    "print(df_feat.shape)"
   ]
  },
  {
   "cell_type": "code",
   "execution_count": 25,
   "metadata": {},
   "outputs": [
    {
     "name": "stdout",
     "output_type": "stream",
     "text": [
      "Lưu trữ các đặc trưng đã hoàn thành!\n"
     ]
    }
   ],
   "source": [
    "# Kiểm tra và tạo thư mục nếu chưa tồn tại\n",
    "features_folder = \"features\"\n",
    "if not os.path.exists(features_folder):\n",
    "    os.makedirs(features_folder)\n",
    "\n",
    "# Xây dựng đường dẫn cho tệp features của DataFrame df_feat\n",
    "fname = \"credit_card_balance\"\n",
    "fname = os.path.join(features_folder, \"{}.pkl.bz2\".format(fname))\n",
    "\n",
    "# Lưu DataFrame df_feat vào tệp được xây dựng\n",
    "df_feat.to_pickle(fname, compression=\"bz2\")\n",
    "\n",
    "# In thông báo hoàn thành\n",
    "print(\"Lưu trữ các đặc trưng đã hoàn thành!\")\n"
   ]
  }
 ],
 "metadata": {
  "kernelspec": {
   "display_name": "base",
   "language": "python",
   "name": "python3"
  },
  "language_info": {
   "codemirror_mode": {
    "name": "ipython",
    "version": 3
   },
   "file_extension": ".py",
   "mimetype": "text/x-python",
   "name": "python",
   "nbconvert_exporter": "python",
   "pygments_lexer": "ipython3",
   "version": "3.9.13"
  }
 },
 "nbformat": 4,
 "nbformat_minor": 2
}
