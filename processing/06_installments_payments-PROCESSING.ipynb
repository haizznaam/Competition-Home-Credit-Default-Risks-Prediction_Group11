{
 "cells": [
  {
   "cell_type": "code",
   "execution_count": 5,
   "metadata": {},
   "outputs": [],
   "source": [
    "import os\n",
    "import math\n",
    "import subprocess\n",
    "import pandas as pd\n",
    "import numpy as np\n",
    "import matplotlib.pyplot as plt\n",
    "from sklearn.model_selection import train_test_split\n",
    "from utils_feature_engineering import *"
   ]
  },
  {
   "cell_type": "code",
   "execution_count": 6,
   "metadata": {},
   "outputs": [],
   "source": [
    "path = r'D:\\NEU\\Năm 3\\DATA PREP\\PROJECT_DATAPREP\\GITHUB REPO\\dataset\\dseb63_final_project_DP_dataset\\\\'\n",
    "# train\n",
    "application_train = pd.read_csv(path + 'dseb63_' + 'application_train.csv')\n",
    "application_train.drop(columns='Unnamed: 0', inplace=True)\n",
    "# test\n",
    "application_test = pd.read_csv(path + 'dseb63_' + 'application_test.csv')\n",
    "application_test.drop(columns='Unnamed: 0', inplace=True)"
   ]
  },
  {
   "cell_type": "code",
   "execution_count": 7,
   "metadata": {},
   "outputs": [
    {
     "data": {
      "text/html": [
       "<div>\n",
       "<style scoped>\n",
       "    .dataframe tbody tr th:only-of-type {\n",
       "        vertical-align: middle;\n",
       "    }\n",
       "\n",
       "    .dataframe tbody tr th {\n",
       "        vertical-align: top;\n",
       "    }\n",
       "\n",
       "    .dataframe thead th {\n",
       "        text-align: right;\n",
       "    }\n",
       "</style>\n",
       "<table border=\"1\" class=\"dataframe\">\n",
       "  <thead>\n",
       "    <tr style=\"text-align: right;\">\n",
       "      <th></th>\n",
       "      <th>SK_ID_CURR</th>\n",
       "      <th>TARGET</th>\n",
       "    </tr>\n",
       "  </thead>\n",
       "  <tbody>\n",
       "    <tr>\n",
       "      <th>0</th>\n",
       "      <td>278621</td>\n",
       "      <td>0</td>\n",
       "    </tr>\n",
       "    <tr>\n",
       "      <th>1</th>\n",
       "      <td>139008</td>\n",
       "      <td>0</td>\n",
       "    </tr>\n",
       "    <tr>\n",
       "      <th>2</th>\n",
       "      <td>138348</td>\n",
       "      <td>0</td>\n",
       "    </tr>\n",
       "    <tr>\n",
       "      <th>3</th>\n",
       "      <td>53466</td>\n",
       "      <td>0</td>\n",
       "    </tr>\n",
       "    <tr>\n",
       "      <th>4</th>\n",
       "      <td>27272</td>\n",
       "      <td>0</td>\n",
       "    </tr>\n",
       "  </tbody>\n",
       "</table>\n",
       "</div>"
      ],
      "text/plain": [
       "   SK_ID_CURR  TARGET\n",
       "0      278621       0\n",
       "1      139008       0\n",
       "2      138348       0\n",
       "3       53466       0\n",
       "4       27272       0"
      ]
     },
     "execution_count": 7,
     "metadata": {},
     "output_type": "execute_result"
    }
   ],
   "source": [
    "# Chỉ giữ lại cột SK_ID_CURR và biến target\n",
    "# filter by tvt code\n",
    "application_tvt_extend = pd.read_pickle(\n",
    "    \"application_tvt_extend.pkl\", compression=\"bz2\")\n",
    "application_train_filtered = (application_tvt_extend.query(\"tvt_code == 'train'\")\n",
    "                              .merge(application_train[[\"SK_ID_CURR\"]], on=\"SK_ID_CURR\")\n",
    "                              .drop(columns=[\"tvt_code\"]))\n",
    "application_train_filtered.head()"
   ]
  },
  {
   "cell_type": "code",
   "execution_count": 8,
   "metadata": {},
   "outputs": [
    {
     "data": {
      "text/html": [
       "<div>\n",
       "<style scoped>\n",
       "    .dataframe tbody tr th:only-of-type {\n",
       "        vertical-align: middle;\n",
       "    }\n",
       "\n",
       "    .dataframe tbody tr th {\n",
       "        vertical-align: top;\n",
       "    }\n",
       "\n",
       "    .dataframe thead th {\n",
       "        text-align: right;\n",
       "    }\n",
       "</style>\n",
       "<table border=\"1\" class=\"dataframe\">\n",
       "  <thead>\n",
       "    <tr style=\"text-align: right;\">\n",
       "      <th></th>\n",
       "      <th>SK_ID_PREV</th>\n",
       "      <th>NUM_INSTALMENT_VERSION</th>\n",
       "      <th>NUM_INSTALMENT_NUMBER</th>\n",
       "      <th>DAYS_INSTALMENT</th>\n",
       "      <th>DAYS_ENTRY_PAYMENT</th>\n",
       "      <th>AMT_INSTALMENT</th>\n",
       "      <th>AMT_PAYMENT</th>\n",
       "      <th>SK_ID_CURR</th>\n",
       "    </tr>\n",
       "  </thead>\n",
       "  <tbody>\n",
       "    <tr>\n",
       "      <th>0</th>\n",
       "      <td>1054186</td>\n",
       "      <td>1.0</td>\n",
       "      <td>6</td>\n",
       "      <td>-1180.0</td>\n",
       "      <td>-1187.0</td>\n",
       "      <td>6948.360</td>\n",
       "      <td>6948.360</td>\n",
       "      <td>147397.0</td>\n",
       "    </tr>\n",
       "    <tr>\n",
       "      <th>1</th>\n",
       "      <td>2452854</td>\n",
       "      <td>1.0</td>\n",
       "      <td>21</td>\n",
       "      <td>-546.0</td>\n",
       "      <td>-552.0</td>\n",
       "      <td>11302.605</td>\n",
       "      <td>11302.605</td>\n",
       "      <td>147397.0</td>\n",
       "    </tr>\n",
       "    <tr>\n",
       "      <th>2</th>\n",
       "      <td>1054186</td>\n",
       "      <td>1.0</td>\n",
       "      <td>2</td>\n",
       "      <td>-1300.0</td>\n",
       "      <td>-1307.0</td>\n",
       "      <td>6948.360</td>\n",
       "      <td>6948.360</td>\n",
       "      <td>147397.0</td>\n",
       "    </tr>\n",
       "    <tr>\n",
       "      <th>3</th>\n",
       "      <td>1682318</td>\n",
       "      <td>1.0</td>\n",
       "      <td>2</td>\n",
       "      <td>-240.0</td>\n",
       "      <td>-243.0</td>\n",
       "      <td>7374.510</td>\n",
       "      <td>7374.510</td>\n",
       "      <td>147397.0</td>\n",
       "    </tr>\n",
       "    <tr>\n",
       "      <th>4</th>\n",
       "      <td>2452854</td>\n",
       "      <td>1.0</td>\n",
       "      <td>10</td>\n",
       "      <td>-876.0</td>\n",
       "      <td>-882.0</td>\n",
       "      <td>11302.605</td>\n",
       "      <td>11302.605</td>\n",
       "      <td>147397.0</td>\n",
       "    </tr>\n",
       "  </tbody>\n",
       "</table>\n",
       "</div>"
      ],
      "text/plain": [
       "   SK_ID_PREV  NUM_INSTALMENT_VERSION  NUM_INSTALMENT_NUMBER  DAYS_INSTALMENT  \\\n",
       "0     1054186                     1.0                      6          -1180.0   \n",
       "1     2452854                     1.0                     21           -546.0   \n",
       "2     1054186                     1.0                      2          -1300.0   \n",
       "3     1682318                     1.0                      2           -240.0   \n",
       "4     2452854                     1.0                     10           -876.0   \n",
       "\n",
       "   DAYS_ENTRY_PAYMENT  AMT_INSTALMENT  AMT_PAYMENT  SK_ID_CURR  \n",
       "0             -1187.0        6948.360     6948.360    147397.0  \n",
       "1              -552.0       11302.605    11302.605    147397.0  \n",
       "2             -1307.0        6948.360     6948.360    147397.0  \n",
       "3              -243.0        7374.510     7374.510    147397.0  \n",
       "4              -882.0       11302.605    11302.605    147397.0  "
      ]
     },
     "execution_count": 8,
     "metadata": {},
     "output_type": "execute_result"
    }
   ],
   "source": [
    "# installments_payments \n",
    "installments_payments = pd.read_csv(path + 'dseb63_installments_payments.csv')\n",
    "installments_payments.head()"
   ]
  },
  {
   "cell_type": "markdown",
   "metadata": {},
   "source": [
    "Preprocessing"
   ]
  },
  {
   "cell_type": "code",
   "execution_count": 9,
   "metadata": {},
   "outputs": [
    {
     "data": {
      "image/png": "[encoded data removed]",
      "text/plain": [
       "<Figure size 640x480 with 1 Axes>"
      ]
     },
     "metadata": {},
     "output_type": "display_data"
    }
   ],
   "source": [
    "# Vẽ histogram của cột \"DAYS_INSTALMENT\" chia cho -365 để chuyển đổi đơn vị sang năm và đảo chiều dấu\n",
    "(installments_payments[\"DAYS_INSTALMENT\"] / -365).hist()\n",
    "plt.show()\n"
   ]
  },
  {
   "cell_type": "code",
   "execution_count": 10,
   "metadata": {},
   "outputs": [],
   "source": [
    "# chuyển đổi giá trị thành năm\n",
    "installments_payments[\"DAYS_INSTALMENT_TO_YEARS\"] = installments_payments[\"DAYS_INSTALMENT\"] / -365\n",
    "installments_payments.drop(columns=[\"DAYS_INSTALMENT\"], inplace=True)"
   ]
  },
  {
   "cell_type": "code",
   "execution_count": 11,
   "metadata": {},
   "outputs": [
    {
     "data": {
      "text/plain": [
       "count    7.744757e+06\n",
       "mean     1.255704e+02\n",
       "std      1.891506e+04\n",
       "min     -2.424726e+06\n",
       "25%      0.000000e+00\n",
       "50%      0.000000e+00\n",
       "75%      0.000000e+00\n",
       "max      2.630909e+06\n",
       "Name: diff_amount, dtype: float64"
      ]
     },
     "execution_count": 11,
     "metadata": {},
     "output_type": "execute_result"
    }
   ],
   "source": [
    "# Tính toán sự khác biệt giữa \"AMT_PAYMENT\" và \"AMT_INSTALMENT\" \n",
    "\n",
    "installments_payments[\"AMT_PAYMENT\"].fillna(0, inplace=True)\n",
    "installments_payments[\"diff_amount\"] = installments_payments[\"AMT_PAYMENT\"] - installments_payments[\"AMT_INSTALMENT\"]\n",
    "\n",
    "installments_payments[\"diff_amount\"].describe()\n"
   ]
  },
  {
   "cell_type": "markdown",
   "metadata": {},
   "source": [
    "Numerical features"
   ]
  },
  {
   "cell_type": "code",
   "execution_count": 12,
   "metadata": {},
   "outputs": [
    {
     "data": {
      "text/plain": [
       "['NUM_INSTALMENT_NUMBER']"
      ]
     },
     "execution_count": 12,
     "metadata": {},
     "output_type": "execute_result"
    }
   ],
   "source": [
    "# get list numerical attributes\n",
    "series_type = installments_payments.dtypes\n",
    "ls_num = series_type[series_type == \"int64\"].index.tolist()\n",
    "ls_num = [col for col in ls_num if col not in [\"SK_ID_PREV\", \"SK_ID_CURR\"]]\n",
    "ls_num"
   ]
  },
  {
   "cell_type": "code",
   "execution_count": 13,
   "metadata": {},
   "outputs": [
    {
     "data": {
      "text/plain": [
       "{'NUM_INSTALMENT_NUMBER': ['max', 'min', 'sum', 'mean', 'std']}"
      ]
     },
     "metadata": {},
     "output_type": "display_data"
    },
    {
     "name": "stdout",
     "output_type": "stream",
     "text": [
      "After agg: (180733, 5)\n"
     ]
    }
   ],
   "source": [
    "# Tổng hợp dữ liệu từ cột \"NUM_INSTALMENT_NUMBER\" theo \"SK_ID_CURR\"\n",
    "pdf_agg02 = agg_common_data(installments_payments[[\"SK_ID_CURR\", \"NUM_INSTALMENT_NUMBER\"]], [\"max\", \"min\", \"sum\", \"mean\", \"std\"], main_key=\"SK_ID_CURR\")\n",
    "\n",
    "# Đánh giá đặc trưng \n",
    "eval_agg02 = feature_evaluate(application_train_filtered, pdf_agg02)\n"
   ]
  },
  {
   "cell_type": "code",
   "execution_count": 14,
   "metadata": {},
   "outputs": [
    {
     "data": {
      "text/html": [
       "<div>\n",
       "<style scoped>\n",
       "    .dataframe tbody tr th:only-of-type {\n",
       "        vertical-align: middle;\n",
       "    }\n",
       "\n",
       "    .dataframe tbody tr th {\n",
       "        vertical-align: top;\n",
       "    }\n",
       "\n",
       "    .dataframe thead th {\n",
       "        text-align: right;\n",
       "    }\n",
       "</style>\n",
       "<table border=\"1\" class=\"dataframe\">\n",
       "  <thead>\n",
       "    <tr style=\"text-align: right;\">\n",
       "      <th></th>\n",
       "      <th>name</th>\n",
       "      <th>auc</th>\n",
       "      <th>corr</th>\n",
       "      <th>coverage</th>\n",
       "    </tr>\n",
       "  </thead>\n",
       "  <tbody>\n",
       "    <tr>\n",
       "      <th>2</th>\n",
       "      <td>NUM_INSTALMENT_NUMBER_sum</td>\n",
       "      <td>0.510121</td>\n",
       "      <td>-0.018515</td>\n",
       "      <td>1.0000</td>\n",
       "    </tr>\n",
       "    <tr>\n",
       "      <th>3</th>\n",
       "      <td>NUM_INSTALMENT_NUMBER_mean</td>\n",
       "      <td>0.509592</td>\n",
       "      <td>-0.011153</td>\n",
       "      <td>1.0000</td>\n",
       "    </tr>\n",
       "    <tr>\n",
       "      <th>4</th>\n",
       "      <td>NUM_INSTALMENT_NUMBER_std</td>\n",
       "      <td>0.507614</td>\n",
       "      <td>0.003926</td>\n",
       "      <td>0.9978</td>\n",
       "    </tr>\n",
       "    <tr>\n",
       "      <th>0</th>\n",
       "      <td>NUM_INSTALMENT_NUMBER_max</td>\n",
       "      <td>0.504647</td>\n",
       "      <td>0.005752</td>\n",
       "      <td>1.0000</td>\n",
       "    </tr>\n",
       "    <tr>\n",
       "      <th>1</th>\n",
       "      <td>NUM_INSTALMENT_NUMBER_min</td>\n",
       "      <td>0.500182</td>\n",
       "      <td>-0.004987</td>\n",
       "      <td>1.0000</td>\n",
       "    </tr>\n",
       "  </tbody>\n",
       "</table>\n",
       "</div>"
      ],
      "text/plain": [
       "                         name       auc      corr  coverage\n",
       "2   NUM_INSTALMENT_NUMBER_sum  0.510121 -0.018515    1.0000\n",
       "3  NUM_INSTALMENT_NUMBER_mean  0.509592 -0.011153    1.0000\n",
       "4   NUM_INSTALMENT_NUMBER_std  0.507614  0.003926    0.9978\n",
       "0   NUM_INSTALMENT_NUMBER_max  0.504647  0.005752    1.0000\n",
       "1   NUM_INSTALMENT_NUMBER_min  0.500182 -0.004987    1.0000"
      ]
     },
     "execution_count": 14,
     "metadata": {},
     "output_type": "execute_result"
    }
   ],
   "source": [
    "eval_agg02"
   ]
  },
  {
   "cell_type": "markdown",
   "metadata": {},
   "source": [
    "Continuous features"
   ]
  },
  {
   "cell_type": "code",
   "execution_count": 15,
   "metadata": {},
   "outputs": [
    {
     "data": {
      "text/plain": [
       "['NUM_INSTALMENT_VERSION',\n",
       " 'DAYS_ENTRY_PAYMENT',\n",
       " 'AMT_INSTALMENT',\n",
       " 'AMT_PAYMENT',\n",
       " 'DAYS_INSTALMENT_TO_YEARS',\n",
       " 'diff_amount']"
      ]
     },
     "execution_count": 15,
     "metadata": {},
     "output_type": "execute_result"
    }
   ],
   "source": [
    "# get list continuous attributes\n",
    "series_type = installments_payments.dtypes\n",
    "ls_con = series_type[series_type == \"float64\"].index.tolist()\n",
    "\n",
    "# remove 'SK_ID_CURR' if it exists in the list\n",
    "ls_con = [col for col in ls_con if col != 'SK_ID_CURR']\n",
    "\n",
    "ls_con\n"
   ]
  },
  {
   "cell_type": "code",
   "execution_count": 16,
   "metadata": {},
   "outputs": [
    {
     "data": {
      "text/html": [
       "<div>\n",
       "<style scoped>\n",
       "    .dataframe tbody tr th:only-of-type {\n",
       "        vertical-align: middle;\n",
       "    }\n",
       "\n",
       "    .dataframe tbody tr th {\n",
       "        vertical-align: top;\n",
       "    }\n",
       "\n",
       "    .dataframe thead th {\n",
       "        text-align: right;\n",
       "    }\n",
       "</style>\n",
       "<table border=\"1\" class=\"dataframe\">\n",
       "  <thead>\n",
       "    <tr style=\"text-align: right;\">\n",
       "      <th></th>\n",
       "      <th>SK_ID_PREV</th>\n",
       "      <th>SK_ID_CURR</th>\n",
       "      <th>NUM_INSTALMENT_VERSION</th>\n",
       "      <th>DAYS_ENTRY_PAYMENT</th>\n",
       "      <th>AMT_INSTALMENT</th>\n",
       "      <th>AMT_PAYMENT</th>\n",
       "      <th>DAYS_INSTALMENT_TO_YEARS</th>\n",
       "      <th>diff_amount</th>\n",
       "    </tr>\n",
       "  </thead>\n",
       "  <tbody>\n",
       "    <tr>\n",
       "      <th>0</th>\n",
       "      <td>1054186</td>\n",
       "      <td>147397.0</td>\n",
       "      <td>1.0</td>\n",
       "      <td>-1187.0</td>\n",
       "      <td>6948.360</td>\n",
       "      <td>6948.360</td>\n",
       "      <td>3.232877</td>\n",
       "      <td>0.0</td>\n",
       "    </tr>\n",
       "    <tr>\n",
       "      <th>1</th>\n",
       "      <td>2452854</td>\n",
       "      <td>147397.0</td>\n",
       "      <td>1.0</td>\n",
       "      <td>-552.0</td>\n",
       "      <td>11302.605</td>\n",
       "      <td>11302.605</td>\n",
       "      <td>1.495890</td>\n",
       "      <td>0.0</td>\n",
       "    </tr>\n",
       "    <tr>\n",
       "      <th>2</th>\n",
       "      <td>1054186</td>\n",
       "      <td>147397.0</td>\n",
       "      <td>1.0</td>\n",
       "      <td>-1307.0</td>\n",
       "      <td>6948.360</td>\n",
       "      <td>6948.360</td>\n",
       "      <td>3.561644</td>\n",
       "      <td>0.0</td>\n",
       "    </tr>\n",
       "    <tr>\n",
       "      <th>3</th>\n",
       "      <td>1682318</td>\n",
       "      <td>147397.0</td>\n",
       "      <td>1.0</td>\n",
       "      <td>-243.0</td>\n",
       "      <td>7374.510</td>\n",
       "      <td>7374.510</td>\n",
       "      <td>0.657534</td>\n",
       "      <td>0.0</td>\n",
       "    </tr>\n",
       "    <tr>\n",
       "      <th>4</th>\n",
       "      <td>2452854</td>\n",
       "      <td>147397.0</td>\n",
       "      <td>1.0</td>\n",
       "      <td>-882.0</td>\n",
       "      <td>11302.605</td>\n",
       "      <td>11302.605</td>\n",
       "      <td>2.400000</td>\n",
       "      <td>0.0</td>\n",
       "    </tr>\n",
       "  </tbody>\n",
       "</table>\n",
       "</div>"
      ],
      "text/plain": [
       "   SK_ID_PREV  SK_ID_CURR  NUM_INSTALMENT_VERSION  DAYS_ENTRY_PAYMENT  \\\n",
       "0     1054186    147397.0                     1.0             -1187.0   \n",
       "1     2452854    147397.0                     1.0              -552.0   \n",
       "2     1054186    147397.0                     1.0             -1307.0   \n",
       "3     1682318    147397.0                     1.0              -243.0   \n",
       "4     2452854    147397.0                     1.0              -882.0   \n",
       "\n",
       "   AMT_INSTALMENT  AMT_PAYMENT  DAYS_INSTALMENT_TO_YEARS  diff_amount  \n",
       "0        6948.360     6948.360                  3.232877          0.0  \n",
       "1       11302.605    11302.605                  1.495890          0.0  \n",
       "2        6948.360     6948.360                  3.561644          0.0  \n",
       "3        7374.510     7374.510                  0.657534          0.0  \n",
       "4       11302.605    11302.605                  2.400000          0.0  "
      ]
     },
     "execution_count": 16,
     "metadata": {},
     "output_type": "execute_result"
    }
   ],
   "source": [
    "# Lựa chọn các cột \"SK_ID_PREV\", \"SK_ID_CURR\", và danh sách các biến cố (ls_con) từ DataFrame pdf_data\n",
    "pdf_con = installments_payments[[\"SK_ID_PREV\", \"SK_ID_CURR\"] + ls_con].copy()\n",
    "pdf_con.head()"
   ]
  },
  {
   "cell_type": "code",
   "execution_count": 17,
   "metadata": {},
   "outputs": [
    {
     "name": "stdout",
     "output_type": "stream",
     "text": [
      "(7744758, 8)\n"
     ]
    }
   ],
   "source": [
    "print(pdf_con.shape)"
   ]
  },
  {
   "cell_type": "code",
   "execution_count": 18,
   "metadata": {},
   "outputs": [
    {
     "data": {
      "text/plain": [
       "{'NUM_INSTALMENT_VERSION': ['max', 'min', 'sum', 'mean', 'std'],\n",
       " 'DAYS_ENTRY_PAYMENT': ['max', 'min', 'sum', 'mean', 'std'],\n",
       " 'AMT_INSTALMENT': ['max', 'min', 'sum', 'mean', 'std'],\n",
       " 'AMT_PAYMENT': ['max', 'min', 'sum', 'mean', 'std'],\n",
       " 'DAYS_INSTALMENT_TO_YEARS': ['max', 'min', 'sum', 'mean', 'std'],\n",
       " 'diff_amount': ['max', 'min', 'sum', 'mean', 'std']}"
      ]
     },
     "metadata": {},
     "output_type": "display_data"
    },
    {
     "name": "stdout",
     "output_type": "stream",
     "text": [
      "After agg: (180733, 30)\n"
     ]
    }
   ],
   "source": [
    "# Tổng hợp dữ liệu \n",
    "pdf_agg03 = agg_common_data(pdf_con[[\"SK_ID_CURR\"] + ls_con], [\"max\", \"min\", \"sum\", \"mean\", \"std\"], main_key=\"SK_ID_CURR\")\n",
    "\n",
    "# Đánh giá đặc trưng của dữ liệu tổng hợp và lưu kết quả vào biến eval_agg03\n",
    "eval_agg03 = feature_evaluate(application_train_filtered, pdf_agg03)"
   ]
  },
  {
   "cell_type": "code",
   "execution_count": 19,
   "metadata": {},
   "outputs": [
    {
     "data": {
      "text/html": [
       "<div>\n",
       "<style scoped>\n",
       "    .dataframe tbody tr th:only-of-type {\n",
       "        vertical-align: middle;\n",
       "    }\n",
       "\n",
       "    .dataframe tbody tr th {\n",
       "        vertical-align: top;\n",
       "    }\n",
       "\n",
       "    .dataframe thead th {\n",
       "        text-align: right;\n",
       "    }\n",
       "</style>\n",
       "<table border=\"1\" class=\"dataframe\">\n",
       "  <thead>\n",
       "    <tr style=\"text-align: right;\">\n",
       "      <th></th>\n",
       "      <th>name</th>\n",
       "      <th>auc</th>\n",
       "      <th>corr</th>\n",
       "      <th>coverage</th>\n",
       "    </tr>\n",
       "  </thead>\n",
       "  <tbody>\n",
       "    <tr>\n",
       "      <th>24</th>\n",
       "      <td>DAYS_INSTALMENT_TO_YEARS_std</td>\n",
       "      <td>0.560559</td>\n",
       "      <td>-0.058563</td>\n",
       "      <td>0.99780</td>\n",
       "    </tr>\n",
       "    <tr>\n",
       "      <th>16</th>\n",
       "      <td>AMT_PAYMENT_min</td>\n",
       "      <td>0.559816</td>\n",
       "      <td>-0.034918</td>\n",
       "      <td>1.00000</td>\n",
       "    </tr>\n",
       "    <tr>\n",
       "      <th>9</th>\n",
       "      <td>DAYS_ENTRY_PAYMENT_std</td>\n",
       "      <td>0.559707</td>\n",
       "      <td>-0.058018</td>\n",
       "      <td>0.99780</td>\n",
       "    </tr>\n",
       "    <tr>\n",
       "      <th>6</th>\n",
       "      <td>DAYS_ENTRY_PAYMENT_min</td>\n",
       "      <td>0.559318</td>\n",
       "      <td>0.056830</td>\n",
       "      <td>0.99999</td>\n",
       "    </tr>\n",
       "    <tr>\n",
       "      <th>20</th>\n",
       "      <td>DAYS_INSTALMENT_TO_YEARS_max</td>\n",
       "      <td>0.559081</td>\n",
       "      <td>-0.056656</td>\n",
       "      <td>1.00000</td>\n",
       "    </tr>\n",
       "    <tr>\n",
       "      <th>28</th>\n",
       "      <td>diff_amount_mean</td>\n",
       "      <td>0.558098</td>\n",
       "      <td>-0.027115</td>\n",
       "      <td>1.00000</td>\n",
       "    </tr>\n",
       "    <tr>\n",
       "      <th>8</th>\n",
       "      <td>DAYS_ENTRY_PAYMENT_mean</td>\n",
       "      <td>0.554308</td>\n",
       "      <td>0.043182</td>\n",
       "      <td>0.99999</td>\n",
       "    </tr>\n",
       "    <tr>\n",
       "      <th>23</th>\n",
       "      <td>DAYS_INSTALMENT_TO_YEARS_mean</td>\n",
       "      <td>0.553610</td>\n",
       "      <td>-0.042686</td>\n",
       "      <td>1.00000</td>\n",
       "    </tr>\n",
       "    <tr>\n",
       "      <th>27</th>\n",
       "      <td>diff_amount_sum</td>\n",
       "      <td>0.551073</td>\n",
       "      <td>-0.027672</td>\n",
       "      <td>1.00000</td>\n",
       "    </tr>\n",
       "    <tr>\n",
       "      <th>7</th>\n",
       "      <td>DAYS_ENTRY_PAYMENT_sum</td>\n",
       "      <td>0.547302</td>\n",
       "      <td>0.035006</td>\n",
       "      <td>1.00000</td>\n",
       "    </tr>\n",
       "    <tr>\n",
       "      <th>22</th>\n",
       "      <td>DAYS_INSTALMENT_TO_YEARS_sum</td>\n",
       "      <td>0.547019</td>\n",
       "      <td>-0.034848</td>\n",
       "      <td>1.00000</td>\n",
       "    </tr>\n",
       "    <tr>\n",
       "      <th>11</th>\n",
       "      <td>AMT_INSTALMENT_min</td>\n",
       "      <td>0.545428</td>\n",
       "      <td>-0.026874</td>\n",
       "      <td>1.00000</td>\n",
       "    </tr>\n",
       "    <tr>\n",
       "      <th>26</th>\n",
       "      <td>diff_amount_min</td>\n",
       "      <td>0.545218</td>\n",
       "      <td>-0.017921</td>\n",
       "      <td>1.00000</td>\n",
       "    </tr>\n",
       "    <tr>\n",
       "      <th>18</th>\n",
       "      <td>AMT_PAYMENT_mean</td>\n",
       "      <td>0.543799</td>\n",
       "      <td>-0.024303</td>\n",
       "      <td>1.00000</td>\n",
       "    </tr>\n",
       "    <tr>\n",
       "      <th>17</th>\n",
       "      <td>AMT_PAYMENT_sum</td>\n",
       "      <td>0.543127</td>\n",
       "      <td>-0.024649</td>\n",
       "      <td>1.00000</td>\n",
       "    </tr>\n",
       "    <tr>\n",
       "      <th>12</th>\n",
       "      <td>AMT_INSTALMENT_sum</td>\n",
       "      <td>0.537455</td>\n",
       "      <td>-0.020111</td>\n",
       "      <td>1.00000</td>\n",
       "    </tr>\n",
       "    <tr>\n",
       "      <th>2</th>\n",
       "      <td>NUM_INSTALMENT_VERSION_sum</td>\n",
       "      <td>0.536317</td>\n",
       "      <td>-0.027771</td>\n",
       "      <td>1.00000</td>\n",
       "    </tr>\n",
       "    <tr>\n",
       "      <th>13</th>\n",
       "      <td>AMT_INSTALMENT_mean</td>\n",
       "      <td>0.535614</td>\n",
       "      <td>-0.019867</td>\n",
       "      <td>1.00000</td>\n",
       "    </tr>\n",
       "    <tr>\n",
       "      <th>29</th>\n",
       "      <td>diff_amount_std</td>\n",
       "      <td>0.530346</td>\n",
       "      <td>-0.006291</td>\n",
       "      <td>0.99780</td>\n",
       "    </tr>\n",
       "    <tr>\n",
       "      <th>3</th>\n",
       "      <td>NUM_INSTALMENT_VERSION_mean</td>\n",
       "      <td>0.529680</td>\n",
       "      <td>-0.026402</td>\n",
       "      <td>1.00000</td>\n",
       "    </tr>\n",
       "    <tr>\n",
       "      <th>1</th>\n",
       "      <td>NUM_INSTALMENT_VERSION_min</td>\n",
       "      <td>0.525209</td>\n",
       "      <td>-0.032826</td>\n",
       "      <td>1.00000</td>\n",
       "    </tr>\n",
       "    <tr>\n",
       "      <th>15</th>\n",
       "      <td>AMT_PAYMENT_max</td>\n",
       "      <td>0.521918</td>\n",
       "      <td>-0.000289</td>\n",
       "      <td>1.00000</td>\n",
       "    </tr>\n",
       "    <tr>\n",
       "      <th>10</th>\n",
       "      <td>AMT_INSTALMENT_max</td>\n",
       "      <td>0.521414</td>\n",
       "      <td>0.000347</td>\n",
       "      <td>1.00000</td>\n",
       "    </tr>\n",
       "    <tr>\n",
       "      <th>25</th>\n",
       "      <td>diff_amount_max</td>\n",
       "      <td>0.512782</td>\n",
       "      <td>-0.010877</td>\n",
       "      <td>1.00000</td>\n",
       "    </tr>\n",
       "    <tr>\n",
       "      <th>14</th>\n",
       "      <td>AMT_INSTALMENT_std</td>\n",
       "      <td>0.512364</td>\n",
       "      <td>0.000443</td>\n",
       "      <td>0.99780</td>\n",
       "    </tr>\n",
       "    <tr>\n",
       "      <th>0</th>\n",
       "      <td>NUM_INSTALMENT_VERSION_max</td>\n",
       "      <td>0.512046</td>\n",
       "      <td>-0.017149</td>\n",
       "      <td>1.00000</td>\n",
       "    </tr>\n",
       "    <tr>\n",
       "      <th>4</th>\n",
       "      <td>NUM_INSTALMENT_VERSION_std</td>\n",
       "      <td>0.509332</td>\n",
       "      <td>-0.008300</td>\n",
       "      <td>0.99780</td>\n",
       "    </tr>\n",
       "    <tr>\n",
       "      <th>5</th>\n",
       "      <td>DAYS_ENTRY_PAYMENT_max</td>\n",
       "      <td>0.508679</td>\n",
       "      <td>-0.004750</td>\n",
       "      <td>0.99999</td>\n",
       "    </tr>\n",
       "    <tr>\n",
       "      <th>19</th>\n",
       "      <td>AMT_PAYMENT_std</td>\n",
       "      <td>0.506952</td>\n",
       "      <td>-0.000762</td>\n",
       "      <td>0.99780</td>\n",
       "    </tr>\n",
       "    <tr>\n",
       "      <th>21</th>\n",
       "      <td>DAYS_INSTALMENT_TO_YEARS_min</td>\n",
       "      <td>0.502330</td>\n",
       "      <td>0.005709</td>\n",
       "      <td>1.00000</td>\n",
       "    </tr>\n",
       "  </tbody>\n",
       "</table>\n",
       "</div>"
      ],
      "text/plain": [
       "                             name       auc      corr  coverage\n",
       "24   DAYS_INSTALMENT_TO_YEARS_std  0.560559 -0.058563   0.99780\n",
       "16                AMT_PAYMENT_min  0.559816 -0.034918   1.00000\n",
       "9          DAYS_ENTRY_PAYMENT_std  0.559707 -0.058018   0.99780\n",
       "6          DAYS_ENTRY_PAYMENT_min  0.559318  0.056830   0.99999\n",
       "20   DAYS_INSTALMENT_TO_YEARS_max  0.559081 -0.056656   1.00000\n",
       "28               diff_amount_mean  0.558098 -0.027115   1.00000\n",
       "8         DAYS_ENTRY_PAYMENT_mean  0.554308  0.043182   0.99999\n",
       "23  DAYS_INSTALMENT_TO_YEARS_mean  0.553610 -0.042686   1.00000\n",
       "27                diff_amount_sum  0.551073 -0.027672   1.00000\n",
       "7          DAYS_ENTRY_PAYMENT_sum  0.547302  0.035006   1.00000\n",
       "22   DAYS_INSTALMENT_TO_YEARS_sum  0.547019 -0.034848   1.00000\n",
       "11             AMT_INSTALMENT_min  0.545428 -0.026874   1.00000\n",
       "26                diff_amount_min  0.545218 -0.017921   1.00000\n",
       "18               AMT_PAYMENT_mean  0.543799 -0.024303   1.00000\n",
       "17                AMT_PAYMENT_sum  0.543127 -0.024649   1.00000\n",
       "12             AMT_INSTALMENT_sum  0.537455 -0.020111   1.00000\n",
       "2      NUM_INSTALMENT_VERSION_sum  0.536317 -0.027771   1.00000\n",
       "13            AMT_INSTALMENT_mean  0.535614 -0.019867   1.00000\n",
       "29                diff_amount_std  0.530346 -0.006291   0.99780\n",
       "3     NUM_INSTALMENT_VERSION_mean  0.529680 -0.026402   1.00000\n",
       "1      NUM_INSTALMENT_VERSION_min  0.525209 -0.032826   1.00000\n",
       "15                AMT_PAYMENT_max  0.521918 -0.000289   1.00000\n",
       "10             AMT_INSTALMENT_max  0.521414  0.000347   1.00000\n",
       "25                diff_amount_max  0.512782 -0.010877   1.00000\n",
       "14             AMT_INSTALMENT_std  0.512364  0.000443   0.99780\n",
       "0      NUM_INSTALMENT_VERSION_max  0.512046 -0.017149   1.00000\n",
       "4      NUM_INSTALMENT_VERSION_std  0.509332 -0.008300   0.99780\n",
       "5          DAYS_ENTRY_PAYMENT_max  0.508679 -0.004750   0.99999\n",
       "19                AMT_PAYMENT_std  0.506952 -0.000762   0.99780\n",
       "21   DAYS_INSTALMENT_TO_YEARS_min  0.502330  0.005709   1.00000"
      ]
     },
     "execution_count": 19,
     "metadata": {},
     "output_type": "execute_result"
    }
   ],
   "source": [
    "eval_agg03"
   ]
  },
  {
   "cell_type": "markdown",
   "metadata": {},
   "source": [
    "Save features"
   ]
  },
  {
   "cell_type": "code",
   "execution_count": 20,
   "metadata": {},
   "outputs": [
    {
     "name": "stdout",
     "output_type": "stream",
     "text": [
      "(180733, 35)\n"
     ]
    }
   ],
   "source": [
    "# Kết hợp các đặc trưng từ pdf_agg02 và pdf_agg03 để tạo pdf_feat\n",
    "pdf_feat = pdf_agg02.join(pdf_agg03)\n",
    "\n",
    "print(pdf_feat.shape)"
   ]
  },
  {
   "cell_type": "code",
   "execution_count": 21,
   "metadata": {},
   "outputs": [
    {
     "name": "stdout",
     "output_type": "stream",
     "text": [
      "Lưu trữ các đặc trưng đã hoàn thành!\n"
     ]
    }
   ],
   "source": [
    "# Xác định tên tệp tin dựa trên biến fname\n",
    "fname = \"installments_payments\"\n",
    "\n",
    "# Tạo đường dẫn tệp tin sử dụng os.path.join và định dạng tên tệp\n",
    "fname = os.path.join(\"features\", \"{}.pkl.bz2\".format(fname))\n",
    "\n",
    "# Lưu DataFrame pdf_feat vào tệp tin đã được xây dựng\n",
    "pdf_feat.to_pickle(fname, compression=\"bz2\")\n",
    "\n",
    "# In thông báo khi lưu trữ đặc trưng đã hoàn thành\n",
    "print(\"Lưu trữ các đặc trưng đã hoàn thành!\")\n"
   ]
  }
 ],
 "metadata": {
  "kernelspec": {
   "display_name": "Python 3 (ipykernel)",
   "language": "python",
   "name": "python3"
  },
  "language_info": {
   "codemirror_mode": {
    "name": "ipython",
    "version": 3
   },
   "file_extension": ".py",
   "mimetype": "text/x-python",
   "name": "python",
   "nbconvert_exporter": "python",
   "pygments_lexer": "ipython3",
   "version": "3.9.13"
  }
 },
 "nbformat": 4,
 "nbformat_minor": 2
}
