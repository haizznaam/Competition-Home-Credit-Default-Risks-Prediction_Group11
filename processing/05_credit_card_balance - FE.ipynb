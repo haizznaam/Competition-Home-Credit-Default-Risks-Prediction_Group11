{
 "cells": [
  {
   "cell_type": "code",
   "execution_count": 1,
   "metadata": {},
   "outputs": [],
   "source": [
    "import os\n",
    "import math\n",
    "import subprocess\n",
    "import pandas as pd\n",
    "import numpy as np\n",
    "import matplotlib.pyplot as plt\n",
    "from sklearn.model_selection import train_test_split\n",
    "from utils_feature_engineering import *"
   ]
  },
  {
   "cell_type": "markdown",
   "metadata": {},
   "source": [
    "#### Load data"
   ]
  },
  {
   "cell_type": "code",
   "execution_count": 2,
   "metadata": {},
   "outputs": [],
   "source": [
    "# path\n",
    "path = 'DATA RAW'\n",
    "# application_train\n",
    "application_train_path = f'../{path}/dseb63_application_train.csv'\n",
    "application_train = pd.read_csv(application_train_path)\n",
    "application_train.drop(columns='Unnamed: 0', inplace=True)\n",
    "\n",
    "# application_test\n",
    "application_test_path = f'../{path}/dseb63_application_test.csv'\n",
    "application_test = pd.read_csv(application_test_path)\n",
    "application_test.drop(columns='Unnamed: 0', inplace=True)\n"
   ]
  },
  {
   "cell_type": "markdown",
   "metadata": {},
   "source": [
    "##### Load train + tvt = train_filtered for features evaluation\n",
    "##### Load train/test for applying mean encoding"
   ]
  },
  {
   "cell_type": "code",
   "execution_count": 3,
   "metadata": {},
   "outputs": [
    {
     "data": {
      "text/html": [
       "<div>\n",
       "<style scoped>\n",
       "    .dataframe tbody tr th:only-of-type {\n",
       "        vertical-align: middle;\n",
       "    }\n",
       "\n",
       "    .dataframe tbody tr th {\n",
       "        vertical-align: top;\n",
       "    }\n",
       "\n",
       "    .dataframe thead th {\n",
       "        text-align: right;\n",
       "    }\n",
       "</style>\n",
       "<table border=\"1\" class=\"dataframe\">\n",
       "  <thead>\n",
       "    <tr style=\"text-align: right;\">\n",
       "      <th></th>\n",
       "      <th>SK_ID_CURR</th>\n",
       "      <th>TARGET</th>\n",
       "    </tr>\n",
       "  </thead>\n",
       "  <tbody>\n",
       "    <tr>\n",
       "      <th>0</th>\n",
       "      <td>278621</td>\n",
       "      <td>0</td>\n",
       "    </tr>\n",
       "    <tr>\n",
       "      <th>1</th>\n",
       "      <td>139008</td>\n",
       "      <td>0</td>\n",
       "    </tr>\n",
       "    <tr>\n",
       "      <th>2</th>\n",
       "      <td>138348</td>\n",
       "      <td>0</td>\n",
       "    </tr>\n",
       "    <tr>\n",
       "      <th>3</th>\n",
       "      <td>53466</td>\n",
       "      <td>0</td>\n",
       "    </tr>\n",
       "    <tr>\n",
       "      <th>4</th>\n",
       "      <td>27272</td>\n",
       "      <td>0</td>\n",
       "    </tr>\n",
       "  </tbody>\n",
       "</table>\n",
       "</div>"
      ],
      "text/plain": [
       "   SK_ID_CURR  TARGET\n",
       "0      278621       0\n",
       "1      139008       0\n",
       "2      138348       0\n",
       "3       53466       0\n",
       "4       27272       0"
      ]
     },
     "execution_count": 3,
     "metadata": {},
     "output_type": "execute_result"
    }
   ],
   "source": [
    "# filter by tvt code\n",
    "pdf_tvt_extend = pd.read_pickle(\"pdf_tvt_extend.pkl\", compression=\"bz2\")\n",
    "application_train_filtered = (pdf_tvt_extend.query(\"tvt_code == 'train'\")\n",
    "                      .merge(application_train[[\"SK_ID_CURR\"]], on=\"SK_ID_CURR\")\n",
    "                      .drop(columns=[\"tvt_code\"]))\n",
    "application_train_filtered.head()\n",
    "\n",
    "# Chỉ giữ lại cột SK_ID_CURR và biến target\n",
    "# application_train_filtered = application_train[['SK_ID_CURR', 'TARGET']]\n",
    "# application_train_filtered"
   ]
  },
  {
   "cell_type": "code",
   "execution_count": 4,
   "metadata": {},
   "outputs": [
    {
     "data": {
      "text/html": [
       "<div>\n",
       "<style scoped>\n",
       "    .dataframe tbody tr th:only-of-type {\n",
       "        vertical-align: middle;\n",
       "    }\n",
       "\n",
       "    .dataframe tbody tr th {\n",
       "        vertical-align: top;\n",
       "    }\n",
       "\n",
       "    .dataframe thead th {\n",
       "        text-align: right;\n",
       "    }\n",
       "</style>\n",
       "<table border=\"1\" class=\"dataframe\">\n",
       "  <thead>\n",
       "    <tr style=\"text-align: right;\">\n",
       "      <th></th>\n",
       "      <th>SK_ID_PREV</th>\n",
       "      <th>MONTHS_BALANCE</th>\n",
       "      <th>AMT_BALANCE</th>\n",
       "      <th>AMT_CREDIT_LIMIT_ACTUAL</th>\n",
       "      <th>AMT_DRAWINGS_ATM_CURRENT</th>\n",
       "      <th>AMT_DRAWINGS_CURRENT</th>\n",
       "      <th>AMT_DRAWINGS_OTHER_CURRENT</th>\n",
       "      <th>AMT_DRAWINGS_POS_CURRENT</th>\n",
       "      <th>AMT_INST_MIN_REGULARITY</th>\n",
       "      <th>AMT_PAYMENT_CURRENT</th>\n",
       "      <th>...</th>\n",
       "      <th>AMT_TOTAL_RECEIVABLE</th>\n",
       "      <th>CNT_DRAWINGS_ATM_CURRENT</th>\n",
       "      <th>CNT_DRAWINGS_CURRENT</th>\n",
       "      <th>CNT_DRAWINGS_OTHER_CURRENT</th>\n",
       "      <th>CNT_DRAWINGS_POS_CURRENT</th>\n",
       "      <th>CNT_INSTALMENT_MATURE_CUM</th>\n",
       "      <th>NAME_CONTRACT_STATUS</th>\n",
       "      <th>SK_DPD</th>\n",
       "      <th>SK_DPD_DEF</th>\n",
       "      <th>SK_ID_CURR</th>\n",
       "    </tr>\n",
       "  </thead>\n",
       "  <tbody>\n",
       "    <tr>\n",
       "      <th>0</th>\n",
       "      <td>2582071</td>\n",
       "      <td>-1</td>\n",
       "      <td>63975.555</td>\n",
       "      <td>45000</td>\n",
       "      <td>2250.0</td>\n",
       "      <td>2250.0</td>\n",
       "      <td>0.0</td>\n",
       "      <td>0.0</td>\n",
       "      <td>2250.0</td>\n",
       "      <td>2250.0</td>\n",
       "      <td>...</td>\n",
       "      <td>64875.555</td>\n",
       "      <td>1.0</td>\n",
       "      <td>1</td>\n",
       "      <td>0.0</td>\n",
       "      <td>0.0</td>\n",
       "      <td>69.0</td>\n",
       "      <td>Active</td>\n",
       "      <td>0</td>\n",
       "      <td>0</td>\n",
       "      <td>87788</td>\n",
       "    </tr>\n",
       "    <tr>\n",
       "      <th>1</th>\n",
       "      <td>2582071</td>\n",
       "      <td>-82</td>\n",
       "      <td>16809.210</td>\n",
       "      <td>67500</td>\n",
       "      <td>0.0</td>\n",
       "      <td>0.0</td>\n",
       "      <td>0.0</td>\n",
       "      <td>0.0</td>\n",
       "      <td>3375.0</td>\n",
       "      <td>9000.0</td>\n",
       "      <td>...</td>\n",
       "      <td>16809.210</td>\n",
       "      <td>0.0</td>\n",
       "      <td>0</td>\n",
       "      <td>0.0</td>\n",
       "      <td>0.0</td>\n",
       "      <td>18.0</td>\n",
       "      <td>Active</td>\n",
       "      <td>0</td>\n",
       "      <td>0</td>\n",
       "      <td>87788</td>\n",
       "    </tr>\n",
       "    <tr>\n",
       "      <th>2</th>\n",
       "      <td>2582071</td>\n",
       "      <td>-84</td>\n",
       "      <td>27577.890</td>\n",
       "      <td>67500</td>\n",
       "      <td>0.0</td>\n",
       "      <td>0.0</td>\n",
       "      <td>0.0</td>\n",
       "      <td>0.0</td>\n",
       "      <td>3375.0</td>\n",
       "      <td>4500.0</td>\n",
       "      <td>...</td>\n",
       "      <td>27577.890</td>\n",
       "      <td>0.0</td>\n",
       "      <td>0</td>\n",
       "      <td>0.0</td>\n",
       "      <td>0.0</td>\n",
       "      <td>16.0</td>\n",
       "      <td>Active</td>\n",
       "      <td>0</td>\n",
       "      <td>0</td>\n",
       "      <td>87788</td>\n",
       "    </tr>\n",
       "    <tr>\n",
       "      <th>3</th>\n",
       "      <td>2582071</td>\n",
       "      <td>-7</td>\n",
       "      <td>65159.235</td>\n",
       "      <td>45000</td>\n",
       "      <td>0.0</td>\n",
       "      <td>0.0</td>\n",
       "      <td>0.0</td>\n",
       "      <td>0.0</td>\n",
       "      <td>2250.0</td>\n",
       "      <td>2250.0</td>\n",
       "      <td>...</td>\n",
       "      <td>65609.235</td>\n",
       "      <td>0.0</td>\n",
       "      <td>0</td>\n",
       "      <td>0.0</td>\n",
       "      <td>0.0</td>\n",
       "      <td>63.0</td>\n",
       "      <td>Active</td>\n",
       "      <td>0</td>\n",
       "      <td>0</td>\n",
       "      <td>87788</td>\n",
       "    </tr>\n",
       "    <tr>\n",
       "      <th>4</th>\n",
       "      <td>2582071</td>\n",
       "      <td>-59</td>\n",
       "      <td>70475.850</td>\n",
       "      <td>67500</td>\n",
       "      <td>24750.0</td>\n",
       "      <td>24750.0</td>\n",
       "      <td>0.0</td>\n",
       "      <td>0.0</td>\n",
       "      <td>3375.0</td>\n",
       "      <td>4500.0</td>\n",
       "      <td>...</td>\n",
       "      <td>70475.850</td>\n",
       "      <td>4.0</td>\n",
       "      <td>4</td>\n",
       "      <td>0.0</td>\n",
       "      <td>0.0</td>\n",
       "      <td>41.0</td>\n",
       "      <td>Active</td>\n",
       "      <td>0</td>\n",
       "      <td>0</td>\n",
       "      <td>87788</td>\n",
       "    </tr>\n",
       "  </tbody>\n",
       "</table>\n",
       "<p>5 rows × 23 columns</p>\n",
       "</div>"
      ],
      "text/plain": [
       "   SK_ID_PREV  MONTHS_BALANCE  AMT_BALANCE  AMT_CREDIT_LIMIT_ACTUAL  \\\n",
       "0     2582071              -1    63975.555                    45000   \n",
       "1     2582071             -82    16809.210                    67500   \n",
       "2     2582071             -84    27577.890                    67500   \n",
       "3     2582071              -7    65159.235                    45000   \n",
       "4     2582071             -59    70475.850                    67500   \n",
       "\n",
       "   AMT_DRAWINGS_ATM_CURRENT  AMT_DRAWINGS_CURRENT  AMT_DRAWINGS_OTHER_CURRENT  \\\n",
       "0                    2250.0                2250.0                         0.0   \n",
       "1                       0.0                   0.0                         0.0   \n",
       "2                       0.0                   0.0                         0.0   \n",
       "3                       0.0                   0.0                         0.0   \n",
       "4                   24750.0               24750.0                         0.0   \n",
       "\n",
       "   AMT_DRAWINGS_POS_CURRENT  AMT_INST_MIN_REGULARITY  AMT_PAYMENT_CURRENT  \\\n",
       "0                       0.0                   2250.0               2250.0   \n",
       "1                       0.0                   3375.0               9000.0   \n",
       "2                       0.0                   3375.0               4500.0   \n",
       "3                       0.0                   2250.0               2250.0   \n",
       "4                       0.0                   3375.0               4500.0   \n",
       "\n",
       "   ...  AMT_TOTAL_RECEIVABLE  CNT_DRAWINGS_ATM_CURRENT  CNT_DRAWINGS_CURRENT  \\\n",
       "0  ...             64875.555                       1.0                     1   \n",
       "1  ...             16809.210                       0.0                     0   \n",
       "2  ...             27577.890                       0.0                     0   \n",
       "3  ...             65609.235                       0.0                     0   \n",
       "4  ...             70475.850                       4.0                     4   \n",
       "\n",
       "   CNT_DRAWINGS_OTHER_CURRENT  CNT_DRAWINGS_POS_CURRENT  \\\n",
       "0                         0.0                       0.0   \n",
       "1                         0.0                       0.0   \n",
       "2                         0.0                       0.0   \n",
       "3                         0.0                       0.0   \n",
       "4                         0.0                       0.0   \n",
       "\n",
       "   CNT_INSTALMENT_MATURE_CUM  NAME_CONTRACT_STATUS  SK_DPD  SK_DPD_DEF  \\\n",
       "0                       69.0                Active       0           0   \n",
       "1                       18.0                Active       0           0   \n",
       "2                       16.0                Active       0           0   \n",
       "3                       63.0                Active       0           0   \n",
       "4                       41.0                Active       0           0   \n",
       "\n",
       "  SK_ID_CURR  \n",
       "0      87788  \n",
       "1      87788  \n",
       "2      87788  \n",
       "3      87788  \n",
       "4      87788  \n",
       "\n",
       "[5 rows x 23 columns]"
      ]
     },
     "execution_count": 4,
     "metadata": {},
     "output_type": "execute_result"
    }
   ],
   "source": [
    "# credit_card_balance \n",
    "credit_card_balance_path = f'../{path}/dseb63_credit_card_balance.csv'\n",
    "credit_card_balance = pd.read_csv(f'../{path}/dseb63_credit_card_balance.csv')\n",
    "credit_card_balance.head()"
   ]
  },
  {
   "cell_type": "markdown",
   "metadata": {},
   "source": [
    "#### Preprocessing data"
   ]
  },
  {
   "cell_type": "markdown",
   "metadata": {},
   "source": [
    "##### Handling SK_DPD & SK_DPD_DEF colums"
   ]
  },
  {
   "cell_type": "code",
   "execution_count": 5,
   "metadata": {},
   "outputs": [],
   "source": [
    "# Create the \"is_DPD\" column based on the condition \"SK_DPD > 0\"\n",
    "credit_card_balance[\"is_DPD\"] = (credit_card_balance[\"SK_DPD\"] > 0).astype('int64')\n",
    "\n",
    "# Create the \"is_DPD_DEF\" column based on the condition \"SK_DPD_DEF > 0\"\n",
    "credit_card_balance[\"is_DPD_DEF\"] = (credit_card_balance[\"SK_DPD_DEF\"] > 0).astype('int64')\n",
    "\n",
    "# Remove the \"SK_DPD\" and \"SK_DPD_DEF\" columns from the DataFrame\n",
    "credit_card_balance.drop(columns=[\"SK_DPD\", \"SK_DPD_DEF\"], inplace=True)"
   ]
  },
  {
   "cell_type": "code",
   "execution_count": 6,
   "metadata": {},
   "outputs": [
    {
     "data": {
      "text/plain": [
       "AMT_PAYMENT_CURRENT           620093\n",
       "AMT_DRAWINGS_ATM_CURRENT      605754\n",
       "AMT_DRAWINGS_OTHER_CURRENT    605754\n",
       "AMT_DRAWINGS_POS_CURRENT      605754\n",
       "CNT_DRAWINGS_ATM_CURRENT      605754\n",
       "CNT_DRAWINGS_OTHER_CURRENT    605754\n",
       "CNT_DRAWINGS_POS_CURRENT      605754\n",
       "AMT_INST_MIN_REGULARITY       264384\n",
       "CNT_INSTALMENT_MATURE_CUM     264384\n",
       "dtype: int64"
      ]
     },
     "execution_count": 6,
     "metadata": {},
     "output_type": "execute_result"
    }
   ],
   "source": [
    "null_cols = credit_card_balance.isnull().sum()\n",
    "null_cols[null_cols>0].sort_values(ascending=False)"
   ]
  },
  {
   "cell_type": "code",
   "execution_count": 7,
   "metadata": {},
   "outputs": [],
   "source": [
    "credit_card_balance.fillna(0, inplace=True)"
   ]
  },
  {
   "cell_type": "code",
   "execution_count": 8,
   "metadata": {},
   "outputs": [
    {
     "data": {
      "text/plain": [
       "SK_ID_PREV                    0\n",
       "MONTHS_BALANCE                0\n",
       "AMT_BALANCE                   0\n",
       "AMT_CREDIT_LIMIT_ACTUAL       0\n",
       "AMT_DRAWINGS_ATM_CURRENT      0\n",
       "AMT_DRAWINGS_CURRENT          0\n",
       "AMT_DRAWINGS_OTHER_CURRENT    0\n",
       "AMT_DRAWINGS_POS_CURRENT      0\n",
       "AMT_INST_MIN_REGULARITY       0\n",
       "AMT_PAYMENT_CURRENT           0\n",
       "AMT_PAYMENT_TOTAL_CURRENT     0\n",
       "AMT_RECEIVABLE_PRINCIPAL      0\n",
       "AMT_RECIVABLE                 0\n",
       "AMT_TOTAL_RECEIVABLE          0\n",
       "CNT_DRAWINGS_ATM_CURRENT      0\n",
       "CNT_DRAWINGS_CURRENT          0\n",
       "CNT_DRAWINGS_OTHER_CURRENT    0\n",
       "CNT_DRAWINGS_POS_CURRENT      0\n",
       "CNT_INSTALMENT_MATURE_CUM     0\n",
       "NAME_CONTRACT_STATUS          0\n",
       "SK_ID_CURR                    0\n",
       "is_DPD                        0\n",
       "is_DPD_DEF                    0\n",
       "dtype: int64"
      ]
     },
     "execution_count": 8,
     "metadata": {},
     "output_type": "execute_result"
    }
   ],
   "source": [
    "credit_card_balance.isnull().sum()"
   ]
  },
  {
   "cell_type": "markdown",
   "metadata": {},
   "source": [
    "#### Categorical features"
   ]
  },
  {
   "cell_type": "code",
   "execution_count": 9,
   "metadata": {},
   "outputs": [
    {
     "data": {
      "text/plain": [
       "['NAME_CONTRACT_STATUS']"
      ]
     },
     "execution_count": 9,
     "metadata": {},
     "output_type": "execute_result"
    }
   ],
   "source": [
    "# Get the list of categorical columns\n",
    "series_type = credit_card_balance.dtypes\n",
    "list_categorical = series_type[series_type == \"object\"].index.tolist()\n",
    "list_categorical\n"
   ]
  },
  {
   "cell_type": "code",
   "execution_count": 10,
   "metadata": {},
   "outputs": [],
   "source": [
    "# construct categorical mapping\n",
    "dict_onehot = {}\n",
    "for cate in list_categorical:\n",
    "    list_val = credit_card_balance[cate].value_counts().index.tolist()\n",
    "    dict_onehot[cate] = list_val"
   ]
  },
  {
   "cell_type": "code",
   "execution_count": 11,
   "metadata": {},
   "outputs": [
    {
     "data": {
      "text/plain": [
       "{'NAME_CONTRACT_STATUS': ['Active',\n",
       "  'Completed',\n",
       "  'Signed',\n",
       "  'Demand',\n",
       "  'Sent proposal',\n",
       "  'Refused',\n",
       "  'Approved']}"
      ]
     },
     "execution_count": 11,
     "metadata": {},
     "output_type": "execute_result"
    }
   ],
   "source": [
    "dict_onehot"
   ]
  },
  {
   "cell_type": "code",
   "execution_count": 12,
   "metadata": {},
   "outputs": [
    {
     "name": "stdout",
     "output_type": "stream",
     "text": [
      "(3227965, 8)\n"
     ]
    }
   ],
   "source": [
    "# Create one-hot encoded features from the credit_card_balance DataFrame\n",
    "pdf_onehot = gen_one_hot_feat(credit_card_balance, dict_onehot, main_key=\"SK_ID_CURR\")\n",
    "print(pdf_onehot.shape)"
   ]
  },
  {
   "cell_type": "code",
   "execution_count": 13,
   "metadata": {},
   "outputs": [
    {
     "data": {
      "text/plain": [
       "{'NAME_CONTRACT_STATUS_Active': ['max', 'sum', 'mean'],\n",
       " 'NAME_CONTRACT_STATUS_Completed': ['max', 'sum', 'mean'],\n",
       " 'NAME_CONTRACT_STATUS_Signed': ['max', 'sum', 'mean'],\n",
       " 'NAME_CONTRACT_STATUS_Demand': ['max', 'sum', 'mean'],\n",
       " 'NAME_CONTRACT_STATUS_Sent_proposal': ['max', 'sum', 'mean'],\n",
       " 'NAME_CONTRACT_STATUS_Refused': ['max', 'sum', 'mean'],\n",
       " 'NAME_CONTRACT_STATUS_Approved': ['max', 'sum', 'mean']}"
      ]
     },
     "metadata": {},
     "output_type": "display_data"
    },
    {
     "name": "stdout",
     "output_type": "stream",
     "text": [
      "After agg: (86905, 21)\n"
     ]
    }
   ],
   "source": [
    "# Aggregate data\n",
    "pdf_agg01 = agg_common_data(pdf_onehot, [\"max\", \"sum\", \"mean\"], main_key=\"SK_ID_CURR\")\n",
    "\n",
    "# Evaluate features of the aggregated data and save the results in the eval_agg01 variable\n",
    "eval_agg01 = feature_evaluate(application_train_filtered, pdf_agg01)"
   ]
  },
  {
   "cell_type": "code",
   "execution_count": 14,
   "metadata": {},
   "outputs": [
    {
     "data": {
      "text/html": [
       "<div>\n",
       "<style scoped>\n",
       "    .dataframe tbody tr th:only-of-type {\n",
       "        vertical-align: middle;\n",
       "    }\n",
       "\n",
       "    .dataframe tbody tr th {\n",
       "        vertical-align: top;\n",
       "    }\n",
       "\n",
       "    .dataframe thead th {\n",
       "        text-align: right;\n",
       "    }\n",
       "</style>\n",
       "<table border=\"1\" class=\"dataframe\">\n",
       "  <thead>\n",
       "    <tr style=\"text-align: right;\">\n",
       "      <th></th>\n",
       "      <th>name</th>\n",
       "      <th>auc</th>\n",
       "      <th>corr</th>\n",
       "      <th>coverage</th>\n",
       "    </tr>\n",
       "  </thead>\n",
       "  <tbody>\n",
       "    <tr>\n",
       "      <th>1</th>\n",
       "      <td>NAME_CONTRACT_STATUS_Active_sum</td>\n",
       "      <td>0.554349</td>\n",
       "      <td>-0.057989</td>\n",
       "      <td>1.0</td>\n",
       "    </tr>\n",
       "    <tr>\n",
       "      <th>2</th>\n",
       "      <td>NAME_CONTRACT_STATUS_Active_mean</td>\n",
       "      <td>0.518745</td>\n",
       "      <td>0.023592</td>\n",
       "      <td>1.0</td>\n",
       "    </tr>\n",
       "    <tr>\n",
       "      <th>5</th>\n",
       "      <td>NAME_CONTRACT_STATUS_Completed_mean</td>\n",
       "      <td>0.516364</td>\n",
       "      <td>-0.026312</td>\n",
       "      <td>1.0</td>\n",
       "    </tr>\n",
       "    <tr>\n",
       "      <th>4</th>\n",
       "      <td>NAME_CONTRACT_STATUS_Completed_sum</td>\n",
       "      <td>0.516303</td>\n",
       "      <td>-0.023113</td>\n",
       "      <td>1.0</td>\n",
       "    </tr>\n",
       "    <tr>\n",
       "      <th>3</th>\n",
       "      <td>NAME_CONTRACT_STATUS_Completed_max</td>\n",
       "      <td>0.516067</td>\n",
       "      <td>-0.027396</td>\n",
       "      <td>1.0</td>\n",
       "    </tr>\n",
       "    <tr>\n",
       "      <th>7</th>\n",
       "      <td>NAME_CONTRACT_STATUS_Signed_sum</td>\n",
       "      <td>0.502535</td>\n",
       "      <td>-0.000976</td>\n",
       "      <td>1.0</td>\n",
       "    </tr>\n",
       "    <tr>\n",
       "      <th>6</th>\n",
       "      <td>NAME_CONTRACT_STATUS_Signed_max</td>\n",
       "      <td>0.502471</td>\n",
       "      <td>-0.006397</td>\n",
       "      <td>1.0</td>\n",
       "    </tr>\n",
       "    <tr>\n",
       "      <th>8</th>\n",
       "      <td>NAME_CONTRACT_STATUS_Signed_mean</td>\n",
       "      <td>0.502335</td>\n",
       "      <td>0.004075</td>\n",
       "      <td>1.0</td>\n",
       "    </tr>\n",
       "    <tr>\n",
       "      <th>14</th>\n",
       "      <td>NAME_CONTRACT_STATUS_Sent_proposal_mean</td>\n",
       "      <td>0.501365</td>\n",
       "      <td>-0.011336</td>\n",
       "      <td>1.0</td>\n",
       "    </tr>\n",
       "    <tr>\n",
       "      <th>12</th>\n",
       "      <td>NAME_CONTRACT_STATUS_Sent_proposal_max</td>\n",
       "      <td>0.501362</td>\n",
       "      <td>-0.010759</td>\n",
       "      <td>1.0</td>\n",
       "    </tr>\n",
       "    <tr>\n",
       "      <th>13</th>\n",
       "      <td>NAME_CONTRACT_STATUS_Sent_proposal_sum</td>\n",
       "      <td>0.501362</td>\n",
       "      <td>-0.010759</td>\n",
       "      <td>1.0</td>\n",
       "    </tr>\n",
       "    <tr>\n",
       "      <th>0</th>\n",
       "      <td>NAME_CONTRACT_STATUS_Active_max</td>\n",
       "      <td>0.500147</td>\n",
       "      <td>0.002646</td>\n",
       "      <td>1.0</td>\n",
       "    </tr>\n",
       "    <tr>\n",
       "      <th>15</th>\n",
       "      <td>NAME_CONTRACT_STATUS_Refused_max</td>\n",
       "      <td>0.500078</td>\n",
       "      <td>-0.003665</td>\n",
       "      <td>1.0</td>\n",
       "    </tr>\n",
       "    <tr>\n",
       "      <th>17</th>\n",
       "      <td>NAME_CONTRACT_STATUS_Refused_mean</td>\n",
       "      <td>0.500078</td>\n",
       "      <td>-0.003657</td>\n",
       "      <td>1.0</td>\n",
       "    </tr>\n",
       "    <tr>\n",
       "      <th>16</th>\n",
       "      <td>NAME_CONTRACT_STATUS_Refused_sum</td>\n",
       "      <td>0.500078</td>\n",
       "      <td>-0.003665</td>\n",
       "      <td>1.0</td>\n",
       "    </tr>\n",
       "    <tr>\n",
       "      <th>10</th>\n",
       "      <td>NAME_CONTRACT_STATUS_Demand_sum</td>\n",
       "      <td>0.500051</td>\n",
       "      <td>0.004270</td>\n",
       "      <td>1.0</td>\n",
       "    </tr>\n",
       "    <tr>\n",
       "      <th>11</th>\n",
       "      <td>NAME_CONTRACT_STATUS_Demand_mean</td>\n",
       "      <td>0.500051</td>\n",
       "      <td>0.003068</td>\n",
       "      <td>1.0</td>\n",
       "    </tr>\n",
       "    <tr>\n",
       "      <th>9</th>\n",
       "      <td>NAME_CONTRACT_STATUS_Demand_max</td>\n",
       "      <td>0.500051</td>\n",
       "      <td>0.002403</td>\n",
       "      <td>1.0</td>\n",
       "    </tr>\n",
       "    <tr>\n",
       "      <th>18</th>\n",
       "      <td>NAME_CONTRACT_STATUS_Approved_max</td>\n",
       "      <td>0.500033</td>\n",
       "      <td>-0.002399</td>\n",
       "      <td>1.0</td>\n",
       "    </tr>\n",
       "    <tr>\n",
       "      <th>19</th>\n",
       "      <td>NAME_CONTRACT_STATUS_Approved_sum</td>\n",
       "      <td>0.500033</td>\n",
       "      <td>-0.002399</td>\n",
       "      <td>1.0</td>\n",
       "    </tr>\n",
       "    <tr>\n",
       "      <th>20</th>\n",
       "      <td>NAME_CONTRACT_STATUS_Approved_mean</td>\n",
       "      <td>0.500033</td>\n",
       "      <td>-0.002397</td>\n",
       "      <td>1.0</td>\n",
       "    </tr>\n",
       "  </tbody>\n",
       "</table>\n",
       "</div>"
      ],
      "text/plain": [
       "                                       name       auc      corr  coverage\n",
       "1           NAME_CONTRACT_STATUS_Active_sum  0.554349 -0.057989       1.0\n",
       "2          NAME_CONTRACT_STATUS_Active_mean  0.518745  0.023592       1.0\n",
       "5       NAME_CONTRACT_STATUS_Completed_mean  0.516364 -0.026312       1.0\n",
       "4        NAME_CONTRACT_STATUS_Completed_sum  0.516303 -0.023113       1.0\n",
       "3        NAME_CONTRACT_STATUS_Completed_max  0.516067 -0.027396       1.0\n",
       "7           NAME_CONTRACT_STATUS_Signed_sum  0.502535 -0.000976       1.0\n",
       "6           NAME_CONTRACT_STATUS_Signed_max  0.502471 -0.006397       1.0\n",
       "8          NAME_CONTRACT_STATUS_Signed_mean  0.502335  0.004075       1.0\n",
       "14  NAME_CONTRACT_STATUS_Sent_proposal_mean  0.501365 -0.011336       1.0\n",
       "12   NAME_CONTRACT_STATUS_Sent_proposal_max  0.501362 -0.010759       1.0\n",
       "13   NAME_CONTRACT_STATUS_Sent_proposal_sum  0.501362 -0.010759       1.0\n",
       "0           NAME_CONTRACT_STATUS_Active_max  0.500147  0.002646       1.0\n",
       "15         NAME_CONTRACT_STATUS_Refused_max  0.500078 -0.003665       1.0\n",
       "17        NAME_CONTRACT_STATUS_Refused_mean  0.500078 -0.003657       1.0\n",
       "16         NAME_CONTRACT_STATUS_Refused_sum  0.500078 -0.003665       1.0\n",
       "10          NAME_CONTRACT_STATUS_Demand_sum  0.500051  0.004270       1.0\n",
       "11         NAME_CONTRACT_STATUS_Demand_mean  0.500051  0.003068       1.0\n",
       "9           NAME_CONTRACT_STATUS_Demand_max  0.500051  0.002403       1.0\n",
       "18        NAME_CONTRACT_STATUS_Approved_max  0.500033 -0.002399       1.0\n",
       "19        NAME_CONTRACT_STATUS_Approved_sum  0.500033 -0.002399       1.0\n",
       "20       NAME_CONTRACT_STATUS_Approved_mean  0.500033 -0.002397       1.0"
      ]
     },
     "execution_count": 14,
     "metadata": {},
     "output_type": "execute_result"
    }
   ],
   "source": [
    "eval_agg01"
   ]
  },
  {
   "cell_type": "code",
   "execution_count": 15,
   "metadata": {},
   "outputs": [
    {
     "name": "stdout",
     "output_type": "stream",
     "text": [
      "(10, 4)\n"
     ]
    }
   ],
   "source": [
    "# Filter features with AUC (Area Under the ROC Curve) less than or equal to 0.501 and measure the size of the result\n",
    "filtered_features = eval_agg01.query(\"auc <= 0.501\")\n",
    "print(filtered_features.shape)"
   ]
  },
  {
   "cell_type": "code",
   "execution_count": 16,
   "metadata": {},
   "outputs": [
    {
     "name": "stdout",
     "output_type": "stream",
     "text": [
      "(86905, 11)\n"
     ]
    }
   ],
   "source": [
    "# Select features with AUC (Area Under the ROC Curve) greater than 0.501 from the evaluation result\n",
    "selected_features = eval_agg01.query(\"auc > 0.501\")[\"name\"].tolist()\n",
    "\n",
    "# Filter the pdf_agg01 DataFrame to keep only the selected features\n",
    "pdf_agg01 = pdf_agg01[selected_features]\n",
    "print(pdf_agg01.shape)"
   ]
  },
  {
   "cell_type": "markdown",
   "metadata": {},
   "source": [
    "#### Numerical features"
   ]
  },
  {
   "cell_type": "code",
   "execution_count": 17,
   "metadata": {},
   "outputs": [
    {
     "data": {
      "text/plain": [
       "['MONTHS_BALANCE',\n",
       " 'AMT_CREDIT_LIMIT_ACTUAL',\n",
       " 'CNT_DRAWINGS_CURRENT',\n",
       " 'is_DPD',\n",
       " 'is_DPD_DEF']"
      ]
     },
     "execution_count": 17,
     "metadata": {},
     "output_type": "execute_result"
    }
   ],
   "source": [
    "# get list numerical attributes\n",
    "series_type = credit_card_balance.dtypes\n",
    "ls_num = series_type[series_type == \"int64\"].index.tolist()\n",
    "ls_num = [col for col in ls_num if col not in [\"SK_ID_PREV\", \"SK_ID_CURR\"]]\n",
    "ls_num"
   ]
  },
  {
   "cell_type": "code",
   "execution_count": 18,
   "metadata": {},
   "outputs": [
    {
     "data": {
      "text/html": [
       "<div>\n",
       "<style scoped>\n",
       "    .dataframe tbody tr th:only-of-type {\n",
       "        vertical-align: middle;\n",
       "    }\n",
       "\n",
       "    .dataframe tbody tr th {\n",
       "        vertical-align: top;\n",
       "    }\n",
       "\n",
       "    .dataframe thead th {\n",
       "        text-align: right;\n",
       "    }\n",
       "</style>\n",
       "<table border=\"1\" class=\"dataframe\">\n",
       "  <thead>\n",
       "    <tr style=\"text-align: right;\">\n",
       "      <th></th>\n",
       "      <th>SK_ID_PREV</th>\n",
       "      <th>SK_ID_CURR</th>\n",
       "      <th>MONTHS_BALANCE</th>\n",
       "      <th>AMT_CREDIT_LIMIT_ACTUAL</th>\n",
       "      <th>CNT_DRAWINGS_CURRENT</th>\n",
       "      <th>is_DPD</th>\n",
       "      <th>is_DPD_DEF</th>\n",
       "    </tr>\n",
       "  </thead>\n",
       "  <tbody>\n",
       "    <tr>\n",
       "      <th>0</th>\n",
       "      <td>2582071</td>\n",
       "      <td>87788</td>\n",
       "      <td>-1</td>\n",
       "      <td>45000</td>\n",
       "      <td>1</td>\n",
       "      <td>0</td>\n",
       "      <td>0</td>\n",
       "    </tr>\n",
       "    <tr>\n",
       "      <th>1</th>\n",
       "      <td>2582071</td>\n",
       "      <td>87788</td>\n",
       "      <td>-82</td>\n",
       "      <td>67500</td>\n",
       "      <td>0</td>\n",
       "      <td>0</td>\n",
       "      <td>0</td>\n",
       "    </tr>\n",
       "    <tr>\n",
       "      <th>2</th>\n",
       "      <td>2582071</td>\n",
       "      <td>87788</td>\n",
       "      <td>-84</td>\n",
       "      <td>67500</td>\n",
       "      <td>0</td>\n",
       "      <td>0</td>\n",
       "      <td>0</td>\n",
       "    </tr>\n",
       "    <tr>\n",
       "      <th>3</th>\n",
       "      <td>2582071</td>\n",
       "      <td>87788</td>\n",
       "      <td>-7</td>\n",
       "      <td>45000</td>\n",
       "      <td>0</td>\n",
       "      <td>0</td>\n",
       "      <td>0</td>\n",
       "    </tr>\n",
       "    <tr>\n",
       "      <th>4</th>\n",
       "      <td>2582071</td>\n",
       "      <td>87788</td>\n",
       "      <td>-59</td>\n",
       "      <td>67500</td>\n",
       "      <td>4</td>\n",
       "      <td>0</td>\n",
       "      <td>0</td>\n",
       "    </tr>\n",
       "  </tbody>\n",
       "</table>\n",
       "</div>"
      ],
      "text/plain": [
       "   SK_ID_PREV  SK_ID_CURR  MONTHS_BALANCE  AMT_CREDIT_LIMIT_ACTUAL  \\\n",
       "0     2582071       87788              -1                    45000   \n",
       "1     2582071       87788             -82                    67500   \n",
       "2     2582071       87788             -84                    67500   \n",
       "3     2582071       87788              -7                    45000   \n",
       "4     2582071       87788             -59                    67500   \n",
       "\n",
       "   CNT_DRAWINGS_CURRENT  is_DPD  is_DPD_DEF  \n",
       "0                     1       0           0  \n",
       "1                     0       0           0  \n",
       "2                     0       0           0  \n",
       "3                     0       0           0  \n",
       "4                     4       0           0  "
      ]
     },
     "execution_count": 18,
     "metadata": {},
     "output_type": "execute_result"
    }
   ],
   "source": [
    "# Create a new DataFrame containing specific columns from the original pdf_data DataFrame\n",
    "pdf_num = credit_card_balance[[\"SK_ID_PREV\", \"SK_ID_CURR\"] + ls_num].copy()\n",
    "\n",
    "pdf_num.head()"
   ]
  },
  {
   "cell_type": "code",
   "execution_count": 19,
   "metadata": {},
   "outputs": [],
   "source": [
    "# Reverse the sign of the \"MONTHS_BALANCE\" column in the pdf_num DataFrame\n",
    "pdf_num[\"MONTHS_BALANCE\"] = pdf_num[\"MONTHS_BALANCE\"] * -1"
   ]
  },
  {
   "cell_type": "code",
   "execution_count": 20,
   "metadata": {},
   "outputs": [
    {
     "data": {
      "text/plain": [
       "{'MONTHS_BALANCE': ['max', 'min', 'sum', 'mean', 'std'],\n",
       " 'AMT_CREDIT_LIMIT_ACTUAL': ['max', 'min', 'sum', 'mean', 'std'],\n",
       " 'CNT_DRAWINGS_CURRENT': ['max', 'min', 'sum', 'mean', 'std'],\n",
       " 'is_DPD': ['max', 'min', 'sum', 'mean', 'std'],\n",
       " 'is_DPD_DEF': ['max', 'min', 'sum', 'mean', 'std']}"
      ]
     },
     "metadata": {},
     "output_type": "display_data"
    },
    {
     "name": "stdout",
     "output_type": "stream",
     "text": [
      "After agg: (86905, 25)\n"
     ]
    }
   ],
   "source": [
    "# Aggregate data\n",
    "pdf_agg02 = agg_common_data(pdf_num[[\"SK_ID_CURR\"] + ls_num], [\"max\", \"min\", \"sum\", \"mean\", \"std\"], main_key=\"SK_ID_CURR\")\n",
    "\n",
    "# Evaluate features of the aggregated data and save the results in the eval_agg02 variable\n",
    "eval_agg02 = feature_evaluate(application_train_filtered, pdf_agg02)"
   ]
  },
  {
   "cell_type": "code",
   "execution_count": 21,
   "metadata": {},
   "outputs": [
    {
     "data": {
      "text/html": [
       "<div>\n",
       "<style scoped>\n",
       "    .dataframe tbody tr th:only-of-type {\n",
       "        vertical-align: middle;\n",
       "    }\n",
       "\n",
       "    .dataframe tbody tr th {\n",
       "        vertical-align: top;\n",
       "    }\n",
       "\n",
       "    .dataframe thead th {\n",
       "        text-align: right;\n",
       "    }\n",
       "</style>\n",
       "<table border=\"1\" class=\"dataframe\">\n",
       "  <thead>\n",
       "    <tr style=\"text-align: right;\">\n",
       "      <th></th>\n",
       "      <th>name</th>\n",
       "      <th>auc</th>\n",
       "      <th>corr</th>\n",
       "      <th>coverage</th>\n",
       "    </tr>\n",
       "  </thead>\n",
       "  <tbody>\n",
       "    <tr>\n",
       "      <th>14</th>\n",
       "      <td>CNT_DRAWINGS_CURRENT_std</td>\n",
       "      <td>0.626664</td>\n",
       "      <td>0.113388</td>\n",
       "      <td>0.992666</td>\n",
       "    </tr>\n",
       "    <tr>\n",
       "      <th>13</th>\n",
       "      <td>CNT_DRAWINGS_CURRENT_mean</td>\n",
       "      <td>0.625881</td>\n",
       "      <td>0.086031</td>\n",
       "      <td>1.000000</td>\n",
       "    </tr>\n",
       "    <tr>\n",
       "      <th>10</th>\n",
       "      <td>CNT_DRAWINGS_CURRENT_max</td>\n",
       "      <td>0.615330</td>\n",
       "      <td>0.105650</td>\n",
       "      <td>1.000000</td>\n",
       "    </tr>\n",
       "    <tr>\n",
       "      <th>12</th>\n",
       "      <td>CNT_DRAWINGS_CURRENT_sum</td>\n",
       "      <td>0.596246</td>\n",
       "      <td>0.053039</td>\n",
       "      <td>1.000000</td>\n",
       "    </tr>\n",
       "    <tr>\n",
       "      <th>3</th>\n",
       "      <td>MONTHS_BALANCE_mean</td>\n",
       "      <td>0.562136</td>\n",
       "      <td>-0.060900</td>\n",
       "      <td>1.000000</td>\n",
       "    </tr>\n",
       "    <tr>\n",
       "      <th>0</th>\n",
       "      <td>MONTHS_BALANCE_max</td>\n",
       "      <td>0.560056</td>\n",
       "      <td>-0.060163</td>\n",
       "      <td>1.000000</td>\n",
       "    </tr>\n",
       "    <tr>\n",
       "      <th>2</th>\n",
       "      <td>MONTHS_BALANCE_sum</td>\n",
       "      <td>0.559231</td>\n",
       "      <td>-0.057900</td>\n",
       "      <td>1.000000</td>\n",
       "    </tr>\n",
       "    <tr>\n",
       "      <th>4</th>\n",
       "      <td>MONTHS_BALANCE_std</td>\n",
       "      <td>0.557682</td>\n",
       "      <td>-0.059378</td>\n",
       "      <td>0.992666</td>\n",
       "    </tr>\n",
       "    <tr>\n",
       "      <th>7</th>\n",
       "      <td>AMT_CREDIT_LIMIT_ACTUAL_sum</td>\n",
       "      <td>0.549694</td>\n",
       "      <td>-0.046390</td>\n",
       "      <td>1.000000</td>\n",
       "    </tr>\n",
       "    <tr>\n",
       "      <th>1</th>\n",
       "      <td>MONTHS_BALANCE_min</td>\n",
       "      <td>0.523282</td>\n",
       "      <td>-0.028148</td>\n",
       "      <td>1.000000</td>\n",
       "    </tr>\n",
       "    <tr>\n",
       "      <th>6</th>\n",
       "      <td>AMT_CREDIT_LIMIT_ACTUAL_min</td>\n",
       "      <td>0.515987</td>\n",
       "      <td>-0.001930</td>\n",
       "      <td>1.000000</td>\n",
       "    </tr>\n",
       "    <tr>\n",
       "      <th>9</th>\n",
       "      <td>AMT_CREDIT_LIMIT_ACTUAL_std</td>\n",
       "      <td>0.515086</td>\n",
       "      <td>-0.011752</td>\n",
       "      <td>0.992666</td>\n",
       "    </tr>\n",
       "    <tr>\n",
       "      <th>11</th>\n",
       "      <td>CNT_DRAWINGS_CURRENT_min</td>\n",
       "      <td>0.513259</td>\n",
       "      <td>0.025588</td>\n",
       "      <td>1.000000</td>\n",
       "    </tr>\n",
       "    <tr>\n",
       "      <th>22</th>\n",
       "      <td>is_DPD_DEF_sum</td>\n",
       "      <td>0.507732</td>\n",
       "      <td>-0.005962</td>\n",
       "      <td>1.000000</td>\n",
       "    </tr>\n",
       "    <tr>\n",
       "      <th>20</th>\n",
       "      <td>is_DPD_DEF_max</td>\n",
       "      <td>0.507592</td>\n",
       "      <td>-0.011300</td>\n",
       "      <td>1.000000</td>\n",
       "    </tr>\n",
       "    <tr>\n",
       "      <th>23</th>\n",
       "      <td>is_DPD_DEF_mean</td>\n",
       "      <td>0.505916</td>\n",
       "      <td>0.008247</td>\n",
       "      <td>1.000000</td>\n",
       "    </tr>\n",
       "    <tr>\n",
       "      <th>5</th>\n",
       "      <td>AMT_CREDIT_LIMIT_ACTUAL_max</td>\n",
       "      <td>0.505891</td>\n",
       "      <td>-0.012213</td>\n",
       "      <td>1.000000</td>\n",
       "    </tr>\n",
       "    <tr>\n",
       "      <th>24</th>\n",
       "      <td>is_DPD_DEF_std</td>\n",
       "      <td>0.505722</td>\n",
       "      <td>0.001510</td>\n",
       "      <td>0.992666</td>\n",
       "    </tr>\n",
       "    <tr>\n",
       "      <th>17</th>\n",
       "      <td>is_DPD_sum</td>\n",
       "      <td>0.505637</td>\n",
       "      <td>-0.012196</td>\n",
       "      <td>1.000000</td>\n",
       "    </tr>\n",
       "    <tr>\n",
       "      <th>15</th>\n",
       "      <td>is_DPD_max</td>\n",
       "      <td>0.504068</td>\n",
       "      <td>-0.005652</td>\n",
       "      <td>1.000000</td>\n",
       "    </tr>\n",
       "    <tr>\n",
       "      <th>18</th>\n",
       "      <td>is_DPD_mean</td>\n",
       "      <td>0.502226</td>\n",
       "      <td>0.000328</td>\n",
       "      <td>1.000000</td>\n",
       "    </tr>\n",
       "    <tr>\n",
       "      <th>19</th>\n",
       "      <td>is_DPD_std</td>\n",
       "      <td>0.501874</td>\n",
       "      <td>0.004011</td>\n",
       "      <td>0.992666</td>\n",
       "    </tr>\n",
       "    <tr>\n",
       "      <th>8</th>\n",
       "      <td>AMT_CREDIT_LIMIT_ACTUAL_mean</td>\n",
       "      <td>0.500795</td>\n",
       "      <td>-0.010023</td>\n",
       "      <td>1.000000</td>\n",
       "    </tr>\n",
       "    <tr>\n",
       "      <th>21</th>\n",
       "      <td>is_DPD_DEF_min</td>\n",
       "      <td>0.500000</td>\n",
       "      <td>NaN</td>\n",
       "      <td>1.000000</td>\n",
       "    </tr>\n",
       "    <tr>\n",
       "      <th>16</th>\n",
       "      <td>is_DPD_min</td>\n",
       "      <td>0.500000</td>\n",
       "      <td>NaN</td>\n",
       "      <td>1.000000</td>\n",
       "    </tr>\n",
       "  </tbody>\n",
       "</table>\n",
       "</div>"
      ],
      "text/plain": [
       "                            name       auc      corr  coverage\n",
       "14      CNT_DRAWINGS_CURRENT_std  0.626664  0.113388  0.992666\n",
       "13     CNT_DRAWINGS_CURRENT_mean  0.625881  0.086031  1.000000\n",
       "10      CNT_DRAWINGS_CURRENT_max  0.615330  0.105650  1.000000\n",
       "12      CNT_DRAWINGS_CURRENT_sum  0.596246  0.053039  1.000000\n",
       "3            MONTHS_BALANCE_mean  0.562136 -0.060900  1.000000\n",
       "0             MONTHS_BALANCE_max  0.560056 -0.060163  1.000000\n",
       "2             MONTHS_BALANCE_sum  0.559231 -0.057900  1.000000\n",
       "4             MONTHS_BALANCE_std  0.557682 -0.059378  0.992666\n",
       "7    AMT_CREDIT_LIMIT_ACTUAL_sum  0.549694 -0.046390  1.000000\n",
       "1             MONTHS_BALANCE_min  0.523282 -0.028148  1.000000\n",
       "6    AMT_CREDIT_LIMIT_ACTUAL_min  0.515987 -0.001930  1.000000\n",
       "9    AMT_CREDIT_LIMIT_ACTUAL_std  0.515086 -0.011752  0.992666\n",
       "11      CNT_DRAWINGS_CURRENT_min  0.513259  0.025588  1.000000\n",
       "22                is_DPD_DEF_sum  0.507732 -0.005962  1.000000\n",
       "20                is_DPD_DEF_max  0.507592 -0.011300  1.000000\n",
       "23               is_DPD_DEF_mean  0.505916  0.008247  1.000000\n",
       "5    AMT_CREDIT_LIMIT_ACTUAL_max  0.505891 -0.012213  1.000000\n",
       "24                is_DPD_DEF_std  0.505722  0.001510  0.992666\n",
       "17                    is_DPD_sum  0.505637 -0.012196  1.000000\n",
       "15                    is_DPD_max  0.504068 -0.005652  1.000000\n",
       "18                   is_DPD_mean  0.502226  0.000328  1.000000\n",
       "19                    is_DPD_std  0.501874  0.004011  0.992666\n",
       "8   AMT_CREDIT_LIMIT_ACTUAL_mean  0.500795 -0.010023  1.000000\n",
       "21                is_DPD_DEF_min  0.500000       NaN  1.000000\n",
       "16                    is_DPD_min  0.500000       NaN  1.000000"
      ]
     },
     "execution_count": 21,
     "metadata": {},
     "output_type": "execute_result"
    }
   ],
   "source": [
    "eval_agg02"
   ]
  },
  {
   "cell_type": "markdown",
   "metadata": {},
   "source": [
    "#### Continuous features"
   ]
  },
  {
   "cell_type": "code",
   "execution_count": 22,
   "metadata": {},
   "outputs": [
    {
     "data": {
      "text/plain": [
       "['AMT_BALANCE',\n",
       " 'AMT_DRAWINGS_ATM_CURRENT',\n",
       " 'AMT_DRAWINGS_CURRENT',\n",
       " 'AMT_DRAWINGS_OTHER_CURRENT',\n",
       " 'AMT_DRAWINGS_POS_CURRENT',\n",
       " 'AMT_INST_MIN_REGULARITY',\n",
       " 'AMT_PAYMENT_CURRENT',\n",
       " 'AMT_PAYMENT_TOTAL_CURRENT',\n",
       " 'AMT_RECEIVABLE_PRINCIPAL',\n",
       " 'AMT_RECIVABLE',\n",
       " 'AMT_TOTAL_RECEIVABLE',\n",
       " 'CNT_DRAWINGS_ATM_CURRENT',\n",
       " 'CNT_DRAWINGS_OTHER_CURRENT',\n",
       " 'CNT_DRAWINGS_POS_CURRENT',\n",
       " 'CNT_INSTALMENT_MATURE_CUM']"
      ]
     },
     "execution_count": 22,
     "metadata": {},
     "output_type": "execute_result"
    }
   ],
   "source": [
    "# get list continuous attributes\n",
    "series_type = credit_card_balance.dtypes\n",
    "ls_con = series_type[series_type == \"float64\"].index.tolist()\n",
    "ls_con"
   ]
  },
  {
   "cell_type": "code",
   "execution_count": 23,
   "metadata": {},
   "outputs": [
    {
     "name": "stdout",
     "output_type": "stream",
     "text": [
      "(3227965, 17)\n"
     ]
    }
   ],
   "source": [
    "# Create a new DataFrame containing specific columns from the original pdf_data DataFrame\n",
    "pdf_con = credit_card_balance[[\"SK_ID_PREV\", \"SK_ID_CURR\"] + ls_con].copy()\n",
    "\n",
    "print(pdf_con.shape)"
   ]
  },
  {
   "cell_type": "code",
   "execution_count": 24,
   "metadata": {},
   "outputs": [
    {
     "data": {
      "text/plain": [
       "{'AMT_BALANCE': ['max', 'min', 'sum', 'mean', 'std'],\n",
       " 'AMT_DRAWINGS_ATM_CURRENT': ['max', 'min', 'sum', 'mean', 'std'],\n",
       " 'AMT_DRAWINGS_CURRENT': ['max', 'min', 'sum', 'mean', 'std'],\n",
       " 'AMT_DRAWINGS_OTHER_CURRENT': ['max', 'min', 'sum', 'mean', 'std'],\n",
       " 'AMT_DRAWINGS_POS_CURRENT': ['max', 'min', 'sum', 'mean', 'std'],\n",
       " 'AMT_INST_MIN_REGULARITY': ['max', 'min', 'sum', 'mean', 'std'],\n",
       " 'AMT_PAYMENT_CURRENT': ['max', 'min', 'sum', 'mean', 'std'],\n",
       " 'AMT_PAYMENT_TOTAL_CURRENT': ['max', 'min', 'sum', 'mean', 'std'],\n",
       " 'AMT_RECEIVABLE_PRINCIPAL': ['max', 'min', 'sum', 'mean', 'std'],\n",
       " 'AMT_RECIVABLE': ['max', 'min', 'sum', 'mean', 'std'],\n",
       " 'AMT_TOTAL_RECEIVABLE': ['max', 'min', 'sum', 'mean', 'std'],\n",
       " 'CNT_DRAWINGS_ATM_CURRENT': ['max', 'min', 'sum', 'mean', 'std'],\n",
       " 'CNT_DRAWINGS_OTHER_CURRENT': ['max', 'min', 'sum', 'mean', 'std'],\n",
       " 'CNT_DRAWINGS_POS_CURRENT': ['max', 'min', 'sum', 'mean', 'std'],\n",
       " 'CNT_INSTALMENT_MATURE_CUM': ['max', 'min', 'sum', 'mean', 'std']}"
      ]
     },
     "metadata": {},
     "output_type": "display_data"
    },
    {
     "name": "stdout",
     "output_type": "stream",
     "text": [
      "After agg: (86905, 75)\n"
     ]
    }
   ],
   "source": [
    "# Aggregate data\n",
    "pdf_agg03 = agg_common_data(pdf_con[[\"SK_ID_CURR\"] + ls_con], [\"max\", \"min\", \"sum\", \"mean\", \"std\"], main_key=\"SK_ID_CURR\")\n",
    "\n",
    "# Evaluate features of the aggregated data and save the results in the eval_agg03 variable\n",
    "eval_agg03 = feature_evaluate(application_train_filtered, pdf_agg03)\n"
   ]
  },
  {
   "cell_type": "code",
   "execution_count": 25,
   "metadata": {},
   "outputs": [
    {
     "data": {
      "text/html": [
       "<div>\n",
       "<style scoped>\n",
       "    .dataframe tbody tr th:only-of-type {\n",
       "        vertical-align: middle;\n",
       "    }\n",
       "\n",
       "    .dataframe tbody tr th {\n",
       "        vertical-align: top;\n",
       "    }\n",
       "\n",
       "    .dataframe thead th {\n",
       "        text-align: right;\n",
       "    }\n",
       "</style>\n",
       "<table border=\"1\" class=\"dataframe\">\n",
       "  <thead>\n",
       "    <tr style=\"text-align: right;\">\n",
       "      <th></th>\n",
       "      <th>name</th>\n",
       "      <th>auc</th>\n",
       "      <th>corr</th>\n",
       "      <th>coverage</th>\n",
       "    </tr>\n",
       "  </thead>\n",
       "  <tbody>\n",
       "    <tr>\n",
       "      <th>58</th>\n",
       "      <td>CNT_DRAWINGS_ATM_CURRENT_mean</td>\n",
       "      <td>0.620115</td>\n",
       "      <td>0.117511</td>\n",
       "      <td>1.000000</td>\n",
       "    </tr>\n",
       "    <tr>\n",
       "      <th>59</th>\n",
       "      <td>CNT_DRAWINGS_ATM_CURRENT_std</td>\n",
       "      <td>0.615169</td>\n",
       "      <td>0.119314</td>\n",
       "      <td>0.992666</td>\n",
       "    </tr>\n",
       "    <tr>\n",
       "      <th>3</th>\n",
       "      <td>AMT_BALANCE_mean</td>\n",
       "      <td>0.609751</td>\n",
       "      <td>0.091940</td>\n",
       "      <td>1.000000</td>\n",
       "    </tr>\n",
       "    <tr>\n",
       "      <th>13</th>\n",
       "      <td>AMT_DRAWINGS_CURRENT_mean</td>\n",
       "      <td>0.609688</td>\n",
       "      <td>0.057302</td>\n",
       "      <td>1.000000</td>\n",
       "    </tr>\n",
       "    <tr>\n",
       "      <th>43</th>\n",
       "      <td>AMT_RECEIVABLE_PRINCIPAL_mean</td>\n",
       "      <td>0.608929</td>\n",
       "      <td>0.090737</td>\n",
       "      <td>1.000000</td>\n",
       "    </tr>\n",
       "    <tr>\n",
       "      <th>...</th>\n",
       "      <td>...</td>\n",
       "      <td>...</td>\n",
       "      <td>...</td>\n",
       "      <td>...</td>\n",
       "    </tr>\n",
       "    <tr>\n",
       "      <th>62</th>\n",
       "      <td>CNT_DRAWINGS_OTHER_CURRENT_sum</td>\n",
       "      <td>0.501715</td>\n",
       "      <td>-0.003638</td>\n",
       "      <td>1.000000</td>\n",
       "    </tr>\n",
       "    <tr>\n",
       "      <th>26</th>\n",
       "      <td>AMT_INST_MIN_REGULARITY_min</td>\n",
       "      <td>0.500203</td>\n",
       "      <td>0.002546</td>\n",
       "      <td>1.000000</td>\n",
       "    </tr>\n",
       "    <tr>\n",
       "      <th>31</th>\n",
       "      <td>AMT_PAYMENT_CURRENT_min</td>\n",
       "      <td>0.500091</td>\n",
       "      <td>-0.000185</td>\n",
       "      <td>1.000000</td>\n",
       "    </tr>\n",
       "    <tr>\n",
       "      <th>16</th>\n",
       "      <td>AMT_DRAWINGS_OTHER_CURRENT_min</td>\n",
       "      <td>0.500022</td>\n",
       "      <td>-0.001518</td>\n",
       "      <td>1.000000</td>\n",
       "    </tr>\n",
       "    <tr>\n",
       "      <th>61</th>\n",
       "      <td>CNT_DRAWINGS_OTHER_CURRENT_min</td>\n",
       "      <td>0.500022</td>\n",
       "      <td>-0.001959</td>\n",
       "      <td>1.000000</td>\n",
       "    </tr>\n",
       "  </tbody>\n",
       "</table>\n",
       "<p>75 rows × 4 columns</p>\n",
       "</div>"
      ],
      "text/plain": [
       "                              name       auc      corr  coverage\n",
       "58   CNT_DRAWINGS_ATM_CURRENT_mean  0.620115  0.117511  1.000000\n",
       "59    CNT_DRAWINGS_ATM_CURRENT_std  0.615169  0.119314  0.992666\n",
       "3                 AMT_BALANCE_mean  0.609751  0.091940  1.000000\n",
       "13       AMT_DRAWINGS_CURRENT_mean  0.609688  0.057302  1.000000\n",
       "43   AMT_RECEIVABLE_PRINCIPAL_mean  0.608929  0.090737  1.000000\n",
       "..                             ...       ...       ...       ...\n",
       "62  CNT_DRAWINGS_OTHER_CURRENT_sum  0.501715 -0.003638  1.000000\n",
       "26     AMT_INST_MIN_REGULARITY_min  0.500203  0.002546  1.000000\n",
       "31         AMT_PAYMENT_CURRENT_min  0.500091 -0.000185  1.000000\n",
       "16  AMT_DRAWINGS_OTHER_CURRENT_min  0.500022 -0.001518  1.000000\n",
       "61  CNT_DRAWINGS_OTHER_CURRENT_min  0.500022 -0.001959  1.000000\n",
       "\n",
       "[75 rows x 4 columns]"
      ]
     },
     "execution_count": 25,
     "metadata": {},
     "output_type": "execute_result"
    }
   ],
   "source": [
    "eval_agg03"
   ]
  },
  {
   "cell_type": "code",
   "execution_count": 26,
   "metadata": {},
   "outputs": [
    {
     "name": "stdout",
     "output_type": "stream",
     "text": [
      "(4, 4)\n"
     ]
    }
   ],
   "source": [
    "# Filter features with AUC (Area Under the ROC Curve) less than or equal to 0.501 and measure the size of the result\n",
    "filtered_features_agg03 = eval_agg03.query(\"auc <= 0.501\")\n",
    "print(filtered_features_agg03.shape)\n"
   ]
  },
  {
   "cell_type": "markdown",
   "metadata": {},
   "source": [
    "#### Save features"
   ]
  },
  {
   "cell_type": "code",
   "execution_count": 27,
   "metadata": {},
   "outputs": [
    {
     "name": "stdout",
     "output_type": "stream",
     "text": [
      "(86905, 111)\n"
     ]
    }
   ],
   "source": [
    "# Combine the DataFrames pdf_agg01, pdf_agg02, and pdf_agg03 into a new DataFrame pdf_feat\n",
    "pdf_feat = pdf_agg01.join(pdf_agg02).join(pdf_agg03)\n",
    "\n",
    "print(pdf_feat.shape)"
   ]
  },
  {
   "cell_type": "code",
   "execution_count": 28,
   "metadata": {},
   "outputs": [
    {
     "name": "stdout",
     "output_type": "stream",
     "text": [
      "Store features completed!\n"
     ]
    }
   ],
   "source": [
    "fname = \"credit_card_balance\"\n",
    "fname = os.path.join(\"features\", \"{}.pkl.bz2\".format(fname))\n",
    "pdf_feat.to_pickle(fname, compression=\"bz2\")\n",
    "print(\"Store features completed!\")"
   ]
  }
 ],
 "metadata": {
  "kernelspec": {
   "display_name": "base",
   "language": "python",
   "name": "python3"
  },
  "language_info": {
   "codemirror_mode": {
    "name": "ipython",
    "version": 3
   },
   "file_extension": ".py",
   "mimetype": "text/x-python",
   "name": "python",
   "nbconvert_exporter": "python",
   "pygments_lexer": "ipython3",
   "version": "3.9.12"
  }
 },
 "nbformat": 4,
 "nbformat_minor": 2
}
